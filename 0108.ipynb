{
  "nbformat": 4,
  "nbformat_minor": 0,
  "metadata": {
    "colab": {
      "provenance": [],
      "include_colab_link": true
    },
    "kernelspec": {
      "name": "python3",
      "display_name": "Python 3"
    },
    "language_info": {
      "name": "python"
    }
  },
  "cells": [
    {
      "cell_type": "markdown",
      "metadata": {
        "id": "view-in-github",
        "colab_type": "text"
      },
      "source": [
        "<a href=\"https://colab.research.google.com/github/shlee0619/workStats/blob/main/0108.ipynb\" target=\"_parent\"><img src=\"https://colab.research.google.com/assets/colab-badge.svg\" alt=\"Open In Colab\"/></a>"
      ]
    },
    {
      "cell_type": "code",
      "source": [
        "import cv2\n",
        "import numpy as np\n",
        "import matplotlib.pyplot as plt\n",
        "import argparse"
      ],
      "metadata": {
        "id": "-0cefdcWSN5t"
      },
      "execution_count": null,
      "outputs": []
    },
    {
      "cell_type": "code",
      "execution_count": null,
      "metadata": {
        "id": "NrpklK9BRzob"
      },
      "outputs": [],
      "source": [
        "# 템플릿 매칭\n",
        "\n",
        "# 입력영상\n",
        "img = cv2.imread('./data/circuit.bmp', cv2.IMREAD_COLOR)\n",
        "# 템플릿영상\n",
        "templ = cv2.imread('./data/crystal.bmp', cv2.IMREAD_COLOR)\n",
        "# 입력영상 밝기 증가\n",
        "img = img + (50, 50, 50)\n",
        "# 표준편차 10인 가우시안 잡음 추가\n",
        "noise = np.zeros(img.shape, np.int32)\n",
        "cv2.randn(noise, 0, 10)\n",
        "img = cv2.add(img, noise, dtype=cv2.CV_8UC3)\n",
        "# Normalization 적용 후 영상 저장\n",
        "res = cv2.matchTemplate(img, templ, cv2.TM_CCOEFF_NORMED)\n",
        "# res = cv2.matchTemplate(img, templ, cv2.TM_SQDIFF)\n",
        "res_norm = cv2.normalize(res, None, 0, 255, cv2.NORM_MINMAX, cv2.CV_8U)\n",
        "# 결과 행렬에서 최댓값 위치 저장 후 확인\n",
        "print(cv2.minMaxLoc(res))\n",
        "minv, maxv, minloc, maxloc = cv2.minMaxLoc(res)\n",
        "print('maxv:', maxv)\n",
        "# print('minv:', minv)\n",
        "\n",
        "(th, tw) = templ.shape[:2]\n",
        "cv2.rectangle(img, maxloc, (maxloc[0] + tw, maxloc[1] + th), (0, 0, 255), 3)\n",
        "\n",
        "cv2.imshow('Original', img)\n",
        "cv2.imshow('Template', templ)\n",
        "# cv2.imshow('res_norm', res_norm)\n",
        "\n",
        "cv2.waitKey()\n",
        "cv2.destroyAllWindows()"
      ]
    },
    {
      "cell_type": "code",
      "source": [
        "# 연결요소 찾기 = 레이블링\n",
        "# 입력 영상\n",
        "src = np.array([[0, 0, 1, 1, 0, 0, 0, 0],\n",
        "                [1, 1, 1, 1, 0, 0, 1, 0],\n",
        "                [1, 1, 1, 1, 0, 0, 0, 0],\n",
        "                [0, 0, 0, 0, 0, 1, 1, 0],\n",
        "                [0, 0, 0, 1, 1, 1, 1, 0],\n",
        "                [0, 0, 0, 1, 0, 0, 1, 0],\n",
        "                [0, 0, 1, 1, 1, 1, 1, 0],\n",
        "                [0, 0, 0, 0, 0, 0, 0, 0]]).astype(np.uint8)\n",
        "\n",
        "src = src * 255\n",
        "\n",
        "cnt, labels = cv2.connectedComponents(src)\n",
        "\n",
        "print('src:'),\n",
        "print(src)\n",
        "print('labels:')\n",
        "print(labels)\n",
        "print('number of labels:', cnt)"
      ],
      "metadata": {
        "id": "v5LULhbGSGF6"
      },
      "execution_count": null,
      "outputs": []
    },
    {
      "cell_type": "code",
      "source": [
        "# 레이블링 응용\n",
        "src = cv2.imread('./data/keyboard.bmp', cv2.IMREAD_GRAYSCALE)\n",
        "# 오츠 이진화\n",
        "_, src_bin = cv2.threshold(src, 0, 255, cv2.THRESH_BINARY | cv2.THRESH_OTSU)\n",
        "# 각 객체 영역의 통계 정보\n",
        "cnt, labels, stats, centroids = cv2.connectedComponentsWithStats(src_bin)\n",
        "# 3채널 영상 변환\n",
        "dst = cv2.cvtColor(src, cv2.COLOR_GRAY2BGR)\n",
        "# 흰색 객체 영역 반복\n",
        "for i in range(1, cnt):\n",
        "    (x, y, w, h, area) = stats[i]\n",
        "    # 픽셀 개수가 20보다 작으면 무시\n",
        "    if area < 20:\n",
        "        continue\n",
        "    # 검출된 객체에 사각형 그리기\n",
        "    pt1 = (x, y)\n",
        "    pt2 = (x + w, y + h)\n",
        "    cv2.rectangle(dst, pt1, pt2, (0, 0, 255))\n",
        "\n",
        "cv2.imshow('src', src)\n",
        "cv2.imshow('dst', dst)\n",
        "\n",
        "cv2.waitKey()\n",
        "cv2.destroyAllWindows()"
      ],
      "metadata": {
        "id": "RTaQUhqJXA0B"
      },
      "execution_count": null,
      "outputs": []
    }
  ]
}