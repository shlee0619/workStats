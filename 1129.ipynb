{
  "nbformat": 4,
  "nbformat_minor": 0,
  "metadata": {
    "colab": {
      "provenance": [],
      "include_colab_link": true
    },
    "kernelspec": {
      "name": "python3",
      "display_name": "Python 3"
    },
    "language_info": {
      "name": "python"
    }
  },
  "cells": [
    {
      "cell_type": "markdown",
      "metadata": {
        "id": "view-in-github",
        "colab_type": "text"
      },
      "source": [
        "<a href=\"https://colab.research.google.com/github/shlee0619/workStats/blob/main/1129.ipynb\" target=\"_parent\"><img src=\"https://colab.research.google.com/assets/colab-badge.svg\" alt=\"Open In Colab\"/></a>"
      ]
    },
    {
      "cell_type": "code",
      "execution_count": null,
      "metadata": {
        "id": "sZhT-Ihrm_Tn"
      },
      "outputs": [],
      "source": [
        "# 주석 = shift + ctrl + c\n",
        "# 할당 연산자 = alt + -\n",
        "# 명령어 실행 = ctrl + enter\n",
        "a <- 1\n",
        "a = 1"
      ]
    },
    {
      "cell_type": "code",
      "source": [
        "#\n",
        "a <- 1\n",
        "b <- 2\n",
        "c <- 3\n",
        "d <- 4\n",
        "# 사칙연산\n",
        "a+b\n",
        "c-d\n",
        "b*d\n",
        "d/b"
      ],
      "metadata": {
        "id": "oDb5UU7zrr5s"
      },
      "execution_count": null,
      "outputs": []
    },
    {
      "cell_type": "code",
      "source": [
        "# combine 함수: 여러 개의 값을 저장\n",
        "# 벡터 vector\n",
        "v <- c(1,5,7,9,2)\n",
        "v\n",
        "v1 <- c(1,2,3,4,5)\n",
        "v1\n",
        "v2 <- c(1:5)\n",
        "v2\n",
        "v+v1\n",
        "v6 <- c(2,4,6)\n",
        "v6\n",
        "v+v6"
      ],
      "metadata": {
        "id": "MjczsWdTv_Il"
      },
      "execution_count": null,
      "outputs": []
    },
    {
      "cell_type": "code",
      "source": [
        "# sequence 함수: 연속적인 숫자 값을 저장, 특정 규칙에 따라 연속적인 값을 저장\n",
        "v3 <- seq(1,5)\n",
        "v3\n",
        "v4 <- seq(0,10,by=2)\n",
        "v4\n",
        "v5 <- seq(1,10,by=2)\n",
        "v5"
      ],
      "metadata": {
        "id": "NdTpiS9uxDAr"
      },
      "execution_count": null,
      "outputs": []
    },
    {
      "cell_type": "code",
      "source": [
        "# 연산\n",
        "v1\n",
        "v1 + 2\n",
        "v1 - 1"
      ],
      "metadata": {
        "id": "_-TsVDr8xxsz"
      },
      "execution_count": null,
      "outputs": []
    },
    {
      "cell_type": "code",
      "source": [
        "# 문자\n",
        "# string = 문자열\n",
        "str1 <- \"k\"\n",
        "str1\n",
        "str2 <- \"text\"\n",
        "str2\n",
        "str3 <- c(\"a\",\"b\",\"c\")\n",
        "str3\n",
        "str4 <- c(\"Hello!\",\"World\",\"is\",\"good!\")\n",
        "str4\n",
        "paste(\"Hello!\",\"World\",\"is\",\"good!\")\n",
        "paste0(\"Hello!\",\"World\",\"is\",\"good!\")\n",
        "paste(str4,collapse = \" \")\n",
        "paste(str4,collapse = \"_\")\n",
        "#\n",
        "str1 + 1"
      ],
      "metadata": {
        "id": "ReBK3AzexyYT"
      },
      "execution_count": null,
      "outputs": []
    },
    {
      "cell_type": "code",
      "source": [
        "# 숫자 데이터 = 연속형 변수 = 평균\n",
        "mean(v1)\n",
        "# 문자 데이터 = 범주형 변수 = 빈도\n",
        "table(str3)"
      ],
      "metadata": {
        "id": "aWosZgSUyHFs"
      },
      "execution_count": null,
      "outputs": []
    },
    {
      "cell_type": "code",
      "source": [
        "# 대괄호: []\n",
        "# 중괄호: {}\n",
        "# 소괄호: ()\n",
        "# 알파벳 추출\n",
        "# 인덱스: 데이터 위치\n",
        "# 인덱싱: 인덱스를 이용해 데이터 추출 작업\n",
        "LETTERS[1:5]\n",
        "LETTERS[c(1,20)]\n",
        "letters[1:5]\n",
        "letters[c(11,15)]\n",
        "#"
      ],
      "metadata": {
        "id": "cuyp3q8V36SU"
      },
      "execution_count": null,
      "outputs": []
    },
    {
      "cell_type": "code",
      "source": [
        "# 4 + 6\n",
        "4 + 6\n",
        "# 제곱 = ^2 = **2\n",
        "2^2\n",
        "2**2\n",
        "# 세제곱 = ^3 = **3\n",
        "2^3\n",
        "2**3\n",
        "#\n",
        "(3+5)**2\n",
        "(3+5)^2\n",
        "(3+5)**2/17+21\n",
        "(3+5)**2/(17+21)\n",
        "#"
      ],
      "metadata": {
        "id": "WW8D2SdC4u17"
      },
      "execution_count": null,
      "outputs": []
    },
    {
      "cell_type": "code",
      "source": [
        "correct <- c(8,6,5,8,7,8,9,6,10,8)\n",
        "ls()\n",
        "ls(pattern = \"c\")\n",
        "correct\n",
        "# 콘솔 내용 지우기 = ctrl + l\n",
        "#"
      ],
      "metadata": {
        "id": "U66eoBMq6hYj"
      },
      "execution_count": null,
      "outputs": []
    },
    {
      "cell_type": "code",
      "source": [
        "# 객체 지우기\n",
        "# 1) 메뉴에서 Session - Clear Workspace...\n",
        "# 2) 우측 상단 Environment 창에서 빗자루 아이콘 클릭\n",
        "data1 <- c(45,56,34,56,25,74,35,68,98,56)\n",
        "data2 <- (7,5,3,6,4,7,6,4,5,9)\n",
        "# data2 생성 에러 수정\n",
        "data2 <- c(7,5,3,6,4,7,6,4,5,9)\n",
        "data3 <- c(1,2,1,2,2,1,2,1,2,2)\n",
        "# 객체 확인\n",
        "ls()\n",
        "# 특정 객체 삭제\n",
        "rm(data2)\n",
        "ls()"
      ],
      "metadata": {
        "id": "1N6-sitS7UvD"
      },
      "execution_count": null,
      "outputs": []
    },
    {
      "cell_type": "code",
      "source": [
        "# 외부 데이터 가져오기\n",
        "# 창으로 선택해서 가져오기\n",
        "file.choose()\n",
        "read.csv(file.choose())\n",
        "# 경로 설정으로 가져오기\n",
        "# 작업 폴더 = 프로젝트 폴더 = ./\n",
        "example <- read.csv(\"./data/csv_exam.csv\")\n",
        "example\n",
        "str(example)\n",
        "#\n",
        "path = \"./data/\"\n",
        "list.files(path)\n",
        "list.files(path, full.names = TRUE)\n",
        "list.files(path, full.names = TRUE, pattern = \"csv_exam\")\n",
        "filenames <- list.files(path, full.names = TRUE)\n",
        "filenames[1]\n",
        "read.csv(filenames[1])\n",
        "filenames2 <- list.files(path, full.names = TRUE, pattern = \"csv_exam\")\n",
        "read.csv(filenames2)\n",
        "#\n",
        "# 간단한 기술통계량 계산하기 = 요약통계량\n",
        "# 연속형 변수에 해당\n",
        "# 최소값 = 0분위수\n",
        "# 1분위수 = 25분위수\n",
        "# 2분위수 = 50분위수 = 중앙값(median)\n",
        "# 3분위수 = 75분위수\n",
        "# 최대값 = 4분위수 = 100분위수\n",
        "# 평균\n",
        "summary(example)\n",
        "# 범주형 변수\n",
        "# 빈도, 비율\n",
        "table(example$class)\n",
        "# 상관계수\n",
        "data2 <- c(7,5,3,6,4,7,6,4,5,9)\n",
        "data1;data2\n",
        "# correlation\n",
        "cor(data1,data2)\n",
        "# 산점도\n",
        "plot(data1,data2)\n",
        "# 패키지 검색\n",
        "# 우하단의 Packages 창에서 검색\n",
        "search()\n",
        "# 패키지는 함수의 묶음\n",
        "# 예) tidyr(데이터 전처리), ggplot2(시각화)"
      ],
      "metadata": {
        "id": "gN2nMHKsAFgr"
      },
      "execution_count": null,
      "outputs": []
    },
    {
      "cell_type": "code",
      "source": [
        "# 내장함수\n",
        "# 데이터 준비하기\n",
        "exam <- read.csv(\"./data/csv_exam.csv\")\n",
        "exam\n",
        "# 데이터 추출\n",
        "# 인덱스: 데이터의 위치(번호, 이름)\n",
        "# 인덱싱: 인덱스로 데이터 추출하는 것\n",
        "# 행과 열 => 행번호, 행이름, 열번호, 열이름\n",
        "# 인덱스 사용법: 데이터[행,열]\n",
        "# 행번호로 행 추출\n",
        "exam[1,]\n",
        "exam[15,]\n",
        "exam[c(1:10),]\n",
        "exam[c(11:20),]\n",
        "exam[seq(1,10),]\n",
        "exam[seq(11,20),]\n",
        "exam[seq(1,20,by=2),]\n",
        "exam[seq(0,20,by=2),]"
      ],
      "metadata": {
        "id": "FUg5ioxmWP68"
      },
      "execution_count": null,
      "outputs": []
    },
    {
      "cell_type": "code",
      "source": [
        "# 조건을 만족하는 행 추출\n",
        "str(exam)\n",
        "# 같다 (==)\n",
        "exam[exam$class == 1,]\n",
        "# 같지않다 (!=)\n",
        "exam[exam$class != 1,]\n",
        "# 크다 = 초과 (>)\n",
        "exam[exam$english > 97,]\n",
        "# 크거나 같다 = 이상 (>=)\n",
        "exam[exam$english >= 97,]\n",
        "# 작다 = 미만 (<)\n",
        "exam[exam$math < 50,]\n",
        "# 작거나 같다 = 이하 (<=)\n",
        "exam[exam$math <= 50,]\n",
        "# 조건 두 개 이상\n",
        "# and\n",
        "exam[exam$class == 3 & exam$science >= 50,]\n",
        "# or\n",
        "exam[exam$math > 70 | exam$science <=  30,]\n",
        "#"
      ],
      "metadata": {
        "id": "CBoiCxYDXlVM"
      },
      "execution_count": null,
      "outputs": []
    },
    {
      "cell_type": "code",
      "source": [
        "# 열번호로 열 추출\n",
        "str(exam)\n",
        "#\n",
        "exam[,1] # id\n",
        "exam[,2] # class\n",
        "exam[,3] # math\n",
        "exam[,4] # english\n",
        "exam[,5] # science\n",
        "exam[,6]\n",
        "# 열 번호로 여러개 열 추출\n",
        "exam[,c(1:3)]\n",
        "exam[,c(3:5)]\n",
        "exam[,c(1,3,5)]\n",
        "# 열 이름으로 열 추출\n",
        "exam[,\"id\"] # id\n",
        "exam[,\"class\"] # class\n",
        "exam[,\"math\"] # math\n",
        "exam[,\"english\"] # english\n",
        "exam[,\"science\"] # science\n",
        "# 열 이름으로 여러개 열 추출\n",
        "exam[,c(\"id\",\"class\",\"math\")]\n",
        "exam[,c(\"math\",\"english\",\"science\")]\n",
        "exam[,c(\"id\",\"math\",\"science\")]\n",
        "#"
      ],
      "metadata": {
        "id": "o0AjXKRNZcB0"
      },
      "execution_count": null,
      "outputs": []
    },
    {
      "cell_type": "code",
      "source": [
        "# 행과 열을 동시에 추출\n",
        "# 행번호 & 열번호\n",
        "exam[1,5]\n",
        "# 행번호 & 열이름\n",
        "exam[1,\"science\"]\n",
        "# 행 조건 & 열번호\n",
        "exam[exam$math > 80,5]\n",
        "# 행 조건 & 열이름\n",
        "exam[exam$math > 80,\"science\"]\n",
        "# 행 조건 & 열 여러개\n",
        "exam[exam$math > 80,c(4,5)]\n",
        "exam[exam$math > 80,c(\"english\",\"science\")]\n",
        "#\n",
        "# 문제) 수학 점수 50 이상, 영어 점수 80 이상인 학생들을 대상으로 각 반의 전 과목 총평균을 구하라."
      ],
      "metadata": {
        "id": "htT7DmjmayP5"
      },
      "execution_count": null,
      "outputs": []
    },
    {
      "cell_type": "code",
      "source": [
        "subset <- exam[exam$math >= 50 & exam$english >= 80,]\n",
        "subset\n",
        "subset$total <- (subset$math + subset$english + subset$science)\n",
        "subset\n",
        "subset$mean_score <- subset$total/3\n",
        "subset\n",
        "#"
      ],
      "metadata": {
        "id": "tFcKCpWFcTx7"
      },
      "execution_count": null,
      "outputs": []
    },
    {
      "cell_type": "code",
      "source": [
        "#\n",
        "exam$total <- (exam$math + exam$english + exam$science)/3\n",
        "head(exam)\n",
        "aggregate(data = exam[exam$math >= 50 & exam$english >= 80,],\n",
        "          total~class,\n",
        "          FUN = \"mean\")"
      ],
      "metadata": {
        "id": "E89wTx84cUF2"
      },
      "execution_count": null,
      "outputs": []
    },
    {
      "cell_type": "code",
      "source": [
        "# tidyverse 사용 문법\n",
        "# tidyverse: 데이터 전처리 등에 많이 사용하는 패키지들의 묶음\n",
        "install.packages(\"tidyverse\")\n",
        "library(tidyverse)\n",
        "# 파이프라인 = shift + ctrl + m\n",
        "exam %>%\n",
        "  filter(math >= 50 & english >= 80) %>%  # 행 추출\n",
        "  mutate(total = (math + english + science)/3) %>% # 새로운 변수 생성\n",
        "  group_by(class) %>% # 그룹 생성\n",
        "  summarise(mean_score = mean(total)) # 요약 결과 생성 (예, 평균)\n",
        "#"
      ],
      "metadata": {
        "id": "zCSwFrXec1Lc"
      },
      "execution_count": null,
      "outputs": []
    },
    {
      "cell_type": "code",
      "source": [
        "# 데이터타입 = 변수타입 = 자료형\n",
        "# 값을 숫자로 입력\n",
        "var1 <- c(1,2,3,1,2)\n",
        "var2 <- factor(c(1,2,3,1,2))\n",
        "var1\n",
        "var2\n",
        "var1 + 2\n",
        "var2 + 2\n",
        "class(var1)\n",
        "class(var2)\n",
        "# 값을 문자로 입력\n",
        "var3 <- c(\"a\",\"b\",\"b\",\"c\")\n",
        "var4 <- factor(c(\"a\",\"b\",\"b\",\"c\"))\n",
        "var3\n",
        "var4\n",
        "var3 + 2\n",
        "var4 + 2\n",
        "class(var3)\n",
        "class(var4)"
      ],
      "metadata": {
        "id": "lqNnVogakrK_"
      },
      "execution_count": null,
      "outputs": []
    },
    {
      "cell_type": "code",
      "source": [
        "# 함수 적용\n",
        "var1\n",
        "mean(var1)\n",
        "table(var1)\n",
        "summary(var1)\n",
        "var2\n",
        "mean(var2)\n",
        "table(var2)\n",
        "summary(var2)\n",
        "var3\n",
        "mean(var3)\n",
        "table(var3)\n",
        "summary(var3)\n",
        "var4\n",
        "mean(var4)\n",
        "table(var4)\n",
        "summary(var4)"
      ],
      "metadata": {
        "id": "SjR1V1Ial7Wt"
      },
      "execution_count": null,
      "outputs": []
    },
    {
      "cell_type": "code",
      "source": [
        "# 데이터타입변경\n",
        "var1;var2\n",
        "class(var1);class(var2)\n",
        "var2 <- as.numeric(var2)\n",
        "class(var1);class(var2)\n",
        "# as.character(): 문자형으로 변경\n",
        "# as.factor(): 범주형으로 변경\n",
        "# as.integer(): 정수형으로 변경\n",
        "# as.Date(): 날짜형으로 변경\n",
        "#"
      ],
      "metadata": {
        "id": "fIraBPxynKAE"
      },
      "execution_count": null,
      "outputs": []
    },
    {
      "cell_type": "code",
      "source": [
        "# mpg 데이터의 drv 변수는 자동차의 구동 방식을 나타냅니다. mpg 데이터를 이용해 아래 문제를 해결해 보세요.\n",
        "mpg <- as.data.frame(ggplot2::mpg)\n",
        "str(mpg)"
      ],
      "metadata": {
        "id": "l-7k7pMRoaWv"
      },
      "execution_count": null,
      "outputs": []
    },
    {
      "cell_type": "code",
      "source": [
        "# • Q1. drv 변수의 타입을 확인해 보세요.\n",
        "class(mpg$drv)\n",
        "# • Q2. drv 변수를 as.factor()를 이용해 factor 타입으로 변환한 후 다시 타입을 확인해 보세요.\n",
        "mpg$drv <- as.factor(mpg$drv)\n",
        "class(mpg$drv)\n",
        "# • Q3. drv가 어떤 범주로 구성되는지 확인해 보세요.\n",
        "levels(mpg$drv)\n",
        "#"
      ],
      "metadata": {
        "id": "FWh7z8bho3Rk"
      },
      "execution_count": null,
      "outputs": []
    },
    {
      "cell_type": "code",
      "source": [
        "# 자료구조\n",
        "# 1. 벡터: 하나의 값, 여러 개의 값, 같은 데이터 타입\n",
        "a <- 3\n",
        "a\n",
        "b <- c(1,2,3,4,5)\n",
        "b\n",
        "c <- \"hi\"\n",
        "c\n",
        "d <- c(\"a\",\"b\",\"c\",\"a\")\n",
        "d\n",
        "class(a)\n",
        "class(b)\n",
        "class(c)\n",
        "class(d)"
      ],
      "metadata": {
        "id": "XHZaDuQqus19"
      },
      "execution_count": null,
      "outputs": []
    },
    {
      "cell_type": "code",
      "source": [
        "# 2. 데이터프레임: 행과 열로 구성된 2차원, 열들이 서로 다른 데이터타입 가질 수 있음\n",
        "df <- data.frame(var1 = c(1,2,3),\n",
        "                 var2 = c(\"a\",\"b\",\"c\"))\n",
        "df\n",
        "class(df)\n",
        "class(df$var1)\n",
        "class(df$var2)"
      ],
      "metadata": {
        "id": "mbWkaC3vu_e0"
      },
      "execution_count": null,
      "outputs": []
    },
    {
      "cell_type": "code",
      "source": [
        "# 3. 매트릭스: 행과 열로 구성된 2차원, 같은 데이터타입만 저장 가능\n",
        "mx <- matrix(c(1:12), ncol = 4)\n",
        "mx\n",
        "class(mx)"
      ],
      "metadata": {
        "id": "hTOicK0tv4QN"
      },
      "execution_count": null,
      "outputs": []
    },
    {
      "cell_type": "code",
      "source": [
        "# 4. 어레이: 행과 열로 구성된 매트릭스가 여러 겹이 있는 구조\n",
        "ar <- array(1:18, dim = c(3,6,3))\n",
        "ar\n",
        "class(ar)"
      ],
      "metadata": {
        "id": "48mT-xuBv4sV"
      },
      "execution_count": null,
      "outputs": []
    },
    {
      "cell_type": "code",
      "source": [
        "# 5. 리스트: 모든 데이터 구조를 저장할 수 있음\n",
        "ls <- list(list1 = a,\n",
        "           list2 = df,\n",
        "           list3 = mx,\n",
        "           list4 = ar)\n",
        "ls\n",
        "class(ls)"
      ],
      "metadata": {
        "id": "kXyIqU1GwOlN"
      },
      "execution_count": null,
      "outputs": []
    },
    {
      "cell_type": "code",
      "source": [
        "# 벡터를 꺼내서 사용하기\n",
        "ls$list1\n",
        "vec <- ls$list1\n",
        "vec\n",
        "# = a\n",
        "# 데이터프레임을 꺼내서 사용하기\n",
        "ls$list2\n",
        "# 매트릭스를 꺼내서 사용하기\n",
        "ls$list3\n",
        "# 어레이를 꺼내서 사용하기\n",
        "ls$list4\n",
        "#"
      ],
      "metadata": {
        "id": "Dwguf8m_wo_V"
      },
      "execution_count": null,
      "outputs": []
    },
    {
      "cell_type": "code",
      "source": [
        "# 리스트 실제 활용하는 예\n",
        "mpg <- as.data.frame(ggplot2::mpg)\n",
        "# 상자수염그림\n",
        "bp <- boxplot(mpg$hwy)\n",
        "bp\n",
        "bp$stats\n",
        "# 하한값\n",
        "bp$stats[1,1]\n",
        "lower_limit <- bp$stats[1,1]\n",
        "lower_limit\n",
        "# 상한값\n",
        "bp$stats[5,1]\n",
        "upper_limit <- bp$stats[5,1]\n",
        "upper_limit\n",
        "#"
      ],
      "metadata": {
        "id": "Mv1Nf3_FxHV1"
      },
      "execution_count": null,
      "outputs": []
    },
    {
      "cell_type": "code",
      "source": [
        "# 패키지\n",
        "library(ggplot2)\n",
        "x <- c(\"a\",\"a\",\"b\",\"c\")\n",
        "x\n",
        "# quick plot: 탐색적 목적으로 빠르게 시각화 함수\n",
        "# 막대그래프: 범주형변수의 빈도 표현\n",
        "qplot(x)\n",
        "#\n",
        "mpg <- as.data.frame(ggplot2::mpg)\n",
        "# 히스토그램: 연속형변수(구간)의 빈도 표현\n",
        "qplot(data = mpg, x = drv, y = hwy)\n",
        "#\n",
        "qplot(data = mpg, x = drv, y = hwy, geom = \"line\")\n",
        "# 상자수염그림\n",
        "qplot(data = mpg, x = drv, y = hwy, geom = \"boxplot\")\n",
        "#\n",
        "qplot(data = mpg, x = drv, y = hwy, geom = \"boxplot\", color = drv)\n",
        "#\n",
        "# 도움말 보고 싶을 때\n",
        "?qplot\n",
        "#"
      ],
      "metadata": {
        "id": "XYFJbvu6zLb2"
      },
      "execution_count": null,
      "outputs": []
    },
    {
      "cell_type": "code",
      "source": [
        "# Q1. 시험 점수 변수 만들고 출력하기\n",
        "# 다섯 명의 학생이 시험을 봤습니다. 학생 다섯 명의 시험 점수를 담고 있는 변수를 만들어 출력해 보세요. 각 학생의 시험 점수는 다음과 같습니다.\n",
        "# 80, 60, 70, 50, 90\n",
        "score <- c(80, 60, 70, 50, 90)\n",
        "score\n",
        "# Q2. 전체 평균 구하기\n",
        "# 앞 문제에서 만든 변수를 이용해서 이 학생들의 전체 평균 점수를 구해보세요.\n",
        "mean(score)\n",
        "# Q3. 전체 평균 변수 만들고 출력하기\n",
        "# 전체 평균 점수를 담고 있는 새 변수를 만들어 출력해 보세요. 앞 문제를 풀 때 사용한 코드를 응용하면 됩니다\n",
        "mean <- mean(score)\n",
        "mean\n",
        "#"
      ],
      "metadata": {
        "id": "8eqnwXoh2vsm"
      },
      "execution_count": null,
      "outputs": []
    },
    {
      "cell_type": "code",
      "source": [
        "# 평균\n",
        "# 세 지역에 있는 서점의 연평균 고객수\n",
        "x <- c(2150,1534,3564)\n",
        "x\n",
        "mean(x)\n",
        "# 계산식\n",
        "(2150+1534+3564)/3\n",
        "sum(x)/3\n",
        "sum(x)/length(x)\n",
        "# 유치원부터 초등학교 6학년까지 평균 학생수\n",
        "x <- c(18,21,24,23,22,24,25)\n",
        "x\n",
        "mean(x)\n",
        "# 계산식\n",
        "(18+21+24+23+22+24+25)/7\n",
        "sum(x)/7\n",
        "sum(x)/length(x)"
      ],
      "metadata": {
        "id": "Pss8zp4r3ic1"
      },
      "execution_count": null,
      "outputs": []
    }
  ]
}