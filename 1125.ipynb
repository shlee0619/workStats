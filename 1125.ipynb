{
  "nbformat": 4,
  "nbformat_minor": 0,
  "metadata": {
    "colab": {
      "provenance": [],
      "toc_visible": true,
      "include_colab_link": true
    },
    "kernelspec": {
      "name": "python3",
      "display_name": "Python 3"
    },
    "language_info": {
      "name": "python"
    }
  },
  "cells": [
    {
      "cell_type": "markdown",
      "metadata": {
        "id": "view-in-github",
        "colab_type": "text"
      },
      "source": [
        "<a href=\"https://colab.research.google.com/github/shlee0619/workStats/blob/main/1125.ipynb\" target=\"_parent\"><img src=\"https://colab.research.google.com/assets/colab-badge.svg\" alt=\"Open In Colab\"/></a>"
      ]
    },
    {
      "cell_type": "markdown",
      "source": [
        "# 기술통계 - 중심경향측도"
      ],
      "metadata": {
        "id": "o9B2dqTHCw0d"
      }
    },
    {
      "cell_type": "code",
      "execution_count": null,
      "metadata": {
        "id": "lfgXS7w1Cdim"
      },
      "outputs": [],
      "source": [
        "# 라이브러리 불러오기\n",
        "import pandas as pd"
      ]
    },
    {
      "cell_type": "code",
      "source": [
        "# 데이터프레임 만들기\n",
        "df = pd.DataFrame({'name': [\"Richard\", \"Sara\", \"Andrea\", \"Steven\", \"Jordan\", \"Pam\",\n",
        "                            \"Michael\", \"Liz\", \"Nicole\", \"Mike\", \"Kent\", \"Elizabeth\",\n",
        "                            \"Bill\", \"Hadley\", \"Buffy\", \"Chip\", \"Homer\", \"Margaret\",\n",
        "                            \"Courtney\", \"Leonard\", \"Jeffrey\", \"Emily\"],\n",
        "                   'major': [\"교육학\", \"심리학\", \"교육학\", \"심리학\", \"교육학\", \"교육학\",\n",
        "                             \"심리학\", \"심리학\", \"화학\", \"간호학\", \"역사학\", \"영어영문학\",\n",
        "                             \"심리학\", \"심리학\", \"교육학\", \"교육학\", \"심리학\", \"영어영문학\",\n",
        "                             \"심리학\", \"심리학\", \"화학\", \"스페인어\"],\n",
        "                   'age': [19, 18, 19, 21, 20, 24, 21, 19, 19, 20, 18, 21, 22, 23, 21, 19,\n",
        "                           18, 22, 24, 21, 18, 19]})\n",
        "df"
      ],
      "metadata": {
        "id": "N87uHSV7C5nC",
        "colab": {
          "base_uri": "https://localhost:8080/",
          "height": 739
        },
        "outputId": "ffcd6bc3-a1f8-4b89-97cc-83ac17f1bc60"
      },
      "execution_count": null,
      "outputs": [
        {
          "output_type": "execute_result",
          "data": {
            "text/plain": [
              "         name  major  age\n",
              "0     Richard    교육학   19\n",
              "1        Sara    심리학   18\n",
              "2      Andrea    교육학   19\n",
              "3      Steven    심리학   21\n",
              "4      Jordan    교육학   20\n",
              "5         Pam    교육학   24\n",
              "6     Michael    심리학   21\n",
              "7         Liz    심리학   19\n",
              "8      Nicole     화학   19\n",
              "9        Mike    간호학   20\n",
              "10       Kent    역사학   18\n",
              "11  Elizabeth  영어영문학   21\n",
              "12       Bill    심리학   22\n",
              "13     Hadley    심리학   23\n",
              "14      Buffy    교육학   21\n",
              "15       Chip    교육학   19\n",
              "16      Homer    심리학   18\n",
              "17   Margaret  영어영문학   22\n",
              "18   Courtney    심리학   24\n",
              "19    Leonard    심리학   21\n",
              "20    Jeffrey     화학   18\n",
              "21      Emily   스페인어   19"
            ],
            "text/html": [
              "\n",
              "  <div id=\"df-0f5f309c-d0b1-49a7-bda4-f2a6746f2378\" class=\"colab-df-container\">\n",
              "    <div>\n",
              "<style scoped>\n",
              "    .dataframe tbody tr th:only-of-type {\n",
              "        vertical-align: middle;\n",
              "    }\n",
              "\n",
              "    .dataframe tbody tr th {\n",
              "        vertical-align: top;\n",
              "    }\n",
              "\n",
              "    .dataframe thead th {\n",
              "        text-align: right;\n",
              "    }\n",
              "</style>\n",
              "<table border=\"1\" class=\"dataframe\">\n",
              "  <thead>\n",
              "    <tr style=\"text-align: right;\">\n",
              "      <th></th>\n",
              "      <th>name</th>\n",
              "      <th>major</th>\n",
              "      <th>age</th>\n",
              "    </tr>\n",
              "  </thead>\n",
              "  <tbody>\n",
              "    <tr>\n",
              "      <th>0</th>\n",
              "      <td>Richard</td>\n",
              "      <td>교육학</td>\n",
              "      <td>19</td>\n",
              "    </tr>\n",
              "    <tr>\n",
              "      <th>1</th>\n",
              "      <td>Sara</td>\n",
              "      <td>심리학</td>\n",
              "      <td>18</td>\n",
              "    </tr>\n",
              "    <tr>\n",
              "      <th>2</th>\n",
              "      <td>Andrea</td>\n",
              "      <td>교육학</td>\n",
              "      <td>19</td>\n",
              "    </tr>\n",
              "    <tr>\n",
              "      <th>3</th>\n",
              "      <td>Steven</td>\n",
              "      <td>심리학</td>\n",
              "      <td>21</td>\n",
              "    </tr>\n",
              "    <tr>\n",
              "      <th>4</th>\n",
              "      <td>Jordan</td>\n",
              "      <td>교육학</td>\n",
              "      <td>20</td>\n",
              "    </tr>\n",
              "    <tr>\n",
              "      <th>5</th>\n",
              "      <td>Pam</td>\n",
              "      <td>교육학</td>\n",
              "      <td>24</td>\n",
              "    </tr>\n",
              "    <tr>\n",
              "      <th>6</th>\n",
              "      <td>Michael</td>\n",
              "      <td>심리학</td>\n",
              "      <td>21</td>\n",
              "    </tr>\n",
              "    <tr>\n",
              "      <th>7</th>\n",
              "      <td>Liz</td>\n",
              "      <td>심리학</td>\n",
              "      <td>19</td>\n",
              "    </tr>\n",
              "    <tr>\n",
              "      <th>8</th>\n",
              "      <td>Nicole</td>\n",
              "      <td>화학</td>\n",
              "      <td>19</td>\n",
              "    </tr>\n",
              "    <tr>\n",
              "      <th>9</th>\n",
              "      <td>Mike</td>\n",
              "      <td>간호학</td>\n",
              "      <td>20</td>\n",
              "    </tr>\n",
              "    <tr>\n",
              "      <th>10</th>\n",
              "      <td>Kent</td>\n",
              "      <td>역사학</td>\n",
              "      <td>18</td>\n",
              "    </tr>\n",
              "    <tr>\n",
              "      <th>11</th>\n",
              "      <td>Elizabeth</td>\n",
              "      <td>영어영문학</td>\n",
              "      <td>21</td>\n",
              "    </tr>\n",
              "    <tr>\n",
              "      <th>12</th>\n",
              "      <td>Bill</td>\n",
              "      <td>심리학</td>\n",
              "      <td>22</td>\n",
              "    </tr>\n",
              "    <tr>\n",
              "      <th>13</th>\n",
              "      <td>Hadley</td>\n",
              "      <td>심리학</td>\n",
              "      <td>23</td>\n",
              "    </tr>\n",
              "    <tr>\n",
              "      <th>14</th>\n",
              "      <td>Buffy</td>\n",
              "      <td>교육학</td>\n",
              "      <td>21</td>\n",
              "    </tr>\n",
              "    <tr>\n",
              "      <th>15</th>\n",
              "      <td>Chip</td>\n",
              "      <td>교육학</td>\n",
              "      <td>19</td>\n",
              "    </tr>\n",
              "    <tr>\n",
              "      <th>16</th>\n",
              "      <td>Homer</td>\n",
              "      <td>심리학</td>\n",
              "      <td>18</td>\n",
              "    </tr>\n",
              "    <tr>\n",
              "      <th>17</th>\n",
              "      <td>Margaret</td>\n",
              "      <td>영어영문학</td>\n",
              "      <td>22</td>\n",
              "    </tr>\n",
              "    <tr>\n",
              "      <th>18</th>\n",
              "      <td>Courtney</td>\n",
              "      <td>심리학</td>\n",
              "      <td>24</td>\n",
              "    </tr>\n",
              "    <tr>\n",
              "      <th>19</th>\n",
              "      <td>Leonard</td>\n",
              "      <td>심리학</td>\n",
              "      <td>21</td>\n",
              "    </tr>\n",
              "    <tr>\n",
              "      <th>20</th>\n",
              "      <td>Jeffrey</td>\n",
              "      <td>화학</td>\n",
              "      <td>18</td>\n",
              "    </tr>\n",
              "    <tr>\n",
              "      <th>21</th>\n",
              "      <td>Emily</td>\n",
              "      <td>스페인어</td>\n",
              "      <td>19</td>\n",
              "    </tr>\n",
              "  </tbody>\n",
              "</table>\n",
              "</div>\n",
              "    <div class=\"colab-df-buttons\">\n",
              "\n",
              "  <div class=\"colab-df-container\">\n",
              "    <button class=\"colab-df-convert\" onclick=\"convertToInteractive('df-0f5f309c-d0b1-49a7-bda4-f2a6746f2378')\"\n",
              "            title=\"Convert this dataframe to an interactive table.\"\n",
              "            style=\"display:none;\">\n",
              "\n",
              "  <svg xmlns=\"http://www.w3.org/2000/svg\" height=\"24px\" viewBox=\"0 -960 960 960\">\n",
              "    <path d=\"M120-120v-720h720v720H120Zm60-500h600v-160H180v160Zm220 220h160v-160H400v160Zm0 220h160v-160H400v160ZM180-400h160v-160H180v160Zm440 0h160v-160H620v160ZM180-180h160v-160H180v160Zm440 0h160v-160H620v160Z\"/>\n",
              "  </svg>\n",
              "    </button>\n",
              "\n",
              "  <style>\n",
              "    .colab-df-container {\n",
              "      display:flex;\n",
              "      gap: 12px;\n",
              "    }\n",
              "\n",
              "    .colab-df-convert {\n",
              "      background-color: #E8F0FE;\n",
              "      border: none;\n",
              "      border-radius: 50%;\n",
              "      cursor: pointer;\n",
              "      display: none;\n",
              "      fill: #1967D2;\n",
              "      height: 32px;\n",
              "      padding: 0 0 0 0;\n",
              "      width: 32px;\n",
              "    }\n",
              "\n",
              "    .colab-df-convert:hover {\n",
              "      background-color: #E2EBFA;\n",
              "      box-shadow: 0px 1px 2px rgba(60, 64, 67, 0.3), 0px 1px 3px 1px rgba(60, 64, 67, 0.15);\n",
              "      fill: #174EA6;\n",
              "    }\n",
              "\n",
              "    .colab-df-buttons div {\n",
              "      margin-bottom: 4px;\n",
              "    }\n",
              "\n",
              "    [theme=dark] .colab-df-convert {\n",
              "      background-color: #3B4455;\n",
              "      fill: #D2E3FC;\n",
              "    }\n",
              "\n",
              "    [theme=dark] .colab-df-convert:hover {\n",
              "      background-color: #434B5C;\n",
              "      box-shadow: 0px 1px 3px 1px rgba(0, 0, 0, 0.15);\n",
              "      filter: drop-shadow(0px 1px 2px rgba(0, 0, 0, 0.3));\n",
              "      fill: #FFFFFF;\n",
              "    }\n",
              "  </style>\n",
              "\n",
              "    <script>\n",
              "      const buttonEl =\n",
              "        document.querySelector('#df-0f5f309c-d0b1-49a7-bda4-f2a6746f2378 button.colab-df-convert');\n",
              "      buttonEl.style.display =\n",
              "        google.colab.kernel.accessAllowed ? 'block' : 'none';\n",
              "\n",
              "      async function convertToInteractive(key) {\n",
              "        const element = document.querySelector('#df-0f5f309c-d0b1-49a7-bda4-f2a6746f2378');\n",
              "        const dataTable =\n",
              "          await google.colab.kernel.invokeFunction('convertToInteractive',\n",
              "                                                    [key], {});\n",
              "        if (!dataTable) return;\n",
              "\n",
              "        const docLinkHtml = 'Like what you see? Visit the ' +\n",
              "          '<a target=\"_blank\" href=https://colab.research.google.com/notebooks/data_table.ipynb>data table notebook</a>'\n",
              "          + ' to learn more about interactive tables.';\n",
              "        element.innerHTML = '';\n",
              "        dataTable['output_type'] = 'display_data';\n",
              "        await google.colab.output.renderOutput(dataTable, element);\n",
              "        const docLink = document.createElement('div');\n",
              "        docLink.innerHTML = docLinkHtml;\n",
              "        element.appendChild(docLink);\n",
              "      }\n",
              "    </script>\n",
              "  </div>\n",
              "\n",
              "\n",
              "<div id=\"df-051fa082-d2c7-4957-9269-09d833aece50\">\n",
              "  <button class=\"colab-df-quickchart\" onclick=\"quickchart('df-051fa082-d2c7-4957-9269-09d833aece50')\"\n",
              "            title=\"Suggest charts\"\n",
              "            style=\"display:none;\">\n",
              "\n",
              "<svg xmlns=\"http://www.w3.org/2000/svg\" height=\"24px\"viewBox=\"0 0 24 24\"\n",
              "     width=\"24px\">\n",
              "    <g>\n",
              "        <path d=\"M19 3H5c-1.1 0-2 .9-2 2v14c0 1.1.9 2 2 2h14c1.1 0 2-.9 2-2V5c0-1.1-.9-2-2-2zM9 17H7v-7h2v7zm4 0h-2V7h2v10zm4 0h-2v-4h2v4z\"/>\n",
              "    </g>\n",
              "</svg>\n",
              "  </button>\n",
              "\n",
              "<style>\n",
              "  .colab-df-quickchart {\n",
              "      --bg-color: #E8F0FE;\n",
              "      --fill-color: #1967D2;\n",
              "      --hover-bg-color: #E2EBFA;\n",
              "      --hover-fill-color: #174EA6;\n",
              "      --disabled-fill-color: #AAA;\n",
              "      --disabled-bg-color: #DDD;\n",
              "  }\n",
              "\n",
              "  [theme=dark] .colab-df-quickchart {\n",
              "      --bg-color: #3B4455;\n",
              "      --fill-color: #D2E3FC;\n",
              "      --hover-bg-color: #434B5C;\n",
              "      --hover-fill-color: #FFFFFF;\n",
              "      --disabled-bg-color: #3B4455;\n",
              "      --disabled-fill-color: #666;\n",
              "  }\n",
              "\n",
              "  .colab-df-quickchart {\n",
              "    background-color: var(--bg-color);\n",
              "    border: none;\n",
              "    border-radius: 50%;\n",
              "    cursor: pointer;\n",
              "    display: none;\n",
              "    fill: var(--fill-color);\n",
              "    height: 32px;\n",
              "    padding: 0;\n",
              "    width: 32px;\n",
              "  }\n",
              "\n",
              "  .colab-df-quickchart:hover {\n",
              "    background-color: var(--hover-bg-color);\n",
              "    box-shadow: 0 1px 2px rgba(60, 64, 67, 0.3), 0 1px 3px 1px rgba(60, 64, 67, 0.15);\n",
              "    fill: var(--button-hover-fill-color);\n",
              "  }\n",
              "\n",
              "  .colab-df-quickchart-complete:disabled,\n",
              "  .colab-df-quickchart-complete:disabled:hover {\n",
              "    background-color: var(--disabled-bg-color);\n",
              "    fill: var(--disabled-fill-color);\n",
              "    box-shadow: none;\n",
              "  }\n",
              "\n",
              "  .colab-df-spinner {\n",
              "    border: 2px solid var(--fill-color);\n",
              "    border-color: transparent;\n",
              "    border-bottom-color: var(--fill-color);\n",
              "    animation:\n",
              "      spin 1s steps(1) infinite;\n",
              "  }\n",
              "\n",
              "  @keyframes spin {\n",
              "    0% {\n",
              "      border-color: transparent;\n",
              "      border-bottom-color: var(--fill-color);\n",
              "      border-left-color: var(--fill-color);\n",
              "    }\n",
              "    20% {\n",
              "      border-color: transparent;\n",
              "      border-left-color: var(--fill-color);\n",
              "      border-top-color: var(--fill-color);\n",
              "    }\n",
              "    30% {\n",
              "      border-color: transparent;\n",
              "      border-left-color: var(--fill-color);\n",
              "      border-top-color: var(--fill-color);\n",
              "      border-right-color: var(--fill-color);\n",
              "    }\n",
              "    40% {\n",
              "      border-color: transparent;\n",
              "      border-right-color: var(--fill-color);\n",
              "      border-top-color: var(--fill-color);\n",
              "    }\n",
              "    60% {\n",
              "      border-color: transparent;\n",
              "      border-right-color: var(--fill-color);\n",
              "    }\n",
              "    80% {\n",
              "      border-color: transparent;\n",
              "      border-right-color: var(--fill-color);\n",
              "      border-bottom-color: var(--fill-color);\n",
              "    }\n",
              "    90% {\n",
              "      border-color: transparent;\n",
              "      border-bottom-color: var(--fill-color);\n",
              "    }\n",
              "  }\n",
              "</style>\n",
              "\n",
              "  <script>\n",
              "    async function quickchart(key) {\n",
              "      const quickchartButtonEl =\n",
              "        document.querySelector('#' + key + ' button');\n",
              "      quickchartButtonEl.disabled = true;  // To prevent multiple clicks.\n",
              "      quickchartButtonEl.classList.add('colab-df-spinner');\n",
              "      try {\n",
              "        const charts = await google.colab.kernel.invokeFunction(\n",
              "            'suggestCharts', [key], {});\n",
              "      } catch (error) {\n",
              "        console.error('Error during call to suggestCharts:', error);\n",
              "      }\n",
              "      quickchartButtonEl.classList.remove('colab-df-spinner');\n",
              "      quickchartButtonEl.classList.add('colab-df-quickchart-complete');\n",
              "    }\n",
              "    (() => {\n",
              "      let quickchartButtonEl =\n",
              "        document.querySelector('#df-051fa082-d2c7-4957-9269-09d833aece50 button');\n",
              "      quickchartButtonEl.style.display =\n",
              "        google.colab.kernel.accessAllowed ? 'block' : 'none';\n",
              "    })();\n",
              "  </script>\n",
              "</div>\n",
              "\n",
              "  <div id=\"id_9b4b3948-4ef3-4ffc-b0db-b09a6adedb3f\">\n",
              "    <style>\n",
              "      .colab-df-generate {\n",
              "        background-color: #E8F0FE;\n",
              "        border: none;\n",
              "        border-radius: 50%;\n",
              "        cursor: pointer;\n",
              "        display: none;\n",
              "        fill: #1967D2;\n",
              "        height: 32px;\n",
              "        padding: 0 0 0 0;\n",
              "        width: 32px;\n",
              "      }\n",
              "\n",
              "      .colab-df-generate:hover {\n",
              "        background-color: #E2EBFA;\n",
              "        box-shadow: 0px 1px 2px rgba(60, 64, 67, 0.3), 0px 1px 3px 1px rgba(60, 64, 67, 0.15);\n",
              "        fill: #174EA6;\n",
              "      }\n",
              "\n",
              "      [theme=dark] .colab-df-generate {\n",
              "        background-color: #3B4455;\n",
              "        fill: #D2E3FC;\n",
              "      }\n",
              "\n",
              "      [theme=dark] .colab-df-generate:hover {\n",
              "        background-color: #434B5C;\n",
              "        box-shadow: 0px 1px 3px 1px rgba(0, 0, 0, 0.15);\n",
              "        filter: drop-shadow(0px 1px 2px rgba(0, 0, 0, 0.3));\n",
              "        fill: #FFFFFF;\n",
              "      }\n",
              "    </style>\n",
              "    <button class=\"colab-df-generate\" onclick=\"generateWithVariable('df')\"\n",
              "            title=\"Generate code using this dataframe.\"\n",
              "            style=\"display:none;\">\n",
              "\n",
              "  <svg xmlns=\"http://www.w3.org/2000/svg\" height=\"24px\"viewBox=\"0 0 24 24\"\n",
              "       width=\"24px\">\n",
              "    <path d=\"M7,19H8.4L18.45,9,17,7.55,7,17.6ZM5,21V16.75L18.45,3.32a2,2,0,0,1,2.83,0l1.4,1.43a1.91,1.91,0,0,1,.58,1.4,1.91,1.91,0,0,1-.58,1.4L9.25,21ZM18.45,9,17,7.55Zm-12,3A5.31,5.31,0,0,0,4.9,8.1,5.31,5.31,0,0,0,1,6.5,5.31,5.31,0,0,0,4.9,4.9,5.31,5.31,0,0,0,6.5,1,5.31,5.31,0,0,0,8.1,4.9,5.31,5.31,0,0,0,12,6.5,5.46,5.46,0,0,0,6.5,12Z\"/>\n",
              "  </svg>\n",
              "    </button>\n",
              "    <script>\n",
              "      (() => {\n",
              "      const buttonEl =\n",
              "        document.querySelector('#id_9b4b3948-4ef3-4ffc-b0db-b09a6adedb3f button.colab-df-generate');\n",
              "      buttonEl.style.display =\n",
              "        google.colab.kernel.accessAllowed ? 'block' : 'none';\n",
              "\n",
              "      buttonEl.onclick = () => {\n",
              "        google.colab.notebook.generateWithVariable('df');\n",
              "      }\n",
              "      })();\n",
              "    </script>\n",
              "  </div>\n",
              "\n",
              "    </div>\n",
              "  </div>\n"
            ],
            "application/vnd.google.colaboratory.intrinsic+json": {
              "type": "dataframe",
              "variable_name": "df",
              "summary": "{\n  \"name\": \"df\",\n  \"rows\": 22,\n  \"fields\": [\n    {\n      \"column\": \"name\",\n      \"properties\": {\n        \"dtype\": \"string\",\n        \"num_unique_values\": 22,\n        \"samples\": [\n          \"Richard\",\n          \"Hadley\",\n          \"Nicole\"\n        ],\n        \"semantic_type\": \"\",\n        \"description\": \"\"\n      }\n    },\n    {\n      \"column\": \"major\",\n      \"properties\": {\n        \"dtype\": \"category\",\n        \"num_unique_values\": 7,\n        \"samples\": [\n          \"\\uad50\\uc721\\ud559\",\n          \"\\uc2ec\\ub9ac\\ud559\",\n          \"\\uc601\\uc5b4\\uc601\\ubb38\\ud559\"\n        ],\n        \"semantic_type\": \"\",\n        \"description\": \"\"\n      }\n    },\n    {\n      \"column\": \"age\",\n      \"properties\": {\n        \"dtype\": \"number\",\n        \"std\": 1,\n        \"min\": 18,\n        \"max\": 24,\n        \"num_unique_values\": 7,\n        \"samples\": [\n          19,\n          18,\n          22\n        ],\n        \"semantic_type\": \"\",\n        \"description\": \"\"\n      }\n    }\n  ]\n}"
            }
          },
          "metadata": {},
          "execution_count": 3
        }
      ]
    },
    {
      "cell_type": "code",
      "source": [
        "# 전공 = 범주형 변수 => 빈도\n",
        "# 최빈값 => 심리학\n",
        "df['major'].value_counts()"
      ],
      "metadata": {
        "id": "40pv-Zh9EKDJ",
        "colab": {
          "base_uri": "https://localhost:8080/",
          "height": 335
        },
        "outputId": "67a8aea8-4be9-4560-e38e-f89c4c38bec7"
      },
      "execution_count": null,
      "outputs": [
        {
          "output_type": "execute_result",
          "data": {
            "text/plain": [
              "major\n",
              "심리학      9\n",
              "교육학      6\n",
              "화학       2\n",
              "영어영문학    2\n",
              "간호학      1\n",
              "역사학      1\n",
              "스페인어     1\n",
              "Name: count, dtype: int64"
            ],
            "text/html": [
              "<div>\n",
              "<style scoped>\n",
              "    .dataframe tbody tr th:only-of-type {\n",
              "        vertical-align: middle;\n",
              "    }\n",
              "\n",
              "    .dataframe tbody tr th {\n",
              "        vertical-align: top;\n",
              "    }\n",
              "\n",
              "    .dataframe thead th {\n",
              "        text-align: right;\n",
              "    }\n",
              "</style>\n",
              "<table border=\"1\" class=\"dataframe\">\n",
              "  <thead>\n",
              "    <tr style=\"text-align: right;\">\n",
              "      <th></th>\n",
              "      <th>count</th>\n",
              "    </tr>\n",
              "    <tr>\n",
              "      <th>major</th>\n",
              "      <th></th>\n",
              "    </tr>\n",
              "  </thead>\n",
              "  <tbody>\n",
              "    <tr>\n",
              "      <th>심리학</th>\n",
              "      <td>9</td>\n",
              "    </tr>\n",
              "    <tr>\n",
              "      <th>교육학</th>\n",
              "      <td>6</td>\n",
              "    </tr>\n",
              "    <tr>\n",
              "      <th>화학</th>\n",
              "      <td>2</td>\n",
              "    </tr>\n",
              "    <tr>\n",
              "      <th>영어영문학</th>\n",
              "      <td>2</td>\n",
              "    </tr>\n",
              "    <tr>\n",
              "      <th>간호학</th>\n",
              "      <td>1</td>\n",
              "    </tr>\n",
              "    <tr>\n",
              "      <th>역사학</th>\n",
              "      <td>1</td>\n",
              "    </tr>\n",
              "    <tr>\n",
              "      <th>스페인어</th>\n",
              "      <td>1</td>\n",
              "    </tr>\n",
              "  </tbody>\n",
              "</table>\n",
              "</div><br><label><b>dtype:</b> int64</label>"
            ]
          },
          "metadata": {},
          "execution_count": 4
        }
      ]
    },
    {
      "cell_type": "code",
      "source": [
        "# 나이 = 연속형 변수 => 평균\n",
        "# 평균\n",
        "df['age'].mean()"
      ],
      "metadata": {
        "colab": {
          "base_uri": "https://localhost:8080/"
        },
        "id": "iKKbKYniETPm",
        "outputId": "e80226bc-fa87-4517-9f15-77e1c66242c6"
      },
      "execution_count": null,
      "outputs": [
        {
          "output_type": "execute_result",
          "data": {
            "text/plain": [
              "20.272727272727273"
            ]
          },
          "metadata": {},
          "execution_count": 5
        }
      ]
    },
    {
      "cell_type": "markdown",
      "source": [
        "## 평균"
      ],
      "metadata": {
        "id": "PYYtF5CqWxai"
      }
    },
    {
      "cell_type": "code",
      "source": [
        "import numpy as np"
      ],
      "metadata": {
        "id": "FsmYpKtjXD7L"
      },
      "execution_count": null,
      "outputs": []
    },
    {
      "cell_type": "code",
      "source": [
        "customers = [2150, 1534, 3564]"
      ],
      "metadata": {
        "id": "y2_rOEp7EepN"
      },
      "execution_count": null,
      "outputs": []
    },
    {
      "cell_type": "code",
      "source": [
        "(2150 + 1534 + 3564)/3"
      ],
      "metadata": {
        "id": "IpVD_G72W7Sg",
        "colab": {
          "base_uri": "https://localhost:8080/"
        },
        "outputId": "258d9bca-4e18-48f2-8cb8-9e3b9ce68f94"
      },
      "execution_count": null,
      "outputs": [
        {
          "output_type": "execute_result",
          "data": {
            "text/plain": [
              "2416.0"
            ]
          },
          "metadata": {},
          "execution_count": 8
        }
      ]
    },
    {
      "cell_type": "code",
      "source": [
        "np.mean(customers)"
      ],
      "metadata": {
        "id": "Ksl8Hn3IXJvH",
        "colab": {
          "base_uri": "https://localhost:8080/"
        },
        "outputId": "0becce14-dd4d-40d5-b5ee-6b1a9b25ddc6"
      },
      "execution_count": null,
      "outputs": [
        {
          "output_type": "execute_result",
          "data": {
            "text/plain": [
              "2416.0"
            ]
          },
          "metadata": {},
          "execution_count": 9
        }
      ]
    },
    {
      "cell_type": "code",
      "source": [
        "sum(customers)"
      ],
      "metadata": {
        "id": "0eBO4uUjXOTf",
        "colab": {
          "base_uri": "https://localhost:8080/"
        },
        "outputId": "886db85e-f9b7-41e4-ce14-9ca979894037"
      },
      "execution_count": null,
      "outputs": [
        {
          "output_type": "execute_result",
          "data": {
            "text/plain": [
              "7248"
            ]
          },
          "metadata": {},
          "execution_count": 10
        }
      ]
    },
    {
      "cell_type": "code",
      "source": [
        "len(customers)"
      ],
      "metadata": {
        "id": "ex2wwqrzXTdC",
        "colab": {
          "base_uri": "https://localhost:8080/"
        },
        "outputId": "ea6e021f-d71f-482e-f256-5ac2ba41f9d6"
      },
      "execution_count": null,
      "outputs": [
        {
          "output_type": "execute_result",
          "data": {
            "text/plain": [
              "3"
            ]
          },
          "metadata": {},
          "execution_count": 11
        }
      ]
    },
    {
      "cell_type": "code",
      "source": [
        "sum(customers)/len(customers)"
      ],
      "metadata": {
        "id": "wuISATP0XVQ3",
        "colab": {
          "base_uri": "https://localhost:8080/"
        },
        "outputId": "5bfbbee9-b496-4df7-b994-a43824c4ca8c"
      },
      "execution_count": null,
      "outputs": [
        {
          "output_type": "execute_result",
          "data": {
            "text/plain": [
              "2416.0"
            ]
          },
          "metadata": {},
          "execution_count": 12
        }
      ]
    },
    {
      "cell_type": "code",
      "source": [
        "# 편차\n",
        "x = [3,4,5]"
      ],
      "metadata": {
        "id": "m-z_P6GrZ6bB"
      },
      "execution_count": null,
      "outputs": []
    },
    {
      "cell_type": "code",
      "source": [
        "x_bar = np.mean(x);x_bar"
      ],
      "metadata": {
        "colab": {
          "base_uri": "https://localhost:8080/"
        },
        "id": "zGcd_WzsZ9bh",
        "outputId": "b52024a1-4b74-48a8-c6c8-c204ec8d8a4e"
      },
      "execution_count": null,
      "outputs": [
        {
          "output_type": "execute_result",
          "data": {
            "text/plain": [
              "4.0"
            ]
          },
          "metadata": {},
          "execution_count": 14
        }
      ]
    },
    {
      "cell_type": "code",
      "source": [
        "x_dev = x - x_bar;x_dev"
      ],
      "metadata": {
        "colab": {
          "base_uri": "https://localhost:8080/"
        },
        "id": "Dem8dIThaD2l",
        "outputId": "10b322eb-f9e3-49fb-ff9f-43995069bdec"
      },
      "execution_count": null,
      "outputs": [
        {
          "output_type": "execute_result",
          "data": {
            "text/plain": [
              "array([-1.,  0.,  1.])"
            ]
          },
          "metadata": {},
          "execution_count": 15
        }
      ]
    },
    {
      "cell_type": "code",
      "source": [
        "sum(x_dev)"
      ],
      "metadata": {
        "colab": {
          "base_uri": "https://localhost:8080/"
        },
        "id": "5Z1uogJUaJZ5",
        "outputId": "ea6a968f-15c5-404f-e3c4-c38c90974d59"
      },
      "execution_count": null,
      "outputs": [
        {
          "output_type": "execute_result",
          "data": {
            "text/plain": [
              "0.0"
            ]
          },
          "metadata": {},
          "execution_count": 16
        }
      ]
    },
    {
      "cell_type": "code",
      "source": [
        "# 가중평균\n",
        "score = pd.Series([97, 94, 92, 91, 90, 89, 78, 60])\n",
        "freq = pd.Series([4, 11, 12, 21, 30, 12, 9, 1])"
      ],
      "metadata": {
        "id": "rHEqNB2Jb1Fd"
      },
      "execution_count": null,
      "outputs": []
    },
    {
      "cell_type": "code",
      "source": [
        "# 점수*빈도\n",
        "score_freq = score*freq\n",
        "score_freq"
      ],
      "metadata": {
        "id": "H0zKDsyucNR8",
        "colab": {
          "base_uri": "https://localhost:8080/",
          "height": 335
        },
        "outputId": "37e75c3d-bf2f-4c91-8779-b8947cb7cd7c"
      },
      "execution_count": null,
      "outputs": [
        {
          "output_type": "execute_result",
          "data": {
            "text/plain": [
              "0     388\n",
              "1    1034\n",
              "2    1104\n",
              "3    1911\n",
              "4    2700\n",
              "5    1068\n",
              "6     702\n",
              "7      60\n",
              "dtype: int64"
            ],
            "text/html": [
              "<div>\n",
              "<style scoped>\n",
              "    .dataframe tbody tr th:only-of-type {\n",
              "        vertical-align: middle;\n",
              "    }\n",
              "\n",
              "    .dataframe tbody tr th {\n",
              "        vertical-align: top;\n",
              "    }\n",
              "\n",
              "    .dataframe thead th {\n",
              "        text-align: right;\n",
              "    }\n",
              "</style>\n",
              "<table border=\"1\" class=\"dataframe\">\n",
              "  <thead>\n",
              "    <tr style=\"text-align: right;\">\n",
              "      <th></th>\n",
              "      <th>0</th>\n",
              "    </tr>\n",
              "  </thead>\n",
              "  <tbody>\n",
              "    <tr>\n",
              "      <th>0</th>\n",
              "      <td>388</td>\n",
              "    </tr>\n",
              "    <tr>\n",
              "      <th>1</th>\n",
              "      <td>1034</td>\n",
              "    </tr>\n",
              "    <tr>\n",
              "      <th>2</th>\n",
              "      <td>1104</td>\n",
              "    </tr>\n",
              "    <tr>\n",
              "      <th>3</th>\n",
              "      <td>1911</td>\n",
              "    </tr>\n",
              "    <tr>\n",
              "      <th>4</th>\n",
              "      <td>2700</td>\n",
              "    </tr>\n",
              "    <tr>\n",
              "      <th>5</th>\n",
              "      <td>1068</td>\n",
              "    </tr>\n",
              "    <tr>\n",
              "      <th>6</th>\n",
              "      <td>702</td>\n",
              "    </tr>\n",
              "    <tr>\n",
              "      <th>7</th>\n",
              "      <td>60</td>\n",
              "    </tr>\n",
              "  </tbody>\n",
              "</table>\n",
              "</div><br><label><b>dtype:</b> int64</label>"
            ]
          },
          "metadata": {},
          "execution_count": 18
        }
      ]
    },
    {
      "cell_type": "code",
      "source": [
        "# 분자\n",
        "sum(score_freq)"
      ],
      "metadata": {
        "id": "eiaeYMvocboj",
        "colab": {
          "base_uri": "https://localhost:8080/"
        },
        "outputId": "f380d262-376b-433d-8d8c-b5bd6f9f5f64"
      },
      "execution_count": null,
      "outputs": [
        {
          "output_type": "execute_result",
          "data": {
            "text/plain": [
              "8967"
            ]
          },
          "metadata": {},
          "execution_count": 19
        }
      ]
    },
    {
      "cell_type": "code",
      "source": [
        "# 분모\n",
        "sum(freq)"
      ],
      "metadata": {
        "id": "eU6vU5WXchZS",
        "colab": {
          "base_uri": "https://localhost:8080/"
        },
        "outputId": "64201c03-a9f4-4bbd-d60f-592f28cdc514"
      },
      "execution_count": null,
      "outputs": [
        {
          "output_type": "execute_result",
          "data": {
            "text/plain": [
              "100"
            ]
          },
          "metadata": {},
          "execution_count": 20
        }
      ]
    },
    {
      "cell_type": "code",
      "source": [
        "# 가중 평균 = 분자 / 분모\n",
        "sum(score_freq)/sum(freq)"
      ],
      "metadata": {
        "id": "VCHEEXytcmdB",
        "colab": {
          "base_uri": "https://localhost:8080/"
        },
        "outputId": "cee7832e-99ed-4fff-970a-35d7872ab35e"
      },
      "execution_count": null,
      "outputs": [
        {
          "output_type": "execute_result",
          "data": {
            "text/plain": [
              "89.67"
            ]
          },
          "metadata": {},
          "execution_count": 21
        }
      ]
    },
    {
      "cell_type": "code",
      "source": [
        "# 산술평균\n",
        "score.mean()"
      ],
      "metadata": {
        "colab": {
          "base_uri": "https://localhost:8080/"
        },
        "id": "A4ECqssqcs5Q",
        "outputId": "0771d363-f0ef-4dfb-fba3-fc103d44152c"
      },
      "execution_count": null,
      "outputs": [
        {
          "output_type": "execute_result",
          "data": {
            "text/plain": [
              "86.375"
            ]
          },
          "metadata": {},
          "execution_count": 22
        }
      ]
    },
    {
      "cell_type": "markdown",
      "source": [
        "## 기하평균"
      ],
      "metadata": {
        "id": "7q7ZuuOJs3tC"
      }
    },
    {
      "cell_type": "code",
      "source": [
        "# 원금 100 만원\n",
        "# 첫 해 50% 이익\n",
        "# 둘째 해 50% 손해\n",
        "100 * (1 + 0.5) * (1 - 0.5)"
      ],
      "metadata": {
        "colab": {
          "base_uri": "https://localhost:8080/"
        },
        "outputId": "746efefb-47bc-4316-fff4-e01eca66c2a3",
        "id": "wyS3q68mUs9Z"
      },
      "execution_count": null,
      "outputs": [
        {
          "output_type": "execute_result",
          "data": {
            "text/plain": [
              "75.0"
            ]
          },
          "metadata": {},
          "execution_count": 23
        }
      ]
    },
    {
      "cell_type": "code",
      "source": [
        "# 산술평균으로 평균수익률을 먼저 구해보자\n",
        "(0.5 + (- 0.5)) / 2\n",
        "# 100 만원으로 투자해서 75 만원 회수 즉 25 만원 손해인데, 0% 수익이 났다는 것으로 보아 적합하지 않음"
      ],
      "metadata": {
        "colab": {
          "base_uri": "https://localhost:8080/"
        },
        "outputId": "eb9ee29f-d5e2-4e83-dba2-6387c8f824ab",
        "id": "X2wkuxNdUs9g"
      },
      "execution_count": null,
      "outputs": [
        {
          "output_type": "execute_result",
          "data": {
            "text/plain": [
              "0.0"
            ]
          },
          "metadata": {},
          "execution_count": 24
        }
      ]
    },
    {
      "cell_type": "code",
      "source": [
        "# 기하평균 = 정사각형 0.75로 만들어보자\n",
        "100 * (np.sqrt((1 - 0.25) * (1 - 0.25)))"
      ],
      "metadata": {
        "colab": {
          "base_uri": "https://localhost:8080/"
        },
        "id": "1uhDyYjIYCVq",
        "outputId": "679cc5f9-c1dd-4417-a6a6-05ccf3c84b00"
      },
      "execution_count": null,
      "outputs": [
        {
          "output_type": "execute_result",
          "data": {
            "text/plain": [
              "75.0"
            ]
          },
          "metadata": {},
          "execution_count": 25
        }
      ]
    },
    {
      "cell_type": "code",
      "source": [
        "# 기하평균으로 평균 수익률을 구해보자\n",
        "# 원금은 빼야 하므로 -1\n",
        "np.sqrt((1 - 0.25) * (1 - 0.25)) - 1"
      ],
      "metadata": {
        "colab": {
          "base_uri": "https://localhost:8080/"
        },
        "outputId": "20213606-7ec0-4a67-82a3-f05ab21ab437",
        "id": "D7N6mbDSUs9g"
      },
      "execution_count": null,
      "outputs": [
        {
          "output_type": "execute_result",
          "data": {
            "text/plain": [
              "-0.25"
            ]
          },
          "metadata": {},
          "execution_count": 26
        }
      ]
    },
    {
      "cell_type": "code",
      "source": [
        "# 평균 수익률로 현재 수익금 계산\n",
        "100 + (100 * (np.sqrt((1 - 0.25) * (1 - 0.25)) - 1))\n",
        "# 원금 100 만원"
      ],
      "metadata": {
        "colab": {
          "base_uri": "https://localhost:8080/"
        },
        "outputId": "3b3e3927-89cc-4fb5-9786-be33f801e75e",
        "id": "2tNeGwIyUs9g"
      },
      "execution_count": null,
      "outputs": [
        {
          "output_type": "execute_result",
          "data": {
            "text/plain": [
              "75.0"
            ]
          },
          "metadata": {},
          "execution_count": 27
        }
      ]
    },
    {
      "cell_type": "markdown",
      "source": [
        "## 조화평균"
      ],
      "metadata": {
        "id": "JazDCOdMkbwX"
      }
    },
    {
      "cell_type": "code",
      "source": [
        "# 산술평균\n",
        "# x = {2,3}\n",
        "(2+3)/2"
      ],
      "metadata": {
        "colab": {
          "base_uri": "https://localhost:8080/"
        },
        "id": "-kv1n2McJwFY",
        "outputId": "91b671e4-efaa-42a3-d5d0-16b43dcfa701"
      },
      "execution_count": null,
      "outputs": [
        {
          "output_type": "execute_result",
          "data": {
            "text/plain": [
              "2.5"
            ]
          },
          "metadata": {},
          "execution_count": 28
        }
      ]
    },
    {
      "cell_type": "code",
      "source": [
        "# 관측치를 역수로 변환하여 산술평균을 구한 뒤 다시 역수를 취함\n",
        "(1/2+1/3)/2"
      ],
      "metadata": {
        "colab": {
          "base_uri": "https://localhost:8080/"
        },
        "id": "ew9TomAGknmi",
        "outputId": "0c10d986-d87b-4c9b-c936-e1476488e58d"
      },
      "execution_count": null,
      "outputs": [
        {
          "output_type": "execute_result",
          "data": {
            "text/plain": [
              "0.41666666666666663"
            ]
          },
          "metadata": {},
          "execution_count": 29
        }
      ]
    },
    {
      "cell_type": "code",
      "source": [
        "1/((1/2+1/3)/2)"
      ],
      "metadata": {
        "colab": {
          "base_uri": "https://localhost:8080/"
        },
        "id": "oZ06C1Tmkyb0",
        "outputId": "7bf3021e-cea0-43c7-f184-9f6b2460d4cf"
      },
      "execution_count": null,
      "outputs": [
        {
          "output_type": "execute_result",
          "data": {
            "text/plain": [
              "2.4000000000000004"
            ]
          },
          "metadata": {},
          "execution_count": 30
        }
      ]
    },
    {
      "cell_type": "code",
      "source": [
        "# 조화평균 공식 이용\n",
        "(2*2*3)/(2+3)"
      ],
      "metadata": {
        "colab": {
          "base_uri": "https://localhost:8080/"
        },
        "id": "rbtlZeiKllWd",
        "outputId": "edca2e6e-4bda-4962-8af1-3d4fbc4c9f02"
      },
      "execution_count": null,
      "outputs": [
        {
          "output_type": "execute_result",
          "data": {
            "text/plain": [
              "2.4"
            ]
          },
          "metadata": {},
          "execution_count": 31
        }
      ]
    },
    {
      "cell_type": "markdown",
      "source": [
        "## 중앙값"
      ],
      "metadata": {
        "id": "HRnHGZs9zEXB"
      }
    },
    {
      "cell_type": "code",
      "source": [
        "# 홀수개일 때는 가장 중앙에 있는 값\n",
        "x = pd.Series([135456, 54365, 37668, 32456, 25500])"
      ],
      "metadata": {
        "id": "30aQWxEJzGhU"
      },
      "execution_count": null,
      "outputs": []
    },
    {
      "cell_type": "code",
      "source": [
        "# 오름 차순 정렬\n",
        "x1 = x.sort_values()\n",
        "x1"
      ],
      "metadata": {
        "id": "oXUFOYCRzUIe",
        "colab": {
          "base_uri": "https://localhost:8080/",
          "height": 241
        },
        "outputId": "23f33fec-937f-4bb6-9401-ad76e24ed480"
      },
      "execution_count": null,
      "outputs": [
        {
          "output_type": "execute_result",
          "data": {
            "text/plain": [
              "4     25500\n",
              "3     32456\n",
              "2     37668\n",
              "1     54365\n",
              "0    135456\n",
              "dtype: int64"
            ],
            "text/html": [
              "<div>\n",
              "<style scoped>\n",
              "    .dataframe tbody tr th:only-of-type {\n",
              "        vertical-align: middle;\n",
              "    }\n",
              "\n",
              "    .dataframe tbody tr th {\n",
              "        vertical-align: top;\n",
              "    }\n",
              "\n",
              "    .dataframe thead th {\n",
              "        text-align: right;\n",
              "    }\n",
              "</style>\n",
              "<table border=\"1\" class=\"dataframe\">\n",
              "  <thead>\n",
              "    <tr style=\"text-align: right;\">\n",
              "      <th></th>\n",
              "      <th>0</th>\n",
              "    </tr>\n",
              "  </thead>\n",
              "  <tbody>\n",
              "    <tr>\n",
              "      <th>4</th>\n",
              "      <td>25500</td>\n",
              "    </tr>\n",
              "    <tr>\n",
              "      <th>3</th>\n",
              "      <td>32456</td>\n",
              "    </tr>\n",
              "    <tr>\n",
              "      <th>2</th>\n",
              "      <td>37668</td>\n",
              "    </tr>\n",
              "    <tr>\n",
              "      <th>1</th>\n",
              "      <td>54365</td>\n",
              "    </tr>\n",
              "    <tr>\n",
              "      <th>0</th>\n",
              "      <td>135456</td>\n",
              "    </tr>\n",
              "  </tbody>\n",
              "</table>\n",
              "</div><br><label><b>dtype:</b> int64</label>"
            ]
          },
          "metadata": {},
          "execution_count": 33
        }
      ]
    },
    {
      "cell_type": "code",
      "source": [
        "# 중앙값\n",
        "x1[2]"
      ],
      "metadata": {
        "id": "QjRvK9Xpze8m",
        "colab": {
          "base_uri": "https://localhost:8080/"
        },
        "outputId": "41862ffe-3aaa-4f79-fa03-d137facf91ac"
      },
      "execution_count": null,
      "outputs": [
        {
          "output_type": "execute_result",
          "data": {
            "text/plain": [
              "37668"
            ]
          },
          "metadata": {},
          "execution_count": 34
        }
      ]
    },
    {
      "cell_type": "code",
      "source": [
        "# 함수로 찾아보기\n",
        "x.median()"
      ],
      "metadata": {
        "id": "fJpDuAI30GEx",
        "colab": {
          "base_uri": "https://localhost:8080/"
        },
        "outputId": "62c5cdd7-9931-40d0-8273-36844ab1edb9"
      },
      "execution_count": null,
      "outputs": [
        {
          "output_type": "execute_result",
          "data": {
            "text/plain": [
              "37668.0"
            ]
          },
          "metadata": {},
          "execution_count": 35
        }
      ]
    },
    {
      "cell_type": "code",
      "source": [
        "# 짝수개일 때는 가장 중앙에 있는 2개의 값들의 평균\n",
        "x = pd.Series([135456, 54365, 37668, 34500, 32456, 25500])"
      ],
      "metadata": {
        "id": "C2BG41URztHZ"
      },
      "execution_count": null,
      "outputs": []
    },
    {
      "cell_type": "code",
      "source": [
        "# 오름 차순 정렬\n",
        "x1 = x.sort_values()\n",
        "x1"
      ],
      "metadata": {
        "id": "r67nYbfWztHa",
        "colab": {
          "base_uri": "https://localhost:8080/",
          "height": 272
        },
        "outputId": "5f50c4a5-d412-4f0a-97be-63fdd5fd7f88"
      },
      "execution_count": null,
      "outputs": [
        {
          "output_type": "execute_result",
          "data": {
            "text/plain": [
              "5     25500\n",
              "4     32456\n",
              "3     34500\n",
              "2     37668\n",
              "1     54365\n",
              "0    135456\n",
              "dtype: int64"
            ],
            "text/html": [
              "<div>\n",
              "<style scoped>\n",
              "    .dataframe tbody tr th:only-of-type {\n",
              "        vertical-align: middle;\n",
              "    }\n",
              "\n",
              "    .dataframe tbody tr th {\n",
              "        vertical-align: top;\n",
              "    }\n",
              "\n",
              "    .dataframe thead th {\n",
              "        text-align: right;\n",
              "    }\n",
              "</style>\n",
              "<table border=\"1\" class=\"dataframe\">\n",
              "  <thead>\n",
              "    <tr style=\"text-align: right;\">\n",
              "      <th></th>\n",
              "      <th>0</th>\n",
              "    </tr>\n",
              "  </thead>\n",
              "  <tbody>\n",
              "    <tr>\n",
              "      <th>5</th>\n",
              "      <td>25500</td>\n",
              "    </tr>\n",
              "    <tr>\n",
              "      <th>4</th>\n",
              "      <td>32456</td>\n",
              "    </tr>\n",
              "    <tr>\n",
              "      <th>3</th>\n",
              "      <td>34500</td>\n",
              "    </tr>\n",
              "    <tr>\n",
              "      <th>2</th>\n",
              "      <td>37668</td>\n",
              "    </tr>\n",
              "    <tr>\n",
              "      <th>1</th>\n",
              "      <td>54365</td>\n",
              "    </tr>\n",
              "    <tr>\n",
              "      <th>0</th>\n",
              "      <td>135456</td>\n",
              "    </tr>\n",
              "  </tbody>\n",
              "</table>\n",
              "</div><br><label><b>dtype:</b> int64</label>"
            ]
          },
          "metadata": {},
          "execution_count": 37
        }
      ]
    },
    {
      "cell_type": "code",
      "source": [
        "# 중앙값\n",
        "(x1[3] + x1[2])/2"
      ],
      "metadata": {
        "id": "TeEE61KlztHa",
        "colab": {
          "base_uri": "https://localhost:8080/"
        },
        "outputId": "165e8152-a502-4933-ef27-b1e56f4ae7b5"
      },
      "execution_count": null,
      "outputs": [
        {
          "output_type": "execute_result",
          "data": {
            "text/plain": [
              "36084.0"
            ]
          },
          "metadata": {},
          "execution_count": 38
        }
      ]
    },
    {
      "cell_type": "code",
      "source": [
        "# 함수로 찾아보기\n",
        "x.median()"
      ],
      "metadata": {
        "id": "UaOqDUum0V41",
        "colab": {
          "base_uri": "https://localhost:8080/"
        },
        "outputId": "659ef137-5f37-49e0-c812-0503dabed83a"
      },
      "execution_count": null,
      "outputs": [
        {
          "output_type": "execute_result",
          "data": {
            "text/plain": [
              "36084.0"
            ]
          },
          "metadata": {},
          "execution_count": 39
        }
      ]
    },
    {
      "cell_type": "code",
      "source": [
        "# 이상치와 평균\n",
        "x = pd.Series([135456, 54365, 37668, 34500, 32456, 25500])"
      ],
      "metadata": {
        "id": "nn5f_nwz3XtX"
      },
      "execution_count": null,
      "outputs": []
    },
    {
      "cell_type": "code",
      "source": [
        "# 요약통계량\n",
        "x.describe()"
      ],
      "metadata": {
        "id": "PGQQ5m633aJc",
        "colab": {
          "base_uri": "https://localhost:8080/",
          "height": 335
        },
        "outputId": "bda6bffe-a32c-43ca-8bcb-4251a263d772"
      },
      "execution_count": null,
      "outputs": [
        {
          "output_type": "execute_result",
          "data": {
            "text/plain": [
              "count         6.000000\n",
              "mean      53324.166667\n",
              "std       41366.292599\n",
              "min       25500.000000\n",
              "25%       32967.000000\n",
              "50%       36084.000000\n",
              "75%       50190.750000\n",
              "max      135456.000000\n",
              "dtype: float64"
            ],
            "text/html": [
              "<div>\n",
              "<style scoped>\n",
              "    .dataframe tbody tr th:only-of-type {\n",
              "        vertical-align: middle;\n",
              "    }\n",
              "\n",
              "    .dataframe tbody tr th {\n",
              "        vertical-align: top;\n",
              "    }\n",
              "\n",
              "    .dataframe thead th {\n",
              "        text-align: right;\n",
              "    }\n",
              "</style>\n",
              "<table border=\"1\" class=\"dataframe\">\n",
              "  <thead>\n",
              "    <tr style=\"text-align: right;\">\n",
              "      <th></th>\n",
              "      <th>0</th>\n",
              "    </tr>\n",
              "  </thead>\n",
              "  <tbody>\n",
              "    <tr>\n",
              "      <th>count</th>\n",
              "      <td>6.000000</td>\n",
              "    </tr>\n",
              "    <tr>\n",
              "      <th>mean</th>\n",
              "      <td>53324.166667</td>\n",
              "    </tr>\n",
              "    <tr>\n",
              "      <th>std</th>\n",
              "      <td>41366.292599</td>\n",
              "    </tr>\n",
              "    <tr>\n",
              "      <th>min</th>\n",
              "      <td>25500.000000</td>\n",
              "    </tr>\n",
              "    <tr>\n",
              "      <th>25%</th>\n",
              "      <td>32967.000000</td>\n",
              "    </tr>\n",
              "    <tr>\n",
              "      <th>50%</th>\n",
              "      <td>36084.000000</td>\n",
              "    </tr>\n",
              "    <tr>\n",
              "      <th>75%</th>\n",
              "      <td>50190.750000</td>\n",
              "    </tr>\n",
              "    <tr>\n",
              "      <th>max</th>\n",
              "      <td>135456.000000</td>\n",
              "    </tr>\n",
              "  </tbody>\n",
              "</table>\n",
              "</div><br><label><b>dtype:</b> float64</label>"
            ]
          },
          "metadata": {},
          "execution_count": 41
        }
      ]
    },
    {
      "cell_type": "code",
      "source": [
        "# 극단적으로 높은 값 확인\n",
        "x.max()"
      ],
      "metadata": {
        "id": "f__Or_-w3jY6",
        "colab": {
          "base_uri": "https://localhost:8080/"
        },
        "outputId": "bac383e1-2b51-4eb6-93a3-00061f2b9148"
      },
      "execution_count": null,
      "outputs": [
        {
          "output_type": "execute_result",
          "data": {
            "text/plain": [
              "135456"
            ]
          },
          "metadata": {},
          "execution_count": 42
        }
      ]
    },
    {
      "cell_type": "code",
      "source": [
        "# 극단치를 제외한 평균\n",
        "x[1:].mean()"
      ],
      "metadata": {
        "id": "O3gy1ObY3rm2",
        "colab": {
          "base_uri": "https://localhost:8080/"
        },
        "outputId": "fb644fc1-a90a-4327-fe7f-8416b9d96eef"
      },
      "execution_count": null,
      "outputs": [
        {
          "output_type": "execute_result",
          "data": {
            "text/plain": [
              "36897.8"
            ]
          },
          "metadata": {},
          "execution_count": 43
        }
      ]
    },
    {
      "cell_type": "markdown",
      "source": [
        "## 최빈값"
      ],
      "metadata": {
        "id": "FXAzE_PD6K5O"
      }
    },
    {
      "cell_type": "code",
      "source": [
        "# 1=민주당\n",
        "# 2=공화당\n",
        "# 3=무소속\n",
        "party = pd.Series([1, 2, 3, 3, 3, 2, 2, 1, 1, 1, 1, 1, 2, 2, 2, 2, 1, 1, 1])"
      ],
      "metadata": {
        "id": "ZyJqV6FW32Xc"
      },
      "execution_count": null,
      "outputs": []
    },
    {
      "cell_type": "code",
      "source": [
        "# 범주형 변수 = 빈도표\n",
        "party.value_counts()\n",
        "# 최빈값 = 1=민주당"
      ],
      "metadata": {
        "id": "TSNxYvhv6as3",
        "colab": {
          "base_uri": "https://localhost:8080/",
          "height": 178
        },
        "outputId": "a660107f-3c0f-4672-88d8-e82c712955d2"
      },
      "execution_count": null,
      "outputs": [
        {
          "output_type": "execute_result",
          "data": {
            "text/plain": [
              "1    9\n",
              "2    7\n",
              "3    3\n",
              "Name: count, dtype: int64"
            ],
            "text/html": [
              "<div>\n",
              "<style scoped>\n",
              "    .dataframe tbody tr th:only-of-type {\n",
              "        vertical-align: middle;\n",
              "    }\n",
              "\n",
              "    .dataframe tbody tr th {\n",
              "        vertical-align: top;\n",
              "    }\n",
              "\n",
              "    .dataframe thead th {\n",
              "        text-align: right;\n",
              "    }\n",
              "</style>\n",
              "<table border=\"1\" class=\"dataframe\">\n",
              "  <thead>\n",
              "    <tr style=\"text-align: right;\">\n",
              "      <th></th>\n",
              "      <th>count</th>\n",
              "    </tr>\n",
              "  </thead>\n",
              "  <tbody>\n",
              "    <tr>\n",
              "      <th>1</th>\n",
              "      <td>9</td>\n",
              "    </tr>\n",
              "    <tr>\n",
              "      <th>2</th>\n",
              "      <td>7</td>\n",
              "    </tr>\n",
              "    <tr>\n",
              "      <th>3</th>\n",
              "      <td>3</td>\n",
              "    </tr>\n",
              "  </tbody>\n",
              "</table>\n",
              "</div><br><label><b>dtype:</b> int64</label>"
            ]
          },
          "metadata": {},
          "execution_count": 59
        }
      ]
    },
    {
      "cell_type": "code",
      "source": [
        "# 1=빨간머리\n",
        "# 2=금색머리\n",
        "# 3=검정머리\n",
        "# 4=갈색머리\n",
        "hair = pd.Series([1, 1, 1, 2, 2, 2, 2, 2, 3, 3, 3, 3, 3, 3, 3, 3, 4, 4, 4, 4, 4, 4, 4, 4])"
      ],
      "metadata": {
        "id": "5Z3TmRN56n8Z"
      },
      "execution_count": null,
      "outputs": []
    },
    {
      "cell_type": "code",
      "source": [
        "# 범주형 변수 = 빈도표\n",
        "hair.value_counts()\n",
        "# 최빈값\n",
        "# 3=검정머리\n",
        "# 4=갈색머리"
      ],
      "metadata": {
        "id": "vDI_Gn7M_d2R",
        "colab": {
          "base_uri": "https://localhost:8080/",
          "height": 210
        },
        "outputId": "41cd5413-a92d-4bcb-82f4-7eaa269ccef7"
      },
      "execution_count": null,
      "outputs": [
        {
          "output_type": "execute_result",
          "data": {
            "text/plain": [
              "3    8\n",
              "4    8\n",
              "2    5\n",
              "1    3\n",
              "Name: count, dtype: int64"
            ],
            "text/html": [
              "<div>\n",
              "<style scoped>\n",
              "    .dataframe tbody tr th:only-of-type {\n",
              "        vertical-align: middle;\n",
              "    }\n",
              "\n",
              "    .dataframe tbody tr th {\n",
              "        vertical-align: top;\n",
              "    }\n",
              "\n",
              "    .dataframe thead th {\n",
              "        text-align: right;\n",
              "    }\n",
              "</style>\n",
              "<table border=\"1\" class=\"dataframe\">\n",
              "  <thead>\n",
              "    <tr style=\"text-align: right;\">\n",
              "      <th></th>\n",
              "      <th>count</th>\n",
              "    </tr>\n",
              "  </thead>\n",
              "  <tbody>\n",
              "    <tr>\n",
              "      <th>3</th>\n",
              "      <td>8</td>\n",
              "    </tr>\n",
              "    <tr>\n",
              "      <th>4</th>\n",
              "      <td>8</td>\n",
              "    </tr>\n",
              "    <tr>\n",
              "      <th>2</th>\n",
              "      <td>5</td>\n",
              "    </tr>\n",
              "    <tr>\n",
              "      <th>1</th>\n",
              "      <td>3</td>\n",
              "    </tr>\n",
              "  </tbody>\n",
              "</table>\n",
              "</div><br><label><b>dtype:</b> int64</label>"
            ]
          },
          "metadata": {},
          "execution_count": 61
        }
      ]
    },
    {
      "cell_type": "code",
      "source": [
        "# 최빈값을 찾아주는 함수\n",
        "from scipy.stats import mode\n",
        "mode(party)"
      ],
      "metadata": {
        "id": "a-iQD9Nn6jO4",
        "colab": {
          "base_uri": "https://localhost:8080/"
        },
        "outputId": "52540072-7903-4557-8b0b-445cbccfd34e"
      },
      "execution_count": null,
      "outputs": [
        {
          "output_type": "execute_result",
          "data": {
            "text/plain": [
              "ModeResult(mode=1, count=9)"
            ]
          },
          "metadata": {},
          "execution_count": 62
        }
      ]
    },
    {
      "cell_type": "code",
      "source": [
        "mode(hair)\n",
        "# 최빈값이 2개임에도 불구하고 3 하나만 알려줌"
      ],
      "metadata": {
        "id": "AYrplEMm_2O6",
        "colab": {
          "base_uri": "https://localhost:8080/"
        },
        "outputId": "323e6d48-5367-4a6a-924e-abc3f9995d3e"
      },
      "execution_count": null,
      "outputs": [
        {
          "output_type": "execute_result",
          "data": {
            "text/plain": [
              "ModeResult(mode=3, count=8)"
            ]
          },
          "metadata": {},
          "execution_count": 63
        }
      ]
    },
    {
      "cell_type": "code",
      "source": [
        "# 최빈값이 2개 이상인 경우\n",
        "from collections import Counter\n",
        "count = Counter(hair)\n",
        "count"
      ],
      "metadata": {
        "colab": {
          "base_uri": "https://localhost:8080/"
        },
        "id": "UEIKcdzV_-94",
        "outputId": "5c88fc23-1b02-48ee-8461-5c5216ca9b22"
      },
      "execution_count": null,
      "outputs": [
        {
          "output_type": "execute_result",
          "data": {
            "text/plain": [
              "Counter({1: 3, 2: 5, 3: 8, 4: 8})"
            ]
          },
          "metadata": {},
          "execution_count": 64
        }
      ]
    },
    {
      "cell_type": "code",
      "source": [
        "freq = count.most_common()\n",
        "freq\n",
        "# 값과 빈도를 함께 반환"
      ],
      "metadata": {
        "colab": {
          "base_uri": "https://localhost:8080/"
        },
        "id": "Bk9lGvU2AkBK",
        "outputId": "a5b01b18-5d2d-4e44-e0d8-db89895c67d4"
      },
      "execution_count": null,
      "outputs": [
        {
          "output_type": "execute_result",
          "data": {
            "text/plain": [
              "[(3, 8), (4, 8), (2, 5), (1, 3)]"
            ]
          },
          "metadata": {},
          "execution_count": 65
        }
      ]
    },
    {
      "cell_type": "code",
      "source": [
        "# 값\n",
        "print(freq[0][0])\n",
        "print(freq[1][0])"
      ],
      "metadata": {
        "colab": {
          "base_uri": "https://localhost:8080/"
        },
        "id": "0iJ6yxLfA0zX",
        "outputId": "4446db50-4fb8-46d1-9082-94cc9a7334c2"
      },
      "execution_count": null,
      "outputs": [
        {
          "output_type": "stream",
          "name": "stdout",
          "text": [
            "3\n",
            "4\n"
          ]
        }
      ]
    },
    {
      "cell_type": "code",
      "source": [
        "# 빈도\n",
        "print(freq[0][1])\n",
        "print(freq[1][1])"
      ],
      "metadata": {
        "colab": {
          "base_uri": "https://localhost:8080/"
        },
        "id": "u8SWVWBlA7xe",
        "outputId": "0322e503-e2a0-4760-a293-7d9b8e35e84d"
      },
      "execution_count": null,
      "outputs": [
        {
          "output_type": "execute_result",
          "data": {
            "text/plain": [
              "8"
            ]
          },
          "metadata": {},
          "execution_count": 67
        }
      ]
    },
    {
      "cell_type": "code",
      "source": [
        "max = freq[0][1]\n",
        "max"
      ],
      "metadata": {
        "colab": {
          "base_uri": "https://localhost:8080/"
        },
        "id": "AqpTFXpKA-Gx",
        "outputId": "bcec36c4-ff2d-402e-8084-7390befdfbb3"
      },
      "execution_count": null,
      "outputs": [
        {
          "output_type": "execute_result",
          "data": {
            "text/plain": [
              "8"
            ]
          },
          "metadata": {},
          "execution_count": 68
        }
      ]
    },
    {
      "cell_type": "code",
      "source": [
        "mode = []\n",
        "for i in freq:\n",
        "  if i[1] == max:\n",
        "    mode.append(i[0])\n",
        "print(mode)"
      ],
      "metadata": {
        "colab": {
          "base_uri": "https://localhost:8080/"
        },
        "id": "A9wilUkYBdJh",
        "outputId": "956696d8-2fc4-467c-8176-69d5345b8226"
      },
      "execution_count": null,
      "outputs": [
        {
          "output_type": "stream",
          "name": "stdout",
          "text": [
            "[3, 4]\n"
          ]
        }
      ]
    },
    {
      "cell_type": "code",
      "source": [
        "# 최빈값을 알려주는 함수\n",
        "from collections import Counter\n",
        "def mode_mtp(data):\n",
        "  count = Counter(data)\n",
        "  freq = count.most_common()\n",
        "  max = freq[0][1]\n",
        "  mode = []\n",
        "  for i in freq:\n",
        "    if i[1] == max:\n",
        "      mode.append(i[0])\n",
        "  return mode"
      ],
      "metadata": {
        "id": "22omAkKeAtif"
      },
      "execution_count": null,
      "outputs": []
    },
    {
      "cell_type": "code",
      "source": [
        "mode_mtp(hair)"
      ],
      "metadata": {
        "colab": {
          "base_uri": "https://localhost:8080/"
        },
        "id": "WB_QZ1laAdDr",
        "outputId": "957bbb36-de1f-4971-d88b-5c23733b43a6"
      },
      "execution_count": null,
      "outputs": [
        {
          "output_type": "execute_result",
          "data": {
            "text/plain": [
              "[3, 4]"
            ]
          },
          "metadata": {},
          "execution_count": 71
        }
      ]
    },
    {
      "cell_type": "markdown",
      "source": [
        "## 산포측도"
      ],
      "metadata": {
        "id": "Q2xnR6ctIKSI"
      }
    },
    {
      "cell_type": "code",
      "source": [
        "# 변동성\n",
        "import pandas as pd"
      ],
      "metadata": {
        "id": "t9Gia4anIOBw"
      },
      "execution_count": null,
      "outputs": []
    },
    {
      "cell_type": "code",
      "source": [
        "df = pd.DataFrame({'x1': [7,6,3,3,1],\n",
        "                   'x2': [3,4,4,5,4],\n",
        "                   'x3': [4,4,4,4,4]})"
      ],
      "metadata": {
        "id": "yo9zqwz4IclL"
      },
      "execution_count": null,
      "outputs": []
    },
    {
      "cell_type": "code",
      "source": [
        "# 평균\n",
        "df.mean()"
      ],
      "metadata": {
        "id": "cWodUUyMIqiC",
        "colab": {
          "base_uri": "https://localhost:8080/",
          "height": 178
        },
        "outputId": "8fbde4ca-68bd-47a6-8595-0c9ac5a55e6d"
      },
      "execution_count": null,
      "outputs": [
        {
          "output_type": "execute_result",
          "data": {
            "text/plain": [
              "x1    4.0\n",
              "x2    4.0\n",
              "x3    4.0\n",
              "dtype: float64"
            ],
            "text/html": [
              "<div>\n",
              "<style scoped>\n",
              "    .dataframe tbody tr th:only-of-type {\n",
              "        vertical-align: middle;\n",
              "    }\n",
              "\n",
              "    .dataframe tbody tr th {\n",
              "        vertical-align: top;\n",
              "    }\n",
              "\n",
              "    .dataframe thead th {\n",
              "        text-align: right;\n",
              "    }\n",
              "</style>\n",
              "<table border=\"1\" class=\"dataframe\">\n",
              "  <thead>\n",
              "    <tr style=\"text-align: right;\">\n",
              "      <th></th>\n",
              "      <th>0</th>\n",
              "    </tr>\n",
              "  </thead>\n",
              "  <tbody>\n",
              "    <tr>\n",
              "      <th>x1</th>\n",
              "      <td>4.0</td>\n",
              "    </tr>\n",
              "    <tr>\n",
              "      <th>x2</th>\n",
              "      <td>4.0</td>\n",
              "    </tr>\n",
              "    <tr>\n",
              "      <th>x3</th>\n",
              "      <td>4.0</td>\n",
              "    </tr>\n",
              "  </tbody>\n",
              "</table>\n",
              "</div><br><label><b>dtype:</b> float64</label>"
            ]
          },
          "metadata": {},
          "execution_count": 74
        }
      ]
    },
    {
      "cell_type": "code",
      "source": [
        "x1_bar = df.mean()[0]\n",
        "x2_bar = df.mean()[1]\n",
        "x3_bar = df.mean()[2]\n",
        "print(x1_bar,x2_bar,x3_bar)"
      ],
      "metadata": {
        "colab": {
          "base_uri": "https://localhost:8080/"
        },
        "id": "kbD_5Ee9Ixao",
        "outputId": "53d7e991-0695-4629-ae66-9f2c963f980e"
      },
      "execution_count": null,
      "outputs": [
        {
          "output_type": "stream",
          "name": "stdout",
          "text": [
            "4.0 4.0 4.0\n"
          ]
        },
        {
          "output_type": "stream",
          "name": "stderr",
          "text": [
            "<ipython-input-75-2642048734ba>:1: FutureWarning: Series.__getitem__ treating keys as positions is deprecated. In a future version, integer keys will always be treated as labels (consistent with DataFrame behavior). To access a value by position, use `ser.iloc[pos]`\n",
            "  x1_bar = df.mean()[0]\n",
            "<ipython-input-75-2642048734ba>:2: FutureWarning: Series.__getitem__ treating keys as positions is deprecated. In a future version, integer keys will always be treated as labels (consistent with DataFrame behavior). To access a value by position, use `ser.iloc[pos]`\n",
            "  x2_bar = df.mean()[1]\n",
            "<ipython-input-75-2642048734ba>:3: FutureWarning: Series.__getitem__ treating keys as positions is deprecated. In a future version, integer keys will always be treated as labels (consistent with DataFrame behavior). To access a value by position, use `ser.iloc[pos]`\n",
            "  x3_bar = df.mean()[2]\n"
          ]
        }
      ]
    },
    {
      "cell_type": "code",
      "source": [
        "# 편차\n",
        "x1_dev = df['x1'] - x1_bar\n",
        "x2_dev = df['x2'] - x2_bar\n",
        "x3_dev = df['x3'] - x3_bar\n",
        "print(x1_dev,x2_dev,x3_dev)"
      ],
      "metadata": {
        "id": "8X2Nilw4JBky",
        "colab": {
          "base_uri": "https://localhost:8080/"
        },
        "outputId": "3968d421-9039-44e1-dc38-756dbd5efa58"
      },
      "execution_count": null,
      "outputs": [
        {
          "output_type": "stream",
          "name": "stdout",
          "text": [
            "0    3.0\n",
            "1    2.0\n",
            "2   -1.0\n",
            "3   -1.0\n",
            "4   -3.0\n",
            "Name: x1, dtype: float64 0   -1.0\n",
            "1    0.0\n",
            "2    0.0\n",
            "3    1.0\n",
            "4    0.0\n",
            "Name: x2, dtype: float64 0    0.0\n",
            "1    0.0\n",
            "2    0.0\n",
            "3    0.0\n",
            "4    0.0\n",
            "Name: x3, dtype: float64\n"
          ]
        }
      ]
    },
    {
      "cell_type": "code",
      "source": [
        "# 편차합\n",
        "print(sum(x1_dev),sum(x2_dev),sum(x3_dev))"
      ],
      "metadata": {
        "id": "u14zXyFqJYE2",
        "colab": {
          "base_uri": "https://localhost:8080/"
        },
        "outputId": "cd67778b-acc5-4a73-8aaf-b456bf279b50"
      },
      "execution_count": null,
      "outputs": [
        {
          "output_type": "stream",
          "name": "stdout",
          "text": [
            "0.0 0.0 0.0\n"
          ]
        }
      ]
    },
    {
      "cell_type": "code",
      "source": [
        "# 편차제곱\n",
        "x1_dev2 = x1_dev**2\n",
        "x2_dev2 = x2_dev**2\n",
        "x3_dev2 = x3_dev**2\n",
        "print(x1_dev2,x2_dev2,x3_dev2)"
      ],
      "metadata": {
        "id": "L3h0I-E6JqD5",
        "colab": {
          "base_uri": "https://localhost:8080/"
        },
        "outputId": "1005903a-6efb-4519-99c5-6e0a1e8dfd81"
      },
      "execution_count": null,
      "outputs": [
        {
          "output_type": "stream",
          "name": "stdout",
          "text": [
            "0    9.0\n",
            "1    4.0\n",
            "2    1.0\n",
            "3    1.0\n",
            "4    9.0\n",
            "Name: x1, dtype: float64 0    1.0\n",
            "1    0.0\n",
            "2    0.0\n",
            "3    1.0\n",
            "4    0.0\n",
            "Name: x2, dtype: float64 0    0.0\n",
            "1    0.0\n",
            "2    0.0\n",
            "3    0.0\n",
            "4    0.0\n",
            "Name: x3, dtype: float64\n"
          ]
        }
      ]
    },
    {
      "cell_type": "code",
      "source": [
        "# 편차제곱합\n",
        "print(sum(x1_dev2),sum(x2_dev2),sum(x3_dev2))"
      ],
      "metadata": {
        "id": "_qz9haqxJ_em",
        "colab": {
          "base_uri": "https://localhost:8080/"
        },
        "outputId": "2ab96722-2305-4529-c0ca-26c1aa203480"
      },
      "execution_count": null,
      "outputs": [
        {
          "output_type": "stream",
          "name": "stdout",
          "text": [
            "24.0 2.0 0.0\n"
          ]
        }
      ]
    },
    {
      "cell_type": "markdown",
      "source": [
        "## 분산 & 표준편차"
      ],
      "metadata": {
        "id": "VwvjAiKbYAzD"
      }
    },
    {
      "cell_type": "code",
      "source": [
        "score = pd.Series([8,8,8,7,6,6,5,5,4,3])"
      ],
      "metadata": {
        "id": "4LikHcUEKLOr"
      },
      "execution_count": null,
      "outputs": []
    },
    {
      "cell_type": "code",
      "source": [
        "# 평균\n",
        "score_mean = score.mean();score_mean"
      ],
      "metadata": {
        "id": "FO4gz-_jYPN-",
        "colab": {
          "base_uri": "https://localhost:8080/"
        },
        "outputId": "7c51b2c8-127c-4251-f6bb-994096801473"
      },
      "execution_count": null,
      "outputs": [
        {
          "output_type": "execute_result",
          "data": {
            "text/plain": [
              "6.0"
            ]
          },
          "metadata": {},
          "execution_count": 81
        }
      ]
    },
    {
      "cell_type": "code",
      "source": [
        "# 편차\n",
        "score_dev = score - score_mean;score_dev"
      ],
      "metadata": {
        "id": "NOvq7mGzYT3s",
        "colab": {
          "base_uri": "https://localhost:8080/",
          "height": 398
        },
        "outputId": "c7167a15-a26b-4ac2-e188-9fe611463caf"
      },
      "execution_count": null,
      "outputs": [
        {
          "output_type": "execute_result",
          "data": {
            "text/plain": [
              "0    2.0\n",
              "1    2.0\n",
              "2    2.0\n",
              "3    1.0\n",
              "4    0.0\n",
              "5    0.0\n",
              "6   -1.0\n",
              "7   -1.0\n",
              "8   -2.0\n",
              "9   -3.0\n",
              "dtype: float64"
            ],
            "text/html": [
              "<div>\n",
              "<style scoped>\n",
              "    .dataframe tbody tr th:only-of-type {\n",
              "        vertical-align: middle;\n",
              "    }\n",
              "\n",
              "    .dataframe tbody tr th {\n",
              "        vertical-align: top;\n",
              "    }\n",
              "\n",
              "    .dataframe thead th {\n",
              "        text-align: right;\n",
              "    }\n",
              "</style>\n",
              "<table border=\"1\" class=\"dataframe\">\n",
              "  <thead>\n",
              "    <tr style=\"text-align: right;\">\n",
              "      <th></th>\n",
              "      <th>0</th>\n",
              "    </tr>\n",
              "  </thead>\n",
              "  <tbody>\n",
              "    <tr>\n",
              "      <th>0</th>\n",
              "      <td>2.0</td>\n",
              "    </tr>\n",
              "    <tr>\n",
              "      <th>1</th>\n",
              "      <td>2.0</td>\n",
              "    </tr>\n",
              "    <tr>\n",
              "      <th>2</th>\n",
              "      <td>2.0</td>\n",
              "    </tr>\n",
              "    <tr>\n",
              "      <th>3</th>\n",
              "      <td>1.0</td>\n",
              "    </tr>\n",
              "    <tr>\n",
              "      <th>4</th>\n",
              "      <td>0.0</td>\n",
              "    </tr>\n",
              "    <tr>\n",
              "      <th>5</th>\n",
              "      <td>0.0</td>\n",
              "    </tr>\n",
              "    <tr>\n",
              "      <th>6</th>\n",
              "      <td>-1.0</td>\n",
              "    </tr>\n",
              "    <tr>\n",
              "      <th>7</th>\n",
              "      <td>-1.0</td>\n",
              "    </tr>\n",
              "    <tr>\n",
              "      <th>8</th>\n",
              "      <td>-2.0</td>\n",
              "    </tr>\n",
              "    <tr>\n",
              "      <th>9</th>\n",
              "      <td>-3.0</td>\n",
              "    </tr>\n",
              "  </tbody>\n",
              "</table>\n",
              "</div><br><label><b>dtype:</b> float64</label>"
            ]
          },
          "metadata": {},
          "execution_count": 82
        }
      ]
    },
    {
      "cell_type": "code",
      "source": [
        "# 편차제곱\n",
        "score_dev2 = score_dev**2;score_dev2"
      ],
      "metadata": {
        "id": "FMjZ9T25YeBH",
        "colab": {
          "base_uri": "https://localhost:8080/",
          "height": 398
        },
        "outputId": "2f2f2279-731a-4545-8a02-0254b95b44dd"
      },
      "execution_count": null,
      "outputs": [
        {
          "output_type": "execute_result",
          "data": {
            "text/plain": [
              "0    4.0\n",
              "1    4.0\n",
              "2    4.0\n",
              "3    1.0\n",
              "4    0.0\n",
              "5    0.0\n",
              "6    1.0\n",
              "7    1.0\n",
              "8    4.0\n",
              "9    9.0\n",
              "dtype: float64"
            ],
            "text/html": [
              "<div>\n",
              "<style scoped>\n",
              "    .dataframe tbody tr th:only-of-type {\n",
              "        vertical-align: middle;\n",
              "    }\n",
              "\n",
              "    .dataframe tbody tr th {\n",
              "        vertical-align: top;\n",
              "    }\n",
              "\n",
              "    .dataframe thead th {\n",
              "        text-align: right;\n",
              "    }\n",
              "</style>\n",
              "<table border=\"1\" class=\"dataframe\">\n",
              "  <thead>\n",
              "    <tr style=\"text-align: right;\">\n",
              "      <th></th>\n",
              "      <th>0</th>\n",
              "    </tr>\n",
              "  </thead>\n",
              "  <tbody>\n",
              "    <tr>\n",
              "      <th>0</th>\n",
              "      <td>4.0</td>\n",
              "    </tr>\n",
              "    <tr>\n",
              "      <th>1</th>\n",
              "      <td>4.0</td>\n",
              "    </tr>\n",
              "    <tr>\n",
              "      <th>2</th>\n",
              "      <td>4.0</td>\n",
              "    </tr>\n",
              "    <tr>\n",
              "      <th>3</th>\n",
              "      <td>1.0</td>\n",
              "    </tr>\n",
              "    <tr>\n",
              "      <th>4</th>\n",
              "      <td>0.0</td>\n",
              "    </tr>\n",
              "    <tr>\n",
              "      <th>5</th>\n",
              "      <td>0.0</td>\n",
              "    </tr>\n",
              "    <tr>\n",
              "      <th>6</th>\n",
              "      <td>1.0</td>\n",
              "    </tr>\n",
              "    <tr>\n",
              "      <th>7</th>\n",
              "      <td>1.0</td>\n",
              "    </tr>\n",
              "    <tr>\n",
              "      <th>8</th>\n",
              "      <td>4.0</td>\n",
              "    </tr>\n",
              "    <tr>\n",
              "      <th>9</th>\n",
              "      <td>9.0</td>\n",
              "    </tr>\n",
              "  </tbody>\n",
              "</table>\n",
              "</div><br><label><b>dtype:</b> float64</label>"
            ]
          },
          "metadata": {},
          "execution_count": 83
        }
      ]
    },
    {
      "cell_type": "code",
      "source": [
        "# 편차제곱합\n",
        "sum(score_dev2)"
      ],
      "metadata": {
        "id": "vYq4S6QfYj6w",
        "colab": {
          "base_uri": "https://localhost:8080/"
        },
        "outputId": "940a3620-c471-4487-da75-30fce13dd7bd"
      },
      "execution_count": null,
      "outputs": [
        {
          "output_type": "execute_result",
          "data": {
            "text/plain": [
              "28.0"
            ]
          },
          "metadata": {},
          "execution_count": 84
        }
      ]
    },
    {
      "cell_type": "code",
      "source": [
        "# 표본의 크기\n",
        "n = len(score);n"
      ],
      "metadata": {
        "id": "5i-Cf_KgYv3V",
        "colab": {
          "base_uri": "https://localhost:8080/"
        },
        "outputId": "61d67a87-8edc-4e90-81ef-0c4e1cf072b6"
      },
      "execution_count": null,
      "outputs": [
        {
          "output_type": "execute_result",
          "data": {
            "text/plain": [
              "10"
            ]
          },
          "metadata": {},
          "execution_count": 85
        }
      ]
    },
    {
      "cell_type": "code",
      "source": [
        "# 분산\n",
        "# 편차제곱합 / (n-1)\n",
        "sum(score_dev2)/(n-1)"
      ],
      "metadata": {
        "id": "6S7qGRg_Y40O",
        "colab": {
          "base_uri": "https://localhost:8080/"
        },
        "outputId": "4425903d-a389-43bb-a417-577387c1120f"
      },
      "execution_count": null,
      "outputs": [
        {
          "output_type": "execute_result",
          "data": {
            "text/plain": [
              "3.111111111111111"
            ]
          },
          "metadata": {},
          "execution_count": 86
        }
      ]
    },
    {
      "cell_type": "code",
      "source": [
        "# 표준편차 = 제곱근(분산)\n",
        "import numpy as np\n",
        "np.sqrt(sum(score_dev2)/(n-1))"
      ],
      "metadata": {
        "id": "ArRbzbSoY98z",
        "colab": {
          "base_uri": "https://localhost:8080/"
        },
        "outputId": "41eae1a4-0858-4f4c-9a92-a53278d81060"
      },
      "execution_count": null,
      "outputs": [
        {
          "output_type": "execute_result",
          "data": {
            "text/plain": [
              "1.7638342073763937"
            ]
          },
          "metadata": {},
          "execution_count": 87
        }
      ]
    },
    {
      "cell_type": "code",
      "source": [
        "(sum(score_dev2)/(n-1))**(1/2)"
      ],
      "metadata": {
        "id": "ENNDXVeQZMF6",
        "colab": {
          "base_uri": "https://localhost:8080/"
        },
        "outputId": "b91bb5e1-de0e-4a1d-efde-85b15d0c9e4b"
      },
      "execution_count": null,
      "outputs": [
        {
          "output_type": "execute_result",
          "data": {
            "text/plain": [
              "1.7638342073763937"
            ]
          },
          "metadata": {},
          "execution_count": 88
        }
      ]
    },
    {
      "cell_type": "code",
      "source": [
        "# 함수 이용\n",
        "# 불편추정치\n",
        "# 분산\n",
        "score.var()"
      ],
      "metadata": {
        "id": "jvKDGHELaZSi",
        "colab": {
          "base_uri": "https://localhost:8080/"
        },
        "outputId": "377e0f77-686f-485c-f0c8-b539c2236964"
      },
      "execution_count": null,
      "outputs": [
        {
          "output_type": "execute_result",
          "data": {
            "text/plain": [
              "3.111111111111111"
            ]
          },
          "metadata": {},
          "execution_count": 89
        }
      ]
    },
    {
      "cell_type": "code",
      "source": [
        "# 표준편차\n",
        "score.std()"
      ],
      "metadata": {
        "id": "o4gHA3IbafVJ",
        "colab": {
          "base_uri": "https://localhost:8080/"
        },
        "outputId": "1c22f09c-f814-4953-cb9d-113f76375af4"
      },
      "execution_count": null,
      "outputs": [
        {
          "output_type": "execute_result",
          "data": {
            "text/plain": [
              "1.7638342073763937"
            ]
          },
          "metadata": {},
          "execution_count": 90
        }
      ]
    },
    {
      "cell_type": "code",
      "source": [
        "# 불편추정치 계산할 때 n - 1(ddof) <= ddof = 1\n",
        "# 편향추정치 계산할 때 n - 0(ddof) <= ddof = 0\n",
        "# 편향추정치\n",
        "# 분산\n",
        "score.var(ddof = 0)"
      ],
      "metadata": {
        "colab": {
          "base_uri": "https://localhost:8080/"
        },
        "id": "W4RqCT3Mak3_",
        "outputId": "e9ae306c-7972-458d-c8f5-64ee9661101a"
      },
      "execution_count": null,
      "outputs": [
        {
          "output_type": "execute_result",
          "data": {
            "text/plain": [
              "2.8"
            ]
          },
          "metadata": {},
          "execution_count": 91
        }
      ]
    },
    {
      "cell_type": "code",
      "source": [
        "# 표준편차\n",
        "score.std(ddof = 0)"
      ],
      "metadata": {
        "colab": {
          "base_uri": "https://localhost:8080/"
        },
        "id": "0x6oY-UZbPAt",
        "outputId": "09960fc0-feb1-4431-e636-4b4f64ed4b4f"
      },
      "execution_count": null,
      "outputs": [
        {
          "output_type": "execute_result",
          "data": {
            "text/plain": [
              "1.6733200530681511"
            ]
          },
          "metadata": {},
          "execution_count": 92
        }
      ]
    },
    {
      "cell_type": "markdown",
      "source": [
        "## 요약통계량"
      ],
      "metadata": {
        "id": "oKxRvG3yElMi"
      }
    },
    {
      "cell_type": "code",
      "source": [
        "x = pd.Series([135456, 54365, 37668, 34500, 32456, 25500])"
      ],
      "metadata": {
        "id": "UpNJz_WsCyyx"
      },
      "execution_count": null,
      "outputs": []
    },
    {
      "cell_type": "code",
      "source": [
        "x.describe()"
      ],
      "metadata": {
        "colab": {
          "base_uri": "https://localhost:8080/",
          "height": 335
        },
        "id": "1Wo0kyqjEoXq",
        "outputId": "fc8e680a-e7d9-40e5-e4a5-05e213cc7f7b"
      },
      "execution_count": null,
      "outputs": [
        {
          "output_type": "execute_result",
          "data": {
            "text/plain": [
              "count         6.000000\n",
              "mean      53324.166667\n",
              "std       41366.292599\n",
              "min       25500.000000\n",
              "25%       32967.000000\n",
              "50%       36084.000000\n",
              "75%       50190.750000\n",
              "max      135456.000000\n",
              "dtype: float64"
            ],
            "text/html": [
              "<div>\n",
              "<style scoped>\n",
              "    .dataframe tbody tr th:only-of-type {\n",
              "        vertical-align: middle;\n",
              "    }\n",
              "\n",
              "    .dataframe tbody tr th {\n",
              "        vertical-align: top;\n",
              "    }\n",
              "\n",
              "    .dataframe thead th {\n",
              "        text-align: right;\n",
              "    }\n",
              "</style>\n",
              "<table border=\"1\" class=\"dataframe\">\n",
              "  <thead>\n",
              "    <tr style=\"text-align: right;\">\n",
              "      <th></th>\n",
              "      <th>0</th>\n",
              "    </tr>\n",
              "  </thead>\n",
              "  <tbody>\n",
              "    <tr>\n",
              "      <th>count</th>\n",
              "      <td>6.000000</td>\n",
              "    </tr>\n",
              "    <tr>\n",
              "      <th>mean</th>\n",
              "      <td>53324.166667</td>\n",
              "    </tr>\n",
              "    <tr>\n",
              "      <th>std</th>\n",
              "      <td>41366.292599</td>\n",
              "    </tr>\n",
              "    <tr>\n",
              "      <th>min</th>\n",
              "      <td>25500.000000</td>\n",
              "    </tr>\n",
              "    <tr>\n",
              "      <th>25%</th>\n",
              "      <td>32967.000000</td>\n",
              "    </tr>\n",
              "    <tr>\n",
              "      <th>50%</th>\n",
              "      <td>36084.000000</td>\n",
              "    </tr>\n",
              "    <tr>\n",
              "      <th>75%</th>\n",
              "      <td>50190.750000</td>\n",
              "    </tr>\n",
              "    <tr>\n",
              "      <th>max</th>\n",
              "      <td>135456.000000</td>\n",
              "    </tr>\n",
              "  </tbody>\n",
              "</table>\n",
              "</div><br><label><b>dtype:</b> float64</label>"
            ]
          },
          "metadata": {},
          "execution_count": 102
        }
      ]
    },
    {
      "cell_type": "code",
      "source": [
        "# 표준편차\n",
        "x.std()"
      ],
      "metadata": {
        "colab": {
          "base_uri": "https://localhost:8080/"
        },
        "id": "9F0o8S6mEqM8",
        "outputId": "8f7211ab-8f24-423a-8723-4c924bd4f490"
      },
      "execution_count": null,
      "outputs": [
        {
          "output_type": "execute_result",
          "data": {
            "text/plain": [
              "41366.29259876533"
            ]
          },
          "metadata": {},
          "execution_count": 103
        }
      ]
    },
    {
      "cell_type": "code",
      "source": [
        "# 분산 = 표준편차 제곱\n",
        "x.var()"
      ],
      "metadata": {
        "colab": {
          "base_uri": "https://localhost:8080/"
        },
        "id": "9mU6Rj36Ez7S",
        "outputId": "840ca307-a95d-4858-c54a-b0a4f063291a"
      },
      "execution_count": null,
      "outputs": [
        {
          "output_type": "execute_result",
          "data": {
            "text/plain": [
              "1711170163.366667"
            ]
          },
          "metadata": {},
          "execution_count": 104
        }
      ]
    },
    {
      "cell_type": "code",
      "source": [
        "# 중앙값\n",
        "x.median()"
      ],
      "metadata": {
        "colab": {
          "base_uri": "https://localhost:8080/"
        },
        "id": "Rh1Fxi3rE4cu",
        "outputId": "b529ebbe-0ddf-4bcb-c403-b56cf5644f99"
      },
      "execution_count": null,
      "outputs": [
        {
          "output_type": "execute_result",
          "data": {
            "text/plain": [
              "36084.0"
            ]
          },
          "metadata": {},
          "execution_count": 105
        }
      ]
    },
    {
      "cell_type": "code",
      "source": [
        "# 첨도, 왜도\n",
        "from scipy.stats import skew, kurtosis\n",
        "# 왜도\n",
        "skew(x, bias = False)"
      ],
      "metadata": {
        "colab": {
          "base_uri": "https://localhost:8080/"
        },
        "id": "57LZl14qFIAj",
        "outputId": "a6b346fa-63a1-460a-e29e-b806cd1451dd"
      },
      "execution_count": null,
      "outputs": [
        {
          "output_type": "execute_result",
          "data": {
            "text/plain": [
              "2.1737564620024954"
            ]
          },
          "metadata": {},
          "execution_count": 106
        }
      ]
    },
    {
      "cell_type": "code",
      "source": [
        "# 첨도\n",
        "kurtosis(x, bias = False)"
      ],
      "metadata": {
        "colab": {
          "base_uri": "https://localhost:8080/"
        },
        "id": "qVGfn2fBFmxa",
        "outputId": "61a04af6-4863-4d20-b4a8-a2f65392696e"
      },
      "execution_count": null,
      "outputs": [
        {
          "output_type": "execute_result",
          "data": {
            "text/plain": [
              "4.861219327469506"
            ]
          },
          "metadata": {},
          "execution_count": 107
        }
      ]
    },
    {
      "cell_type": "markdown",
      "source": [
        "![image.png](data:image/png;base64,iVBORw0KGgoAAAANSUhEUgAAAuMAAAHpCAYAAAAoDjJfAAAAAXNSR0IArs4c6QAAAARnQU1BAACxjwv8YQUAAAAJcEhZcwAADsMAAA7DAcdvqGQAALvESURBVHhe7N0LnA3l/wfwr2hdIha5LJG0yv0SuRb93HItUUKqn6JyWaKt/hElXTeXVLoovyKkSMidUIjI/ZLdJNJat12XCpvL//k+M3POzJyZOTNnzzq76/N+vZYzZ86ZyzPP88x3nnnmObkWL158iQAAAAAA4LK7Sv0fAAAAAAAuMwTjAAAAAAARgmAcAAAAACBCEIwDAAAAAEQIgnEAAAAAgAhBMA4AAAAAECEIxgEAAAAAIgTBOAAAAABAhCAYBwAAAACIEATjAAAAAAAR4vrn8JNndqCx629Rp4wKd36JhjU4SEv7v0t/DB5PvW5UZ+QoJ2jT+DhacNsHYl8LqO+FQ2YtN2vifPTGmieoz9h2VFV9D1xImkZdllakj/rWp6LqW5eNWPfACYXDeMyUPD/9j5LqtEKpRwq4ziPpq9+i7ttuv0xpErjNFy5WptbDe1HrwuobEESiPEcsyZ/Xd6wpbSVNGTmXtuXJTZWf7EvXjxlL41o8TfPvKad+xxof++dmF82i6W+xn64o38u551B7OC/Alc51MK7HBWdS2RmmSianVyQIxiEUibToiRWU643HMxY0XLZg3GJ7MykY39J+cobqikgE44ZtFuky+IOzCMhdsarnstI5Izx5MmP1+ZUbjANc6dBNBQAgFLHd6emGs2nD7n/UNyCYmBLGAPXC+apUppg6kYOY9xMAwEkmtIy/SrW+7eu7nVv5yQTjVX7SNIr/aLM6YTHfQFkm3+5juxoP8N++NC1HfztQazEbU2s1vTM7Rb6n70rDyzPfYta+M7nVXhrxobLc9PPNdK2BVi0eynvavu6r0MWhlc7us+blKtOf7evqX7fuVi7z7WtAa6ny3RfKjTKkk/aZghb7GLDNduuS7PeX02/onMPyfafb9wGtmRnID4ZtN223cb+0NH6Z2v70gtx+3zYe8a/f+jsfUK+DXX1dtAx5UKzz0+FJVHpUb92+6lqWdctmhvzkmM6CLl34ewP7naJnltyo2z4z47Ex5l2Xx8d0LHzLEO9zy3jfEQXpp5fmyG02L59xvaClk9V8P2Vb7VohzXnEbtu1zznmZ4c8y/vL+8Vp+/6Hm4zHNoD1NvM+987znvK9IMdUnz7GY6DlNSV/fr6/mTrPof4zlYWA9HZ5zMz0ac305dE8LyDP2qa1cVt539sPjKU/x872pZWybU3o3PgBpjrWpsyr+2feZ+u6REtfY1n2bb/puNmWD5X+ODL/egL303o5dsdVed/fMq5Mf1ilhy/P2pUxft9wTlb36d8BY3zHz/8ZrUtpBs7VQdLasrw5MJd5M7v9Bsgp8qj/h82O976kMsMnU4J6sox/Zz7t1AqOrwJNUKZlMDORFhuCGQ0X6lG0/sEPKEFWMCdo7doTyiwheWsUPZKgX85UWlzZv5wK+2bS5DovUUKC+K6sOEbQ4K9E5fjKeLltXLjjplalerrCz9+5b4eoGBO6y2m5/U+RTcH3V/AJcUoFyMvs+Y16YjZJntlTBMliXpwy78DaNfJ/M/7cq3mG0Udj1e2S+8YB3xi53UoF/RxNKiEq7Ni69NjoFbThZH11v4/Q8cQilD/PIUqlcvL76YeT6UxME+W1+DPuo1LZT1hX3XdSsl2XqGht94HTd1ZlkU5Pq8f5e1osZwTB6xv/N7UYlaBsv5hemarMCqRs6/oHX1fzg3H9srvAi9p2K8eizwSRjrrjm/rVcjqq5k1ZuY/aTRP5ZCHSQgsYfGmhOjlrBC16ch4ldOEp5Zi3+0Z3seMktrvIf3UDu30ESWff/gxX00XdNqqiP1OapG2hPfXeF3nxGjnJ+9f7m+rKdro9PnbbK0TlWUlDp4m0GjuGeqrp8Iy2fEGuj4PSBGVanlwnFHd1InYUZNsd87OLMsr7NUB+v5uc9uYEpSRHU8Pbigc/pmL6x9zvifTVpc/U9Yb6R8ufY+T3Heo/sS4ZaImgLUHNElZ1VbBjZiaXoU9rXXnkdIs7IspTgra9yv6NotddpHUlavnuSCom5hsuZsaWNOU1sQw5Q6McT8sybybySbBzi6EsyzL2hThniGA5uhn1HFtLbr9zNxVlH2UdqB5H5VgMpkky6LXZTwOH42qgfG5cC39d41TGYmp2oy1Lt1NqA/X4HEuWFxeFj/xDdKOyHs6rMXWUdGQhn6sv2tfbbs9zXmRa3QKQhYS9m0rR+x7wVX5RTTpS+38X0/rfeEpULgsXUc0BusBWVIKtms51vM3rv91XhBo1ukF9Ld7v0kW3nFpUI/YH+vO4Oi3wFXlftQKn2LbU7frDhm2LaT6E2u48QoeUSYmvuN/UnaiM22+StEAEzf386xB4mZ2XbqWd6rRZw1LipK0q16hxQEXClQw/xPKSrpJJXj6aDvbo4dtuokrU9IFyNGvbAfG6BJWossaffkkbReXdjB7btkUE6PzGCdqxaRt1ruHfJ+M+Ksv6MeWYnHJel8JuH/6MLU6l1dcUe4duGc4uXixFZbXPivzQrKL62iR99Vz5YJc+UFbWr+Qr/bFlMV1G69JBYT7+Vc9Wot49tLQ2poWGW638J9UiVKfNXXTTqu22x9gN53S22h9xkh/YQH1tQ6Rdt4ZKIM745Jw/mS/KFKEeHw238vnTypQO4mS8aEWfgLJjTn+z3e/HU3y88jd4yCRabPNZp223ys9bNomghCddlFHer7g7/dvtRfrqj+UdrE5i+cHLTiXq3EmXPlXrBtQ/e25vEXBcrOo/XtcXTQcZgr2oJo/RwxVmGOoqq2OmzxNGifTd54Wo7YvG+lmWR3F8l6zqqFsWU/Kkl7T2yr7Mm7k7txjKsjgnPFh+peGcEZTYRz7e+nzO6+naOcZQR7phd17TKI0y/WiKtq5gZax4DLXfvc1X3pK3TqcGjXTHR1ysb9lzH9XX5RnzubrNmYN0UH4/eHo61dvBznOehFi3AGQ3YQ/G7fvKKa22+hMw//GtJ3MApChC1erUkJ/vMmG9xQlEVBjjH1KX84rvtpiTYP34DCd9qQQVq2TVaiFOFIeTZavca7p9iX91Pu3Id1St0Iw4OOKWmYFPzbc8ORX9+VO1VUpXAYp95NYM/p5vHeKPbxUrJ1UljXzBtKiAO9e4l2q0+FY9yRyhwzs6GyrgwH0kdVnB1uWwD7F16fFdU2VaTLK6cLEjLqJq3fwVfSq+N2qd/QUZpwNfVOgreT8lXwUeW+VCxelkazih2AhYpzjp1Uy/qE6EIlg62+2PC9yKrC1Tdws55OOjc+FiSfu0OpZMuwt8L4+jf58m0vJCvzqmP9/aTkhQ/saMtukWEGTbrfKzxk0ZDdgvcfKf8tRg3+fNdY++/uLb6iNkeQ1ediT9ssV2bI0yVr/GvGZX/ynrCiwLRahUTBolc0uoyuqYlUk6ZrgA8BEX8gvzl7U+xuL4bs4TEzhPlAXtgsJrfRicU5k3c3dusVqWPr2C4X20ym9RJWOMx9lRsPMa0dmFE5S7EPqW32BlzNAglUhblzxGt3SqQY9uSVGOt/j+rJY1deeWwPNh7jw7fecNx/R0qLeDnec8C7FuAchuwt5NJZiAfmkOopo8TQlNuJWgg6jkbwno47e/q3ZLlAPzONqifO2ycdsfTpJdALrL1u+h8SsD+qd+f1UuakfLaf1v4uRuSp/Avpk6VetS52Fbaec95+iAqIDrdxHnyOSmsqWm14WN9EmtivSR+lE3HNdluw98e3Y8tZTHZTANpOamiwo7RahO3GSqo97yHvxVLce+mnYBanZ8CMw+nRND2h8uI8rQYOptZRGYd1kqZwmhHh/3Mq8fZ8a23bGMHlH/14vmLgvN1IlATvWXU9nhMiOH4tO6Uon9mTTstDLThnX9p8wL6WItCKcLG6d5Gk/1oUte9tP+2Fg3qITiTEzpDO+f7XlNp9zeneTvfqhwLmNKkP+CWu+/27YJzadr6Vy1WeKccjdFb51ODcveo37WHae8bltvBznPhSLz6haArMPYNJOplFZmLy0Rmpgu8yjh+XYUM2W5vNpO37lR3qa1DRrD5ggd2dXYMjDi1hDbViYHsiJO6E0DFi003JavVvth6tm3Lu14T3+7Xmntsr5zoIqOoZgLyXR0bwrtbltbVljyFvjBQ3Tg6CGqVae6y5OHi3Wp7PZBCWTG0LONP6DZji3dZkrA9XqnVBq/wup2r7Jt1reCTV11fOyPXYYcS6YFVUsogYlI+1L/mlrJ05Ip5WqnYhUsna33h1vl7CXStmXtjV0MrIR8fIIoHkO1zyeH2ALqUgjbHmoZ9S7YMVVaeav1s7/QdGKs/+zKgtJiHnKQburmYGA3T1cWwp/WTmXeLPRzixe8j1Zd1LhshhKkm89rmnxt+sq6cMGLutZlF2VMa6Hnel/pmqgE6MlH9ou80ZrqVXabN9ymp329bXuO8Opy1C0AWcBlDMaVPoupX31hKJzpq2fYFNZEmjVbV8BFxa/d1jVXitx30003lWD4NusE3Yk+eeYQeueuNja3z9vKPprPfKOvhEzb7HOCfvr6R93tapuALba7rNgWj/QH5Nzv8oFV44y36JOm6aYryW4p8z+YS/9ot2Gja1HDi+/RuFnRHirgYOuy3wfjMVSCAlcM+yEOccoq9VUgq23jh4O4q45VvnI8dh4Yl5tIS99eR23v0lr/lMDZfyI6QZumTKJtUcqoDBr/7V+FczorJ9CjM1b4T8RpK2nGLKdg3BzAK9up8Xp8zNsblAiUuT/pxKnG7hSG/BKikPMW81RGMybYMTUGlko+MXdTMbKv/6zWxXUg9zG+x+VdxwBWx1Dku5V7xf+Wx9dUFjIhre3LvJnXc4s9xwDUah9FGk2bUdjDcwf2x1WPg1m+8PxI6+7hpoypXbq43tcaIbhhpvyMt0XeqEf1XNeFQdLTtt52OM/xnaB+8wwXHbbEZz8dMFFZV9D95tb5OGO5A8iGLm83FRlsvkVDR8XTMvUteRvLspIoQRX+iKP4eCXINtyqEst5tnEHGhu/Us4r3Lk/dbv+hQx3U+HbrGMuvi/WqQyHuK/CMJrS166S5S4Ww2hQ/7cofo1xKKtARajsxVflLUkmP2c5goxSCT+dooz08ae8TdiMevZNpnjuv6d+RrkdrE4I3E/vwo9ndYG3cvI/kKeqhwpYEBWf/boc9qHkBVqmO6aFO7v8wYviMXT1yMEUrw4ptqsxj7xgk968bcNJdlXwf17kHX4h8sOYJ6ZRvCFfOSzLg6L3NafrPnuI4tWLvcIPvk7DfAGPyAM9e9EDI8eJPJBbPf4jqNWz2lYw5UG+oSJNB2p52DGd1VYlUm7zMp43uV9dmrNETlpQtmPnyGEUP0sZwm7goIZE6uejPB0fi+1V5ziJ6TKFnh8fJ/LHTPUd5Tb3berrUHnbdjMvZTSDghxTfqBY2w7eho59e1PNMU7dJxzqP4uyoKwrY11EuKV2vNp1gilppXTZMc9jlQ0/TpMJae1U5s08nVusiO0XAeh0bdQtsd2B9TPv43h6WeRz7bjIfbSpy605HFcTLlMPJ8fRJ0MOK9sTtIxVoqrN9tGHR3r463159+68hzukKqf0vGhfb9ueI5L4LkpF8tZRRpFZdQtAVhLSOOM5EfdxcxrnFK40ynMIxjGPAQDAKz6/vpmnL+pSABtO90kBAAAAMuRYSh5PXSYBrjQIxgEAACDTxHQZ5KErD8CVB91UAAAAAAAiBC3jAAAAAAARgmAcAAAAACBCEIwDAAAAAEQIgnEAAAAAgAhBMA4AAAAAECEIxgEAAAAAIgTBOAAAAABAhCAYBwAAAACIEATjAAAAAAARgmAcAAAAACBCEIwDAAAAAEQIgnEAAAAAgAhBMA4AAAAAECEIxgEAAAAAIgTBOAAAAABAhCAYBwAAAACIEATjAAAAAAARgmAcAAAAACBCEIwDAAAAAEQIgnEAAAAAgAhBMA4AAAAAECEIxgEArgBr1qyhjRs30oULF+Qfv543bx5t2rRJzr948SKtW7eOvvvuO0pJSZHvAQBA5svds2fPF9XXAACQA61du5Z+/PFH2r17N6WlpcnX586dowoVKtC0adPouuuuo6lTp1KB/PmpYMGCNGfOHGrUqBFddRXaawAAMhtqWgCAHOzSpUs0e/Zs6ty5MxUqVEgG5q1bt5bT1apVk59ZtGgRde/enTp07Eg1a9ak1NRUSkxMlPMYL+PQoUO0bNky+RoAAMIHwTgAQA6WK1cuql69OpUrV45OnTolA/GyZcvKeadPn5b/N2zYkMqUKSNf//LLL/J/rVWcu6989tlnVLhwYUpOTqa3335bvgcAAOGBYBwAIId76KGHZGs3B9/cNUVz4MAB+X+dOnXk/xxkJyUlUb58+Sg2Nla+x9M7d+6kgwcP0oMPPkh//vmnfA8AAMIDwTgAwBVg37598v8bbrhB/s+B9/79+ykmJkb2E9dw9xQOxLlFffHixXTzzTfTo48+SpUqVaK9e/fKz5QuXVr+DwAAGYdgHAAgh+N+3hx4cyCufyiTg2t+eFN7jwPxv//+m26rV4+mTJniC75vueUWio+Pp48++oj69etH1157rXwfAAAyDsE4AEAOx8H477//TpUrV5Yt3oxHVeEuJ/pW7iJFisj//0xOpu3bt1OvXr3kNHvjjTdo4MCBNHHiRDksIgAAhAeCcQCAHI5bvkuWLElNmzZV3yEqVqwY3d6kCTVv3lx9h6hEiRKy5TsqKopGjBgh+44zDr55GfyQJ7ekb9myRb4PAAAZh2AcAOAKwA9x5s6dW51SdLz7bvWVggNu7spy++23+/qR//TTT7R69Wr5mlvYT5486XvgEwAAMi7X4sWLMWgsAABY4gc9uYvKmTNnZDDPo7H07NnT190FAAAyBsE4AAA44hZxbUxy/uEgBOIAAOGDYBwAwKX09HT69NNP5Tjbd911l/zxHA5Medg/AACAUCAYBwBw4fDhw3K4Pw7AH3jgAZo3dy59/8MP1L9/fypfvrz6Kff4ly7NLczcAm3V6sy/flmqVCl1CgAAchI8wAkAEAT3m54+fbovEGdnz52jvHnz0vXXXy+n+TOrVq2SAbUb/Pl//vlHDjGYkpIixwFPSkyUY32b/35av179FgAA5DRoGQcACOLbefNo1fff05NPPkk33nijDLjffvttOQQgv8evixYtKsfm5ocd9T+sczksWrSINm3apE5lHY899pgcLhEAAOwhGAcAcMAt2J9//rlsoX755ZdlNxJ+74UXXqAmTZpQmzZtfJ979tlnXQfj/Hm3OPg3D0uod+DAAfVV1sLjlCMYBwBwhmAcAMABB80ff/yx7E7CwTbjbiWjR4+Wv1DJv2rJvAbj48aNU18Fx2N/33PPPeoUAADkJAjGAQAccKv0ypUrac2aNTR06FA5PXPmTNkt5NVXX/UF3low/vrrrzu2Ymvc9i3XYDhBAICcCQ9wAgA44CC4evXq8qfgn3nmGdkizmNtlytXzjJAdhs08+e8/GUVfBHBQzsCAEB4IBgHAAiiePHi9Mgjj9Cbb75JgwcPpr1798qxxbNSkBwOHGivXbtWdsOxa7mfO3curVixQp1S7ggcP37cc0s/AAAoEIwDADiY88038gFODjY5+OaHJXkYwpiYGPUTRvy57BiYat1sfvrpJ/nHP27E75mtXr2aunTpIvcxPj6eRowYQePHj5efP3r0qPopAABwC8E4AICDfb//TseOHZPB5/Lly2ny5MnUqlUr34ObjFuLua84424sPJ3dcNcT3se2bdvSzTffTLt27QrojnLo0CH5Pw/jyJ8tWbIkvfTSS/KPH3BF9xUAAO/wACcAgIMjR45QQkKCfF2xYkVq1KiR7EOe07qosD179shAnMdLF+cG2SVHPzIMjxTD87WRXXhEmEGDBsnXfJGSnp4uxxYHAAD3EIwDAAShdTvJiQG4Gbfsc5/xgQMHyl8c1XAa8AOs3G/eKh04MK9Tpw7dcccd6jsAAOAGuqkAAATBweeVEIizp556ijp06EALFy409Bnn4R0LFChgG4hzqzgCcQAA7xCMAwCA/IVR7qbC3VJuv/12Oc0jq2iWLl1q+cND/INIf/31Fz399NP0yy+/qO8CAIBbCMYBAID2iECaA2v2xx9/yP+vv/56+T93Ufn333+pVq1aclrz1ltvyQC+T58+8jPffvutOgcAANxCMA4AANSgYUO69tpraf369fIXRm+99VZfMK4F5/ouKsnJybJFnPEDrs8995x8wBUAALzBA5wAAFcgbsk29//m93gc9VKlSlFUVJRv/ssvv0y1a9Wi9h06yGnGn+U/Pf68VZ9yAACwh5ZxAIAc4sKFCzR//nyaO2eO/AEenl60aBFNmDBB/pAPB88HDx6kVatW0ffffy/HEtfjQLp8+fKUN29eX1DN3zl16hS1a99eTmt4Pvcv1/8hEAcA8A7BOABADvHee+/RRRGA7/7lF1qzZg198sknlD9/fmrTpg199dVX8tczN2/eTOXKlZOjn8yaNUsG7E7+/PNP+T8CbQCAzIFgHAAgB+AWbO7D3aZtWznNvxrKP8DTtGlTGXyzrVu3Uvv27alChQoUHR0tW7y5W4oTHmtc+9EjAAAIPwTjAAA5ALdc33vvvXTk8GEZiNeuXVt2HWFawN3pnnt8Ldy//vorFSpUyBeoAwBAZCAYBwDIIW655Rba9/vv8jUH45qdO3bQNddcQ6VjYuQ0/5gP9xe/4YYbfAG7xurBTAAAyDwIxgEAcggOon/77TcZZGv4vV/27KHSpUur7yhdWM6cOUPVq1WTQxl+8cUX8v2zZ8/SxIkT6euvv6akpCT5HgAAZC4E4wAAOQQH3n8ePEjFixf3tXhz4H348GGKjY31vaeNolKzVi35ECePKc6t5dynnH/Ah/uJz549m/7++2/5OQAAyDwIxgEAcohDycl0PDXV92M97Pjx4/L/KlWqyP9ZgQIFZLeVZ599lsqUKUM33XQTzf/2W/ljP6xatWpyaMSdO3fKaQAAyDz40R8AgBzkl19+kX3H9fbt2ydHUNFwKzgPbbhs6VJq266dr8WcR1fhX+Fk8fHx1K1bN6pTp46cBgCAzIFgHAAADCZPniyHPmynC9QBACBzoJYFAACfuXPn0rlz52Qgjh/6AQDIfAjGAQBA+vTTT6lkyZL06KOPUmpqKr300kvqHAAAyCzopgIAAHKElSVLltD58+flH/9M/sMPPyxHVgEAgMyDYBwAAGjevHmGbik8TCL/dD66qgAAZC4E4wAAAAAAEYI+4wAAAAAAEYJgHAAAAAAgQhCMAwAAAABECIJxAAAAAIAIQTAOAAAAABAhCMYBAAAAACIEwTgAAAAAQIQgGAcAAAAAiBAE4wAAAAAAEYJgHAAAAAAgQhCMAwAAAABECIJxAAAAAIAIQTAOAAAAABAhCMYBAAAAACIEwTgAAAAAQIQgGAcAAAAAiBAE4wAAAAAAEYJgHAAAAAAgQhCMAwAAAABECIJxAAAAAIAIQTAOAAAAABAhCMYBAAAAACIkk4LxRFraP44m/aZOAgAAAABAALSMAwAAAABECIJxAAAAAIAIcR2MJ8/sQKPW/aNOCWkracpTgw1dUQI+Q3/RpvEPUXx8vPwL6LaSNM03zzw/ffVb1GXCejqwdrSc51uuul7tO8b1AQAAAABkH66D8Zia3WjLpu2Uqk7TsWTalic3JR/RguETlJIcTTElCqjTRDve+5KOPjyZEhIS6JW7S9LWd+bTTnUeB+IDJxSmR8Q8np/wfDu6auxEWnxSnS9U2DeTJl/1pJw/rIFYrgjEPx2eRCVeHKN8J6E31f/8OfRNBwAAAIBsyX03leIx1H73NtqgBsvJW6dTg0YN/AF62hbasuc+qn+jnC0Vve8Bal1YeR3VpCO1/3cxrZeB8wnatHAR1RzQjqrKuUJ0M2rVdC5t2O1v6U4/34w6cRCuSl4+mg726OFbJlElavpAOZq17YA6DQAAAACQfbgPxqNrUY3YH+jP4zyRSFuXPEa3dKpBj25JoUP81rFkmtWypj+4FvSt5EZH6HhiEdr9vr+LCv+NXX8L/ZhyTP0M0Z+xxam0+lpreT85a4ThO0PnHKb8yYf8LfYAAAAAANmEhwc4i1C1OjWUVuikjfRu29oi8L6OSlabJVu7uaW8Yani6mfdqfyk2kVF9zf/nnLqXGuFO78U8J2ZfetTUXU+AAAAAEB24SEYJ4oqGSNboQ8cPUSda3DQrAToyUf2U0pya6pX2a4l3KwEFat0Qtff3I0iVComzdByDgAAAACQnXkKxim2Lj2+ayqNmxVNZYopb0VVrUvlZ7xNr+apR/V8fbmDKUJ12txFqV99YXhgM331DMO0WUzzIfTAqnHGBzaTpuEBTgAAAADIlrwF41SJqjbbRwcqVvUH3tExVOrf81SrTnVvXUViu9PrnVJp2Sh//+9OxxrqHs60EN2Mevata+hr3mVpRbpH99AoAAAAAEB2kWvx4sWX1NcAAAAAAHAZeWwZBwAAAACAcEEwDgAAAAAQIQjGAQAAAAAiBME4AAAAAECEIBgHAAAAAIgQBOMAAAAAABGCYBwAAAAAIEIQjAMAAAAARAiCcQAAAACACEEwDgAAAAAQIQjGAQAAAAAiBME4AAAAAECEIBgHAAAAAIgQBOMAAAAAABGCYBwAAAAAIEIQjAMAAAAARAiCcQAAAACACEEwDgAAAAAQIQjGAQAAAAAiBME4AAAAAECEIBgHAAAAAIgQBOMAAAAAABGCYBwAAAAAIEIQjAMAAAAARAiCcQAAAACACEEwDgAAAAAQIbkWL158SX0NAABZyJ49eygxMZGuuuoqqlO7NpWOiZHvf/zxx3Tp0iUqVbIk3Vq3LsWo7wMAQPaDlnEAgCxs79699Msvv9Cq779X3yGqX7++DMYpVy4E4gAA2RyCcQCALOrmm2+mP//8k5o2bUrbt2+nw4cPy/dLly5NSUlJ1KFDBzkNAADZF4JxAIAsilu/o6OjqU6dOpQ7d25av369fJ8D8apVq8rXAACQvSEYBwDIojgYj42NlX3Gq1evTtu2bZPvcdeV2267Tf0UAABkZwjGAQAy4NChQ/JBy8ywevVqKlmypHxdt25dOnnyJO3YsYNSUlKocuXK8n0AAMjeEIwDAHjED1SuW7eOJk+eTGPGjFHfDT/ullKuXDn5+oYbbqAqVarQTz/9RAUKFKBcuXLJ9wEAIHtDMA4A4NEPP/yQ6V1FuDvK33//TeXLl5fTHHzXq1dPXgjceOON8j0AAMj+EIwDAHjUu3dv6tGjh+zLnRk2b95MEyZMkMH4lClT1HdJPrRZoUIFqlixovoOAABkd/jRHwCAEHFfcf4Bnscee0wOQxhucixxAV1SAAByLrSMAwBkURyEIxAHAMjZEIwDAAAAAEQIuqkAAIQoI91UuAvKvHnz6Pz58/Lv33//9b2+ePGi+ikFt45rXVY0/CNAefLkkf9fffXV8n/+u+WWW+QfAABkDwjGAQBCpAXjjz/+ON10003qu+5wcD1z5kw5VCHjEVL4j4ctzJcvn3w4VN9nXHt9+vRp+uuvv+jUqVPy/xMnTtCxY8fkPHb99dfTgAED0L0lAxITE6lSpUrqFABA5kIwDgAQIi0Yj4+PpxIlSqjvuset4e+99x79+eefcrrpHXdQu/btPQXSHKTzjwDt3r2bli9fTunp6dS3b1856gp49/3339OmTZto0KBB6jsAAJkLfcYBADKoSJEi6itvuHtJhw4dZHcTtkoEgtu3b5ev3eLAvXTp0vSf//xHXhQUL16ctm7dGtCtRWP3fjDcdUb7c4vXpX0n1PVmBqdtuUNcECEQB4DLKXfPnj1fVF8DAIAL3Nebfx3z999/l11EuIX86NGjsnuD177j0dHRMqD+9ddf5fSBAweoRo0asquKV/ydhg0b0uzZs6lJkyYBLez79u2jDz/8kBo3buy59X38+PG0dOlS2U3G7T7yDxRNmjSJFixYIC9YYmJi1DmRs3HjRpk+devWDUiDb775Rh5Tr12OAAAyAsE4AIBH3L2Eg2hukeYf4uFfySxUqJB8r1SpUuqn3OGAkLuUJCcny4D+7Nmz8v/atWt7Cpg13Nc8f/78tHnTJkPQzEE+d6np2LGj3G6v+OKDW955mW63i1vp+aKALwI4EM8KwTjvO1/48Dbp92XXrl00d+5c2Wf/D5FWXi+qAABChW4qAAAeVatWTbas3nrrrb7/+a9mzZrqJ7zhgJCDZK27C7coL1u2TL4OBf9sfgexPA13E9mwYYPcvlq1aqnvesOt47ydXi4QvH4+o/hhVqc/xtvTsmVL2rJli6FL0MmTJ+mNN96g3377jSpXqaK+CwCQ+RCMAwBkAUWLFqU2bdqoUyQfxtS6rmQUB5rbtm2T/aFDlZX6fNvhh1c///xzy78LFy6onyL5sG3Tpk1p9erVvj7w3L2HL1j4gohHtQEAuFwQjANAlpIdgr7Mwl1TOChkHDxy33QOMDOKg87rrrsupBFfNNnhuHC3GB5JxuqPuxDp8dCF3FUlLS1NfYfoxx9/pNtvv52mTZumvgMAkPkQjAPAZbF582b5MB93weBA86uvvpJ9kD/55BM6dOiQbKGcMmUKPfPMM/TD99/T33//rX7zysFdKNq1a+fr0839yLkfc0YCYf4ud9Hg1l6rLiNJSUk0depUWrRokTwuPKwfHxd+WFNPvw38+rvvvpPH7uDBg/LYacdzzpw5EQvceb0fffQRvfLKK/JOAI/Fzvv26aefGsZiZ9y3n0exMY/RPn/+fNnNBwDgcsEDnACQ6fjhwZ07d1JsbKwcWYNHrLj22mvpySeflME5Pzy3ZMkS2f/6oYceoskiKOdWzlAeNJwnglce1cT8x10+eDt4TO/Dhw/LICw1NVW2GGclHCByKy5fvDDe3lDTgnGAumLFCvmQ6Q033KC+q+CA9X//+x+1bduWzp07JwNsHq982LBhMqjl/uXXXHON/OzatWupUaNGMqDnHyriiwQOXvnCaY9IX344k3+JlANf/k7ZsmV9wT8H+Lz9mfkAJ18QDB06lG677TZq0KCBHDGFj/t///tfWrNmjbxo0Pfp523jbil8/MuVKyffq1KlCjVr1kymNwDA5YKWcQDIdNxNggNxDvg4AOYRSNq3by9H/uDW2CNHjtDDIgivX7++DJKuFgEpB09mq1atUl/Zu0msh7sgmP94uDoOHrmrRuHChUMaOvBy4Z+z5/TR8MOc2gOIXnEwzr/UqQXVGn5/1qxZ8qHFypUrU8mSJeUQjZ06daIvvviCihUtKkcWscIXVNz1g0eQOS6O51133UXNmzeXx5MvsjjI99I6zp91+2eHL+iioqLkeOt84cEj3vD28R2WP/74g6ItxoLnix6+MHNaLgBAZsMvcAJApuMgj4Nx7qbCgff//d//yaCbWzO5SwG3onILJuPg6K233qLWrVtTixYt5HuMW2Z5pIsHH3xQfSfz8Tq5VTmjHnnkESpTpow65Q4HiF9//TWtW7dOTnPXifvvv1++9oIvdrjFmO84cMuvHo+5zXcjGHdL4YumESNGyGOjtWoz3paEhATZDYXf147n1M8/5yZmeUy04/nmm2/KZXJwri1j4sSJVKdOHTnijJUffviBfv75Z3XKWY8ePSzvZnD/ev4BJcZ9wSdMmEDdunWT6+XtMu8T4/TlXy994okn5IUEAEAkIBgHgMuCg8KXX35Zdn2455575HvHjx+n119/XbYC8+gWjLtKLFy4kAYMGODrPuAFB15ucZCZO3dudSoQd2sJB16H12CccZq9//77tH//ftmCHUrAqF3w8NCJdkMv8mc4YOZgtXfv3gFBK6cTB9ncn1+bx9v2+muv0e133OEbpYUvlnh7zccuWDDOy+c/N9ykgTivyXw0atQo+SundvgZBb5b8+ijjwbsMwDA5YKmAAC4LLh7CncZ4F+X1GjBrtaXmQMybiHlH1zh4JWDKQ7YuUWWWzr5B3GCefbZZ+n555+n4cOH04svviiX8ZoIGrlld8yYMfKXJLU/HvLOCQeU4fgLJRBnvO9nzpyRwWKoLbecptwHmruqmHHLOPel5wcduSsHHwcOSvk7fHdCzxwsHzt6lE6cPGk4djx2N3d34f2dPHlywHfs8Dp5/9z82fnnn39kNya+sOB+7/xDStz/nnG/+B07dsjXGt42fm6AuywhEAeASEIwDgCXBY/awX149cEbP2DHwRAHrNp73I2FH6LjYeZ4WD8Oou677z75mh+4C4ZbcDn45lb4l156iV544QUZnHOr7pAhQ2jgwIG+P+66kVVxcPnll1/KhyYz8muQHMDyw5PmYJwvhGbMmCGPBz8syi3EHEgz7rKi/QCRxhxY7927Vx477mLEeD73Fedt5WPIF07m72QWXg+3cn/77bfyNV/0cVcWDrK5BZ/723O/eDN+n4N2AIBIQjAOAJmOAyQe3YIf7tO3QnLLLD9YqX+PA8IPP/xQBlaDBg2iihUrygcaOcDj/4PhZXn584pbXjnA4/+tgk3tff6f/0LB35s+fboMlLURTELF3+WHVnn4SP32akE03x3gPuD8q6I8og3fMeB+1L169ZLzNfrv8uudu3bJY6PfNg5suUsNj8TC/bWdWrLDjS8MuBvOc889Rw8//LDsaz969Gg5zaPFmLsj8Z0avuDBD/wAQKShzzgAXBZagKoPivhhTa01VsOf4RZzHgFFC+a4+wEHeXfffbcMuiKF94Fb2DUc5D799NO+gJS7R/BDqjxKh/ZjMtxtxstQebwOHhubu1h07do1Q4G4hh9o5O3ibjv69Oe05kBca3nngJ23nUea0QfSvE2vvvqqvMOgbQ8fDx61RI8/x8eOH+7Ufz9Yn/Fw4H3h/JQ/f36ZRzj9+QJOn4/0uDsU333p169fWNIYACBUl6/ZAgCuaBzwmFsnzYE448CJW8D1ARR3o+ARO7755hv1ncjgfeAHKXmkEA7EOdjj8dM1vN38QCoPscdD//FnvQbifAeBu4x07tw55CCRl8N/Gm5h56DU3G+a05i7b/D//Md9vXk4Q33a2zEH4oy3lwN7N98PN14nd8fh7jW8HUWLFg3IRxpOm6VLlsjnF0JNYwCAcEEwDgBZHg9xyC3MPD55pHHwxj9UxL+UyfgHbbTAl+dxIM2tsxwAewlKeRk8Cgi37t57772Oo4AEw8Mx6gNv3i4e8WT9+vWyBTkU+uA+u5s5cyblE8eoSZMm6jsAAJGDYBwAsjzuz8yjoWhjYkcSB6UnT56Ura7cB54Dc/1PqvPwfvxAqtcWVw6UeVk8zCN3FQkVP5jJffE5zfR4m7gVnPvih4L3m7ug8Da6xV1geFuyEh6hhh8E5jsPkWjBBwAwQ00EAODB9u3bqVixYjKQ4xZ7/qVHfcCpDavnBf965Pfffy9/6Ih/JTQUHCxv3bqVPv74Yxl0my8GeFprCea+4V7xw5rcXYhHxXFL65POskrL+u+//y67D4WazgAA4YYHOAEAPODxs7kfOI/QwWOA8xCK3M+ax0LnriU8PveTTz4ph3F0g3/2n5fZsmVLX8u/PnDlIJqnteBae82BLneJ4W4tPFY4B738UCXj9WOUEACA7AHBOACASxwIDxs2jPr06eN7gPGLL76QI3PwT7E3aNBAjhzCD2+aW6atnD59msaOHStfc0s7//H3tP/Nr5n2P/9QD3/fjB+K5fHUtc8BAEDWhm4qAAAucUs4//iQ9iNFrF69evJ/Dsh5CEHu/uA2EOZAvmDBgvKPW9d5SMG8efPKFnYe2pBHn9EH4owvCPiP+6vz6CfmP+6KgkAcACD7QMs4AIBLa9eulV1C9L/cyYHxJ598IruJtGnTRvYn5x+fcYO/6wZ/zkuAjWAcACD7QMs4AIBLHIhz67MeB7633XabfM3DCVqNv22Hv+vmT99Vxc0fAABkHwjGAQBc4J/A559Pv/POO9V3/HgYwZiYGBk0R/IXQnnoQQAAyF5y9+zZ80X1NQAAWBg3bhwlJyfLYQ1/+OEH+fAkjzOu4dZo7kvOwfjl/mEi7sLy9ttv09GjR+Wvd/KoLGgdBwDIPtBnHADABW4Z12jdRsy89u0OB14nt4jzUIeTJk2iN998E8E4AEA2gm4qAAAu8Mgm2p9dsOs1COZAet26dbKvOQfT/IAo/8Ilv+8Wr/Pmm2+WFwgAAJD9oGUcACBClixZQs2bN6fnnnuO6tevT126dJG/oMm/7HnDDTfQvHnz1E9aK126tO+Hgng0F/4u/7okAnMAgOwDNTYAQITwA6F///23fH3vvffKFnFuIef+6ax9+/aGv3bt2hmmb731Vvk5PXRRAQDIXhCMAwBEyD333EObN2+W3Uw4iOZAnH8ePzY2Vs7n4Fz/Z34PAACyP3RTAQCIoAkTJsihEe+44w45UsuBAwfkWObcBSXYUIVW3VTwACcAQPaCYBwAIEK4dfuZZ56hJ598km688Ub5ACc/0MljlT/66KPqp4KbOnUq7d+/n9LS0ig6OpqqV69OHTp0UOcCAEBWhmAcACCCuDX89ttvV6eUFm7upuLlIUx9FxZuFUfLOABA9oFgHAAAAAAgQvAAJwAAAABAhCAYBwAAAACIEATjAAAAAAARgmAcAAAAACBCEIwDAAAAAEQIgnEAAAAAgAhBMA4AAAAAECEIxgEAAAAAIgTBOAAAAABAhCAYBwAAAACIEATjAAAAAAARgmAcAAAAACBCEIwDAAAAAEQIgnEAAAAAgAhBMA4AAAAAECEIxgEAAAAAIgTBOAAAAABAhCAYBwAAAACIEATjAAAAAAARgmAcAAAAACBCEIwDAAAAAEQIgnEAAAAAgAhBMA6ZZv369bRhwwZ1CgAAAADMPATjibS0fxy1++aAOp0x6avfoi4T1lOqOp1xyvZN+k2dtMDrHDxkEi0+qb5xGSXP7ECj1v2jTmVxSdNo4FPzaac6Gaoff/yRVq5cSZcuXVLfcTZ3zhyaN28effPNN3Tx4kX13ZwieP6E8ApW5jiPnTp1yvbPOt9m9XowiwlTXZJtiP0NOJ5pK2nKU4MpPj4+i5b/DORpsb+8X/o/V8c7YvniBG0a/1AWOReHc1syviyuL6+osprFeAjGK1HLd8fT/HvKqdMeWFVQERDV5GkaM7oXtS6svgGZ6q677qKePXtSrly51HeINm7cSKtWrbIMdE6cPEl79+6lNWvWUFJSkvpu5HHAFK7g68qgnBiyw4XHokWL6LPPPgv4W716tfoJswzUgyLoWfTEhxFpDIBIEYHuC1/TvwPGUEJCAvW6UX07S8lInibaV6EL/Z/YN94//nt7bDuqqs6LNNTddgLropgu87LUsbvSoJsKZJpbbrmFSpUqpU4pDh06RN9++61ly/dDDz1Ebdq0ka9zXss4ZEVdunShfv36BfzxhSRAOFw4X5XKFFMnAiTR34MXUIrjBVoq/T3pCzr2vy3iMhcAcqJcixcvdteHQLZ2xdGC2z6gYQ0KyHf4qnPonMPy9YWLlan18MBWZ771MXb9LeoU0a7GA+QVOH+3+7bbaXKrvTTiw81yHl9hf9S3PhWVU0xZ5/Q/SsqpwPl6fKvtXfpj8KtU69u+vu8U7vySb3vlrbEJhamPdvXHtw9HzqVteXLL2dq2aZz2T79f6eeb+Zep0s/n5U48348mlZ3h3xYT+3UZ08C4Lm2fn6Lrx4ylJfnz+ubH6pZn3K8Q0onx7ciPlOPEKj9p38rz22+/yYCbg/GWLVvKlnFuEU8RgThntu+//57uuOMO0trLK918M1WqVEm+3rNnD3388cf06KOP0h9//EFnz56lG264gapWrUpXXeV07ajsF6cBM+QV03G22te+IwrSTy/NkZ/xp7Ex7Zny3XS1LLxMbX96gT7f30w9Xm6O1XjrdFO3Y2C/U/T+h5vkW8pxu9awzMB0N+63OS9q5WxMrdX0zuwU+Z6yDwd937Msu7bH218P9DrY1ZfHfWlqSmu7eiGAU1l0PEZ+Xssc35356quvaNeuXdSgQQOZVydOnCjvzvTt25cqVKigflLPv//act3Ug+b01JfT8NaDDtvjWN9dvrokWN3pp6W1Us54+b79OeJPT6v0cFyH6Vi4rw9cEN/vsrSisj2m9LZeDgfjSXR6RFsqZVtGOBhfQmdy3UJ5/luLiqjvhk+IeZrp91d9y8dFmfanh7EeM3zWtBzD8bJlLDNM+Z5Wd9vUXxqv67TdV+N2GPNAYLqb00HL2wXVesKQzoa0D1yWvgwYjqH4nlNdpF+HPh8wYzpYl3/jOcrhuJqZtku/LvN5zDcvpLyRNeXu2bPni+rrIM7SofULKalMe7qj7NUy4QZPLkuPju5HPVq1otY3nqa915Snm/KpH1cVqtKdWlU4Rh+lNqE3h/6XHrtFKdEXDqylTes20IR899GncfdRq1Y3UPRnn9A3RZsqy9dlrlG92on5rajJ/ifpv4lNqIe6DKPj9NuCn2jtpuNUeuBIerJDK7nMc6+/StO1ZaZup0Ub8tGtd1WiEuIb6T+vp6Ndh/g+W+LdcbTqljZUO1rMdNg/zuS987ynbncral5wLg34Nje1qFeW8ouv8vy4I8Pk/t4t5vfIPZ9Gzj1P+arcqe6biVNapq2jlXn70GA1DWr+NYTifGmg7PMPGwtTs/EDxXdvo5KJb9HnM9fSu8V7KdtXL4ouTv6Mfq7UWtmvENKJt48rTm37eJlbX1tKhxvfGnC8k//8k9559136v//7P/roo49kQF64cGHa8NNP9Nu+fZSWlkanT5+m8+fP0/HUVDnNQZEWjB8/fpw2bdpEmzdvpqNHj8r53Pe8aNGiVKZMGfmZQEqBX//g67680uDf/RR1fTnKLwrrp8OTqNTI5w376jvOYl+/27yOZh2sQUNeeFQcLyUNnz90q0jjklS6fidqVmCbLz2V46eUhfVrL8k07Nextutjdaqhul4zdTsm5+tiOG6fL19NF3q8T892bSW3Y8qnaVROOy5cET0/ldIGjZPztbz4+lj/Z7RytqdqvJI2oizO+3w6LVp8hiqqaVL99HB6ZV1FX/51Pt7Kvm8UyzzZ8X/KesUyv5m8haiBSIciN1DNu+pT8V9myu1+7gE1bYJwLIuOx0ipCzyXOWH+/PmyO9Rjjz1GiYmJ8oFjzm/Dhg2j8ePHywvGwAvA0OpBKlZd7tfFr09RxZf/j/rfbTw+YasHHbbHMY0vU10SrO40MpYzLa9Om77Zdz65OyC9XNTPK/bQLYMG+fL2b+NX+usyF3nNkfj+l78VpQ68rvxcFioEHHOjVPp3cSqlN4ulgrblJD9F1a5GBWqXIhdFKQQh5mmm31/1LU2wMu3PF5zH/49Wthmn5vHbqELqGbr+enHZEaz+tpXPse62rb94H72uk+thERByVySlHtZvv9M5wZTuDuexKFFPzDpc3pjOhrQPXNaSPXfTQLUM3HnNchq6TC0DDnWRfh1cjh77raevTg0o2xbl33iOcjiuFpzKpfk8Jtcfct7ImjLUTeXP2OJUWn1NsXcEb/0y4SuyN31XSZWo6QPlaMum7Urf8qQF9GqeftRXd5UT03wIdV661fEBg6L3PaDbDtMyTaKadDV8tmqzfZR8xP8AhOX+iQywaEUf3XbzcjrSY9u20Aa+1SjmL1nVkXr30F3Bxnanp+r/ok5Ys03L6GbUreE16oRIg5rdKH/yIcP+1BygXWkXoTpt7jKmq/h+88ZJhv1i7tNJFKiFi3TrEMQyWzWdSxt2Bz4swv1t+/TpQ7///ruc5kCcdbz7bhowYABVrFhRTvPrgQMHyr/27dvL9/QqV65Mzz//PD399NN0zTXXyKDJ7kHQ9NVzaVyLpw1XxOUaNZbpn7x8NB3s0SNgX2dt8/cj5FYD//FS0tCcxlb23N5Ct1zBxbFyYnXcuCVBa2XgfNbmzEE6qN7S5n37oukgQ0t5VJPH6OEKM2i9rr82t674ylFsW+p2/WHD8edy1XbnETokp9wdb/128TIfLL+S/jyuTocgWFl0PEYhlDnuBsX9wjl/lSxZkvLny0d/igtJnp4xYwbFxMSQ/lkHJ1mtHrTbnmBpzDK1LglWd9ow59WqZyvpjrWyvh9TjskpN+uI6dJFl7drUY3YHwx5N9T6IHSFKF/aUkob8qX8O7xwv/q+sM/mfYlb1ZV5yt8P5G/DFHTf5b+Un0+pM4Lzkqcr7JtJr+ke4NT6aLvJb3oxJbQ8XoQaNbpBvnJTf4fCqv7S6jev6+TP7+86SlcP+7ffyznB6TzmXSXq3ElXBqrW1dXxLljVqWKZLQc2CCjb+vJpPkcxq+NqJVi55Lqoky5tMitvRErowXhsXXp811RZCEN9UMtQ4E3SDycHFPL4V+fTjnxHDQfazH/gFVElY9RX1vjqT1u+dktHstu/Y8m0u8D39Km2TfJvIi0v9KuSccT8zXliqKwvg7gQLC2TpvnXpbuNY8cpXTXu0+kIHU8sQrvf1++vkla+E6BO23btZMDNrYzckl2oUCH5Pgc2uXMrt5IYT3Oro13A06hRI/l5nl+kSBE6cuSIOsfsBO3YtI0aliquTuudoJTkaDo5a4Rh2/m2m75CvHCxZMDxKpN0LGjFZblOj8cqGOv9Ysq+Bc4vQqVi0hxPesx8/P3cHW+r7Qq2zmBsy6LgeIxCKHOc9x555BH5Pwfmfxw8SGXLlpXTPUQF//jjj1u0ilvIavVgkO1xSmMrYa1LgtWdLl28WMr+WLtaB7fYPaTOe8XQlYGFWh+E7hCdX3Ed5Rp9P0WPrk0Fl+709yGv0FK8dz8V6Kbc5jeKpWvG8HeUvwLdUumSL+BOpb9XpNO54f75pW69Vp0XhMc8zRf7+gc49d0Q3OW3IlStTg1Z5xgHenBXf4ciWL3qfp2JtHNlBYf6VHB1TnA6j4VIBNTaKD5cZ2yN8hDu2dWpxWMCgnrzvufOs1Mta3bH1Y5zuTTWRZmXNyIlj/p/CJQnsFvyAR85mAZSc/f96lwK1jcyY5RbQuNavEfzE5TKgyuOSfIVs98/vkKz3dckdycwI/t18Ta9seYJMZ2grE8U7C5L+cXl5dRHXK9mzZp0+PBh2rJli+VtfnPoza3dh5KTKcbUBcVtq6TGqTK8XP3IInGsHE8CGWB/vDPjEbJgZTE472VOecCYcR7k5xP4dq7XfJf16kG77cl4GoeDY90ZJo7rkOkyl/Z3/YAS4rjscAAQR1uUuRFSkM7fW4uUMCyWcrXYoBSzoBeXSl/y9J3+OjZXizTxLwfdRSlXqZOUd+SXlNL9LveBuBSOPO0tv0U1eZoSmiifeS3+FrXOVuZFoh+wl3U6PaDr9ZwQrvqc+1g/N7sotX5xDCVwPhLHctKw08pMl0KpU82sj6vFPoZYLiORNzKLh0slG9HNqOfYMfRs4w9odhjH7uTWlXC0RnDL0pmY0oEnsqSN9GGVHjRFdxVvybx/4sqw9vlk+9Z5Mb/97m2m267KVVxQAWmZSNuWtae2L2buyYvZphOVoGKVTnhq9eT+4YwD83HjxsmHMs2OHVNaWd9++2368quvbLugBKe0BFvfmlLmWbXgh9/lO1YKu/1W8lrolbr3451hbsuinRDKHOc3fhaBW8W5vzg/w8APCjN+j/uMe5LV6kHz9mQ0jT2wrUuC1Z3hEGQd6Ts3yq5dOeEEfm7jD/KhTqVFPbD1vEDb7kqr+KUVsptKYDeXIDKSp0PMbzy8XsLz7ShmynLaeVnrb43XdZagElXWWHbZ9HZOcDqPWd9t4nJmTWllr9bP5qFbNyzrVOFYMi2oWsJzkG48roG8l8tI5I3MFXIwnr56hm6MyuDBpucTSmxb2ff1GcMYoYk0a7Zzf6Ct7+gGrRdXW9NmFKa4Oy0qBHNmE1es+ttotvsnKijuPztxqvF22k9f/6hMq32dxq/wb2f66o8Dbrno2aeluaAn0tK316mvM8Z1OolMz30mU7/6wjAmqXGb/TjISU1Lkw9kcjcV7od70003qXOJaogAnfH4zlu3bqXU1FRlZJVcueiXX4x9fPlhUH0g//PPP1sG7dyP9IFV4wy3VA+sXSOPh9U8PtZeuxQEv/WVecfKjtW+cV7jPsb3uLiLYc3b8XaiD+i5pcZ2vN8gZTGoEMoc37n5+uuvZZ47ePCgfE8bhvPdd9+lYsVsx6Iz8FoP+m/huuSxHrTdnoymsQPXdUmwujMcgqyDg5qbVm33bW+wfBKIW3wz8ce7Tqynf5ddT7nKq9MOLhz5my6UihYlliXR+Wnn5CuzvHXvpugXytPVh9JESgTnNU9b8pTfTPlZBHxal4pg9bdjvaLy2m3B2znDqr48QWvX8jNT3s4JTucxTs+7k2bQN9o8Uc5mzLILxs2B/QnaNGVSQDcVx7rIshwp29/2Lrd36eyPq1ko5TJc5/asIuRuKlElL9CyUfG0TJ0u3Fk/PI+JPKHE0afxK52HtjEQmTxuGA3q/xbFr1Gu+LXheZzUHFCFkkVl+ak6lE7lpxKsrw5FZuvedSMNVfeBt2ti/em+22hO+xfTZQo9Pz6OXoufKacZ39a/Tb7i7R5PL4v58fFKZuJbKU/V72p/i852XQWoTs9etHPkMIqfpQyxNXBQQ6IlyucywnU6sdju9Hqnt3xpxeRxtPg8B9UcfC9ZsoSee+45GWjr+4pzv9xatWrR9u3b5R/P52m2bNky2r9fab3h4Q2rVKlCJ0+elAE94wfrOEgKGHJOHMuew0neUo3XDy2lzeubTPHcB1rO0W77qxMu8EMpj3/xrjzeym0xdYaBOO6ZdKxsWex3WLp2eTje1pQT1PSPRtDgr5QyWz1lFTUsa5PoQcpicN7LnPY8w//+9z+qXr06VatWjT788ENfXuMHjN3wVA+S8oDRUJEXB6pdKWLVOfa81YP225PRNLbnpS5xrjvDw3EdIm8/27gDjRXnIla4c3/qdv0LEe6m8pfsTsIdTPhhznMj2pD26wznNs6hf6YrQXYUrae0ZespvUV9KtmmPBVoVJH+Ham8x9+j7sWJjsqPCvxw52ZK9/W6KkTpw/3LdeItT9vwVKZLUIU//GXX0M0oSP19zKleEdzV3SZezxkiT415YhrFG9LsJWrk9fxtUZ/rz2NdO4v0VLeJt2dyv7o0x2ZZMV1G++oMri869u1NNcfoL8WC10Xcmj1e7V6iqWw3NK8lh+NqFkq59HqcsjgP44xDzsAtOw7jXYeBbB1PTaXo6GjLh+B4Pg9vWLBgQTmtfcb8Qz8c2PN7+n68rh6qgyyG+/99Tkcf7h/6bdMw4zzIf8n8vEKMcguY+43zxSLnN+QzNzK/LgGwl/XqFYBQ4YwDYcfBDLdg2wU0PP/aa6+V8/Wf0aa1P/4ct6rr34Ps6AgdzFWP6mWhE6YWcGsjqPBf+fLlffkNALK6rFevAIQKZx0AyGSVqOOAzBoVCQCuTKhXIOdANxUAAAAAgAhByzgAAAAAQIQgGAcAAAAAiBAE4wAAAAAAEYJgHAAAAAAgQhCMAwAAAABECIJxAAAAAIAIQTAOAAAAABAhCMYBAAAAACIEwTgAAAAAQIQgGLd0gjaNf4gm/aZO2kie2YHi4+Opy4T1lKq+l2FJ02jgU/NppzppJX31WzR4yCRafFJ9IysT++M1fXj/wpqmGeHieEAGpK2kSf3m2aZvePN6Ii3tHxe0XGcuY92SFcsy12uj1v2jTgXS6j39X7tvDvjmuSkvl7eMK2mu395sU39mF0HKcchM5w+3+SskmbUPYIvrAS6P+mOqj6uOrnFbPyp1u1YPZUc5LxgPIfgLBWeiuCPD6P8SEmhm3/pUVH3/cohq8jSNGd2LWhdW38jWEmnREx/ixJjtuLtgzajQ8/rl2b6MCmtZvkx1Hyvc+SVKEHWf9jf/nnLy/Zgu8+jtse2oqpzKWio/6d/eMU/ko8Ujr4SAPHuUA7eycv7KXrLAeVfUV/GzKtMjojxqx9QcV13X2G39WIlavjveVw+FxWWsTxlaxjPgTEzpyxqEAwBAGMR2p6cbzqYNu+3vAABA5voztjiVVl9rrtS4KtfixYsvqa9d4SuXoXMOq1NKa0OvG5XX5nncejKsQQF1im8jvEt/DH6Krh8zlr69ujX1GduEzo0fQAtue5na/vQCfb6/GbUerl4F8VXTR5uVrwr69TCr7bhrUwcau/4W9R2iXY0H+K6U+NaHNi/9fDOxbv3VNbcexNH0P0rKqcKd+8vt2dJ+smGdGv2ymH8/lX1ckj+vfN+8Ht7m7ttupzG1VtM7s1NM6aMS+z1wQmHqO6Ig/fTSHNqWJzdduFjZny66z/iWnbaSpoycKz/L9PvN9GkVsCwDYzoYt187fq9SrW/7+j5jPi7648bfH9jvFD2z5Eb6yOrugekYa+uLVdNpcqu9NOJDZf6+Cl1MyzBua+B8jfK5Bbd9YEhr7VjI7zilnymt+dj3zvNeQPp2Ona/7j232+anz1PGY+QtTzElXx30fc98zLXv6NPX+liP1x1bZZ9kmYg2ppdx+UH2XZfW/L2OfWPptzEnqP57HXz7ZGDO66Y8E5D/mOl4+rfPex5mluvQBCl75vQIqFtCyF88bS7P1ZeGWvcZ5/P3Jp7vR5PKzhB5yFQ3qfjzdvO1vKUdc6tt5XxilQc9lXE13bh+ef/DTRbprqfLu7rjaEhr03E01836NLLK74HnMGO5NW+ffnnMkMfUfdOfA6yOm4FVnnUop/b74/LYuCjH3tNMzNLtB++z+fyhz18FdXlLY1hPkGPqZh/0tHV7qWsl03YY09KYFpzXfcs44k+LwLJhTF/r+tumnjPlFee8ZczHxu0wzrNcjlW+FNugrxeYVu/oy4RM22LfGOt/wfxdZZlaOurP88p7TvWHXRkzl0/n+iU88qj/u8KJwLcV+ox9WkkYkclWqm34vPF8e+GjBP2Beo5G0euGArD1nV1U/93x9LacEokl/k39ajkdHT6ZxmgZWE2oPmMTfOv5dPhEWjyqt8zkdtvBt7ASak6jLksrGjIub5usdBOUxJSFakJx9TPKAXuh3CiaH+efP1QcwMpyKhCv55VSpgBMLXD/igAmQa1U5XY+RYaMVGHfTJpch2/xBp7INFF5VtLQaSLjjB1DPfkNkR6DR04iMhdyVfrOw1TixTGUIOdxur9Fk2qogRQXBn1aJX1Pi/l/K2lbaE+99ykh7ho5KdPtm+qGTLjjvS+pjDhWvC65f+/Mp53a/vF2fnBWVCQJ6nYqhZWqaGcZk9juIh3q0qInVlCuNx737Vu6+ON0um+HKAAJ3cWUspwJ66qreclf8BLilHTkbe35jTGIURShanVq0KubtlNqAy1PnKAdm7ZR2/ZPy2nH9PPMy7YpAsqOdoxCyVN8vD8aQYO/EhX6K+J7Yp/k8qdWpXq6MmFMX+vl2opuRj3H1pL7aQxwguy7tj8DRFrL7yif3xrVlerLTwfB9cD4v6nFKDV/qeU+gO32KYLlYae6x8w573ivW4KyKc+h1X1WeY/zzy1UuCxPZJDNtmoyWsa5nhwgv99NTntzglKSo6nhbcXVY5xEpUfpj+NzNKmEdhwT6cfc74nypUvDqesN5cl4DuNtH0XrHxTbru7L2rUneIZ8reQJ/zFRysVgmiTKhZZXjecA5TvPmOpiH7tyYVsOgu+P47GR2xusHHtNM0HkFy/nj6gmT1NCE3VC3YYFt73kSwPHY+pqHwJ5rmu1ffLVEcpn+kwQZc4iLbRljB21myZy8CjSv6g5/QX+jFO5Zrb1nM15N5Cy3vUPvq7mY6IDa9fI/33p53RuEvtuW5fysStprq8s4qok5T+NXIdNDGqk5Qfn+sOujNnVp5nJQzeVRPru80LU9kXdyVoU9mYVxf8iQZas6ki9e+g3uhK1HNiAtnAQpL7Drut6p//7qj23t9BlCJEoCxdRzQHG9bRqOle9peiwHVbEti1a0Yfe1FViUU060mPbttAG7i+VtIA+29fVNP8x6na98Yo7mOTlo+mLpoN0FZ6ynIcrzKD1uv56fPXVSc3YdvjK2JCWsW3pwfIrbW+pRjXpqku/SlS12T5KPuL/rOFWUOwd9oVPpGO3hkogzmJqdqP8yYcMx6/ofQ/4vs/p2ObMQToo+50px00/X8sDoeB08h+TStT0gXL+vCSO2at5+lFfXTrGNB9CnZduJauHb6Kq1qX2u7cpx5uJi44te+6j+uqxCpZ+nnjcNi1/vqQv8Ooxcpun+Irftz6RVzjv6o8Dr7/tziN0SJmUjOmrHMv2/y42LNezIPseuD9FqE7PXlQz/aI6HdzFi6WorHasnMq9A3Me9u93sLonkGPeCVPdYua6PAer+6zqbXGifqr+L+qEvZOzRhgeiLTrk+y0rRkt41xPxt3p3zcv0ld/LI8N18WcLw/26GE4jrwts7ZpD4NVos6ddGko6hNzeTKewxQxJbRtL0KNGt2gvLTIE5zHunaO0a3PfA4Q5aTNXQF1sZ63chF8f6yOzY8px+SUu3LsNc0ydv7g46nPL8GOaah1kbe61mqfxGe6jPaXQZV5GVXPVtIdf2P6By3XKnM95z9Xu5O+ei6Na/G07wKAlWvUWG5TYPrxOvTnJu91aXAeYj+X9YeXMpbZ3AfjSRtpYf6y/gKvdyyZNueJCZxXPCagAPorKL+GpYqrr9gROp5YhHa/76/o+Y9vGcjM6LQdVsS27S7wPX2qW1Z8/ERaXuhX+vO4yHCHky37LXmjtrIY9oMVoVIxafaBsY0LF0ua9k9ZjhO+6tOnlU9sXXp811R6Tbzv6iEevtrX0kl3e0ljPn658+yU6agdN6vjGwqndOJjxi0UvE++bX11Pu3Id9S6somuRTVif/BVAuk7N9KsljX9BVqwTT+PvG4bb8uCqiUs9tV9nrIS7DgEpm8JKlZJa70LjfO+n7LZHw/Ecax181eyLDuN9hGMfdoEqXts2OWd8NQtJl7Kc5C6z7bedoFvIesf4NSflH2CbGtGy3hAPSmClClPDfZ93vzwlf64cneDEbIFTyln5osLvg1uODHrly22Y2vUVeoMhTFfK3fjeH3mbbDLE1ElYwzrCzwHEJVJOmY4l/qEUi6C7I/VNirbZ1cvWfCUZhk4f4j1TJtRWBdYBTumHvbBhWD1SeD8ElSiyhr1vGnNcHFlFqxcq8zr9Z+r3VDuHlunkZtzU2h1qSMPsV9I9YdgW8YuA0/dVJwqz3CfdAx96PSSvK+Lr/Ltbr+nJ4fvgYGQKpIMU24ljWvhv2XFwcEk+YopTxm35Ipx5GAaSM1t04K/98aaJ/y3lURg3mWpnOXKhfNVqUwxdSKTWfWhs6ecHF+QlcC1spLp3P5pZVbQ9PPO27Y557/I5KnQ2e/7CdklLWP7U4TqxE2mOvKYPUeDv6oV2D8zDGzrngDB8074H0ZyX56ZU90XSl3qjbdtNXMsR0fU//WiuVtGM3UikNNxDehPrMO3xp+bXdTf1UDsz6Rhp5WZNrQuFJwfXou/xbD88OcJb+UilP0xC1aOQ1lHaOcPUa9MmUQHe3xAj5j21/6YnqDfxb+Xo27NrHOiY7kOI6c0cpN+7utSd7zUV57rjwgzXqo6KR5jvNWvZzdPXMFZt/o5UVrobFv+nLbDivh87fPJ1i2mArdI3LRqu6kLgXJV555yRai/zahQriAzXugdliOuFj+s0oOm6G97WpEnqjH0bOMPaLZl60kibVvW3ngLyBPlat98C4qvUMONj5nXK1i+Tcq3qPac2Eo/XtWP7tEqCLfppypeqqn6yu9Yyir1lfdts85/LLPzlNkROrKrsXrisGolD14mnPfdZn9EHWFuMQtOCfJe75RK41eY0ycjgtQ9ZkHyTih1S7D85RO0PAtB6j7rulTJX2HlZltNQinjoVHypX1rndJCWK1faBd9su/p8+0oZspymQ/syjvXkxkP0t2Ui4ztj7tyHMo6Qjt/mLunKIId03DWRU6s98lY14YgWLkOC5s0kuzm6c9NHutSNzzEfpev/ggf9zlPVKjc32fiVN1tN3G1u3Kv+N9qHl+lv72O2t7lvoVQofTdSf3qC8MYmOmrZyjTTtuhMhwEy207QT99/aMyHVtX9hnVnySSZw7xPSHsFvdHemDVOMPtWK2i8AV+LvGDBc/oBq93XI45gyZNM94q19JNcjrRmisO5fi5p7Q+H52xwn+iEcdlxqzgwbi322dCbFvZN02fRry9s2ZbVRwqkQ/uuvMjWj51J6XVre7Pk0HSz4wL+c0/LPOnqfnzXrfN6vP8oJtYfjjzlBnfwptgyvPv3NVGPXkqle2CRf4yY1cmDJVtkH3nZxAMaec1j4m01qeFZZBq4u1kEKTuMQuWd0KoW4Llr2Dl2VPdp3bf0gdunL+00Qcyyn3dYyGUMh4iq3Lmz2vmwENpiXUO2kzbqQ/yrPZL1JPczSLU/u9uyoW/HISyP0bBy3Eo6wjh/KGmm+GZB5XzMQ1DXeSKdX1irGtDEKxcuxTsvGuVhvwAJ68j+LnJY13qhovYzydM9YcxoM/csdk9dVPhq/zx6m03pgzBo9wWNM9jlQ1Do3kQ211c3b9FQ0fF0zL1LTm0jJp5nbZDOQhx9Gn8St9wNDFdptDz4+PE52cqnxH49slt8hW3JvQn6v8cxc9STpKVn5xO3ZL70hY55ZLIKD2Hk7wdG285hJF7fAvqnWprKD7+Hd/0S2NtliPW273rRl9aySGC6k/33SqPKnmBlunSsXBn4xB/fqLw9OxFO0cOE+mgDPMzcFBDoiXqbBfkrVkSx02kPeP9n9yvLs1xXIbycMrQ9+NpoHrrLVadY09sa9wwGtT/LYpfoxwzJQ/0kq/tcAX8Kz/Z/qBu/4OkXwA5PrHytLv2+dl3J1MnXyOM123jz4+nl0X+jI9XgiDlFiS/Cl+eMuPljLn4vlhnijo9jKb09QcD/JDR4/3f9ZWZwDKhVLbTtdEE5G3xIPsu0m7ME9MoXk1r3s++ozpTzaGnlPnBiOD3al1a7GrsfzI+kNX2qbOcBKl7DILmnRDqliD5y7E8e677AvMe39p/qn7XDHXT0rive6wEyUvhxHV332SK5/6t6ltKOVNec1nQtoO3oWPf3lRzjNPzFSWowh/m8qzdcQxMc7lfNqP1uOJYLizKgef9MXFRjr2nmdfzhxLg78xXknbq8hhTukY4H9MM10VumdbDnOstd5zLtRuB592AO+IWMY2sV2zmBZybvNSlLjnGfgZhqD/M9WnTZErOHUP1M7D9TjyPMw4A2Rv359TG6s1oUA8ZlDTtsg6fBQAAIRB1dbudTTJ8IWXH/b0pAAAIoxNy+K9adXTdpgAAIMvh5xc618icQJwhGAcAuKwSaWl/7qbwivxBIPddNwAAIBK4G1U4R4YxQzcVAAAAAIAIQcs4AAAAAECEIBgHAAAAAIgQBOMAAAAAABGCYBwAAAAAIEIQjAMAAAAARAiCcQAAAACACEEwDgAAAAAQIQjGAQAAAAAiBME4AAAAAECEIBgHAAAAAIgQD8F4Ii3tH0ftvjmgTgMAAAAAQEbkWrx48SX1NQAAAAAAXEbopgIAAAAAECEegvETtGn8QzRq3T/qdKDkmR0oPj5e/g18aj7tVN8HAAAAAIBAYWsZ50C8d573KCEhQfnrvJtGTFhPqep8AAAAAAAwCk8wnraSFq3oQ2/eU059gyiqSUd6bNsW2nBSfQMAAAAAAAzCE4wfS6bdBb6nT9UuKsrfRFpe6Ff687j6GQAAAAAAMPAwmgr3GY+jBbd9QMMaFFDfUyVNo4ETClOfse2oqvoWAAAAAAA4C0/LePEYqn0+mQ6iSwoAAAAAgGuhB+NpK+nTARNpMQfg0c2oVdO5NHGq/oHNE/TT1z8q0/rPAgAAAACAFLbRVGK6TKHnz79Hr/n6jL9CO2o1pKLqfAAAAAAAMMIvcAIAAAAAREjYWsYBAAAAAMAbBOMAAAAAABGCYBwAAAAAIEIQjAMAAAAARAiCcQAAAACACEEwDgAAAAAQIQjGAQAAAAAiBME4AAAAAECEIBgHAAAAAIgQBOMAAAAAABGCYBwAAAAAIEIQjAMAAAAARAiCcQAAAACACEEwDgAAAAAQIQjGAQAAAAAiBME4AAAAAECEIBgHAAAAAIgQBOMAAAAAABGCYBwAAAAAIEIQjAMAAAAARAiCcQAAAACACEEwDgAAAAAQIQjGAQAAAAAiBME4AAAAAECEIBgHAAAAAIiQXIsXL76kvgYAgGzk0qVLJOpwiomJUd8BJzVq1FBfAQBkHQjGAQCyqVmzZtHOnTupcOHC6jtgJ3fu3NS/f391CgAg60AwDgCQDaWnp9Pw4cPp1VdfpauuCl+Pw5MnT9Lp06epbNmy6jvZzy+//EK33HKLOgUAkLWhzzgAQDa0dOlSql69uiEQ524rFy9epAsXLsj/eVqPp3me9meez++9+eab9Pfff6vv+OmXa8VpuZfb/Pnzaffu3eoUAEDWhpZxAIBshgPi559/PqBVfM6cObRhwwbZbeXIkSPUrl07atasmTqX6H//+x/t27ePzpw5Q9dccw3VqVOHOnbsKOdxED169GiqXLkydejQQb6n2bNnD3366adyuampqXTDDTfQk08+Sbly5ZLzeb27du2S86KioqhChQr06KOP+uaHGwf7/Pfzzz9TSkpKwPby+7Nnz6Y+ffpQuXLl1HcBALKm3D179nxRfQ0AkOVpgRjLrGAvq1uwYIHsptKwYUP1HQV3zahfvz799NNPsgvLlzNmUOMmTXzpVLt2bSpevLgMqjlQ1Xfl4NbkY8eO0SOPPBKQrvyd//znP7J/epcuXWj58uVUr149yp8/v5zPy2ncuDElJibSE088IV9n1rHZuHEjjRs3jpYtWya3hy8MKlWqpM5V8AOtv/32GyUnJ8u7B1dqPgGA7AHdVAAgW/n4449p/Pjx9Pbbb9t2mcjJ+ELkhx9+oP/+97/qO0YchGqt5cdTU2WArMet3NxyrQ9QOR35c23btrXtf87BPwfrN954o5zmgF9vx44dshU6OjpafSdz3HrrrfTGG2/Q66+/rr5jje8IbNmyhX7//Xf1HQCArAnBOABkK3fccQdVrFhRBoZXIg7ES5UqZTuCyq+//ipbzLVge/369b47Cfz/3r17qXz58nJak5aWJh/crFKlivpOIP4er5OX26NHD9q8ebPhYuiPP/6QQX5m4/XzBUOw1m7OI7y9hw4dUt8BAMiaEIwDQLbCXRKSkpICWnevBBxMf/vtt3Tvvfeq7xjxfO4TrgXjnTp1kl05Dv35p5x/9uxZOn/+PBUsWFBOa/bv308lS5ZUp6xxkM9dVTgQ5s8eP37c1zrO6+UWaHOQH0m8/0WKFJEXbdrFCABAVoRgHACyFX4wkVs7b7755isuGOfWaO6nff3116vvGHFLNacNpwv/lS5dWr63Tg2auSuKVbpxMM7Lteuiwsvg7i/8cCfTAncOxjnQ5b+rr76arr32Wvn+5eQUaHNf98OHDxta8AEAshoE4wCQrXB3CXbTTTfJ/7l7xXfffSdHCMnJOOicPn063X///bYXIfxwI/fp1uZzdxYOsrdu3SrT6cCBA74+3xpeLs/j0VWccEu4fr384CR3TeG+4hzwlihRwna7NBwUu/1zy2mNfDFy7OjRoNvlhO8IfPHFF7KvPacV7+/cuXNp7pw5cpr/+EHRqVOnyj7qVsNCAgA4QTAOANkKB5Q8fB4Hfxx8jho1SrbUfvnll56CuKyGu5d8//336lSgbdu2yV+R1FqnrXBLdaNGjdQpkoF4tWrV6J9//qENYh4Hz+auJBxMcp/xAgUKqO8E4m3jBzO1oJZb0OvWrStf81CK3G3IzY8E8UO3PCQjj/QycuRIOTQjj2s+ZswYeuedd2jChAnyjx/Q5S41GcUXI6li33gfQ8HDPX744Ycyf/GDw3wMeHz3QoUK0cE//6SZM2fS119/TWPHjpUPr/LF0nfLl2frfAgAlx+CcQDINjjI4S4V1113nQzEeXg7HlWDx8DmgFILFpNFoPTtvHnZIijiQHHVqlX01Vdf0bp16yy3mT/DrbPdu3e37UrCn+ELFR7KT4/HEmcbf/5ZtmAXLVpUTms4zXgoQKcWXQ7yteBbw9McoPOP63Aw7qa/+KBBg+i1116jl19+mUaMGEFDhw6lZ599loYMGUJxcXHUr18/+Tdw4EDKly+f+q3Q8RjkGcHHg1vXOb8x7ibE+3DnnXfS9eLig9Mlb968lJCQQLfffrvspvOreudGw8dznsiL3M0n1IsCAMjZEIwDQLbBP9POD+RxF4nFixfTM888I1uLX3jhBRnMcWC5YsUKGjtuHB0SgdiLL74oA/Os7E+xfefOnaMGDRrQ0aNHZQBoxj/vnidPnoBAW08L9MxdMnhUEX7YlbuZlClTJmA+44CTW8+tgkV+jx8C5THK9Tjda6jbw9vP/bOD4XW7/QuHjI6kwoE2D/d46tQp2Y3noYcektvGaXJU5EPuf88/rMT4PT5GWvcpdvDgQXmxwRdB77//vhzZBgDADME4AGQb3F2CcfDHXVU40OGuBNwiqbUY8w/iNGvaVP4CJLcC/7xpk3w/q+LuHS1btqQmTZrIrjfc+qoPivn1tGnTHPuKnzhxgr755hu64/bbZUCvx9/RWrVjY2Pl/3o8n9fLLeP69TKe/vHHH2V6c79oM/7hnzwiKOeW9XAF0MHwNvEx18ZP16at7ijwhRtfgNjdTQiG040Dbu43zl1etH3kdWpDRGrvccDN6+PRfrT1cTcWXv9jjz0mh+S0utACAEAwDgDZhhaAtWnTRgY4bO3atfJ/7grAuJW8Xfv2MnDnVufbbrtNvp+VcUDHAVyNGjXkEIHaQ6qMuzfwSCXc99sKt5pzn2vuosJdJLhfNu+3HgfNHDBzK7kV7oZh1aWD7zxwVwwOKBcuXCj7h+uVFAFq7Tp15PzLhfeXf7afL1A4zfhii7uJcD9z/cUEv+aLFN7njFwo8HI4bfV3FbhbDv8Ikr6fPD8ky+Oac8u4NsoMd7fhOzZ8ocD9zc2/mAoAwHItXrw48L4kAEAWw8ENP+zHXQEGDx4sA5znnntOtgaXKFlStkx26NBBBkz8c+kckHIgZDcMYFbErdr8MGDNmjVlSzjj/tXtxcWF1vfbDqcH7zunk9eWYP7uxIkTZdBuXg8vT/s/1BbmcNNvkxYgmwNubs2eMmWKzAPFihVT3/UuNTVV9nPniz9uJWf8w0t8B+aVV16RacIt83xBxA9xdunShYYNG+abxxeJfHehZ8+e8vtZJQ0BIOtArQBwheCAi/tP/6w+yKcFNPy+9jor422U3QBiY32BF/ehTjtxQrZK6ltAuUXy6aefplmzZslAKLvgoPGWW26RfbS5VZdHP+GLD3N/bSsc5PH+hxLs8Xf4Z+Z52D7OD3q8zFCXm1n026S9NuNnB/hOQ0Z/np9b4rnFW+viw/mQ77rwCCvaenk7+O4Fj17DF4h8UailF7/mwJwf0p0/f362KGsAcHnlFlfrL6qvASAH4pM/P+zIgemfycmyxXjJkiWyKwQHeXyLn4fDswposhLevnNnz9JNIijibhUc7PCvSfIY49xqqfXf5fGfOaDlX5nkPro8hnawVuWsgrefRxHhbg78evXq1bKv8eVo3eeHOHl0Gm6d5/TLznikHe5S07FjR/krnBnBfem5H7j2Q0d8XDjvcdnRls3vVa1aVV5A8UgrfGeD8XZo/el5OMRFixZR06ZNfYE6AABDMA6Qg3Er5yeffEK/icD7gQcekIECd0Vo3ry5DNL5VjuPFMHDsnHAkNXxbX5tmDnGgU6rVq3kSBe8/TxiCPcl5rG4uTWTg3EOknj0leyCW8e5TzL/8QglHFBejmPD6+ARXfihQ35Y0c3oKFkVj/fdunVrxzHZ3eJ04Adc9Tgw5/ylxyOv8AWhNnQkl68pkycTt4Pz+9u3b5fvcxCfHcoaAFw+CMYBcigOxCdNmiR/gbDnQw8ZRn5g3KrHreUcqOaUAIFblXk4Oe4OwMPIccDELcvBfl0yK+HjwNvN28/9xs3jgmcmXjenF4+eEomftg8XvqDhLiqRxGmZ/u+/Mi/yA6B8cdVQXOyUcfHjSABwZcEDnAA5kBaI/yGCgN59+lj+OiK33L311luyi0rjxo3Vd7M/3i/+9UYek5xb0bPjRQYfP/7Rova6vseQPfGx3LRpk+wqhWMJAFZQMwDkQLt27aI9e/bIBxztfqacg1R+6Mxq7OnsjPeLH6TjrgXZMRBnHLR1vPtuBG85AB9DHq8cxxIA7KBlHCCH4ZZh/nl4Dsgff/xxwy8Chht3CbH6GXXeBnMgzO9xn+/sGiBzevKvTrrBQ91VqVJFnQIAALCHS3WAHIZvi/OvJfIvVPLPoJvxfA6M+X8rPJTbt99+q06FV3YNxL26UvYTAAAyDi3jADkMB9nPP/+8HBGDx9vWB4Zz5syRw+Xp8c+w33333bJby//+9z/5PW5N5x+auZy4jzf/imKktG3b1tV43uHAFzz88CxcXtx9iX8wSsNlhX/QJ6vhh6p79OihTgFATodgHCCH4QBj1KhRMvDgH77RB+PcIs5DGXLQzeONP/roo4YxpXk+/5y622CcP89/bjn1m+VgPC0tTZ2KDP4FRTt2dxLsOO0rj64BkaE/xnxMuatVVuSUFwEgZ0EwDpDDcHD84YcfyiBj5MiRAUEhz3/jjTfkD+Y888wzsjuLxmswzq3s/MMmbg0aNEh9lf189tlnri8W+FcfH374YXUKIGO0i148BAqQMyEYB8iB+OfuedjCnj17yh+90T94yMOs8Y+i8AOGjzzySEDLOQfj/NPy/DPewfDnvcjOfamvpH2FrGXMmDHyQnDIkCEZ/kVRAMh6cJkNkAPxLwRyqze3XL///vs0b+5ceueddyg+Pp42b94sH+ysX7++bcDoNozk73v5u9w4gOaLj3Cw2h+nv6yEu2PwH4/yYtXdhtNJ/xmvFx7gzqFDh9RX3nCLOOcpHooUAHIetIwD5GAcXMmfVk9MpAo33iiDcO5Lzo4ePRrwM98chMluKhUryh+cyep4H1JTU6lSpUqWAfCJEyfoq6++ot69e8tpTo/9+/fLB+SyWsCcmebOmUM/6B7cfWrQIIopU0adInmRVqBAASpYsKBsgW3RogX95z//UeeGFx+DueLiUOtywReO9erVy/ZdMHiIT+4aZpcXuWwlJCTItOb5nA48XCbfoQq279rF0ZWUZwGuJPg5fIAcjE/exYsXp0o33ywDb25Z4/f4z+4n4vln2Pkn2GNtgoqsgAOZKVOmyEBm3bp1st96zZo1A7Z36dKl8kePypcvLwMlfrB169attH37dsqbNy+VLl1a/WTOxsefL0B4vznt8kZFGY5vy5Yt5Tz+AagnnnhCXrRlxrHndX/++efyIeJatWrJda5Zs4YSxcUiB+RZNb8F891338nnLHbu3CnzJf/yK//pcbk6c+aMHLGH7z4899xz9Pvvv8u7VydPnpRj8NvhdMmuaQMAwaGbCgBIPLQhP/B55MgR2rptG40dOzbLdlfgwIQDOd7We++9l3bs2CEDOj3e9r1798qhGzkInDp1KvXt25deeeUVKlSokLxjwO9fCTi9+PjyxQtfnHDamY8tB+AcjGtdIjLL8ePHZSDO2/Lkk0/KX4nl0WV4+7KrbaK8LFq4kJo2bUrXXnutzHdmPJQlXzBqr28X+XLYsGHUqFEjOdTllZIXASAQgnEAkLhlbsSIEfTqq6/S0KFD5XjMWbU1jreLh2XkLgHa0HTmVm4euvHYsWPysxxg8lBx2v7wXQIO4LPq/mUGDnb5woQD4dS0tIC+9Hwxc+ONN6pTmYO3gX+QilvDNdoPU/Gxyq74bkKbtm1lQM2t3Ndff706R6Fd+HDas/z58lEutWtKTEyMvKjk/AoAVyYE4wCQLfH46Nx6z62MDz30kGyR1OPuKF27dlWniLp16ya7ajBuibXr25sTcTDII+zwBcmtt94q7wz8/PPPvtZYHuOdR+nI7AcEOfDmLjGNGzdW3yHZjYpl52ORTwTX8+fPl3eWuBuK1gKu4a4r+q4/HTp29I1WlCguUPjikO9YAMCVCcE4AGRJHEDajf6h4V8Y5W4qCxcuNLQs8nd41Jhq1aqp7/jNmzePihUrRt27d1ffyfm4Sw4/KMnBID8rUKNGDfr111993Sm4VTyz+onrcdDaqlUr2T9cs3jxYnkRYG5Nzm54XP4XX3yRdu/eLS909LhbkNW487/99httEReNPGThlXJhCACBEIwDQJbE46TzQ27PPvtsQEDOo6RwP1ut+wn/cNHy5cvVuUofXm5tNAc4WpeW+++/P2xDHmYHHCBqdwL4j1vHGT/8ymnLo3rwA4jB8AWS2z83+IKJL6IaNmyYrYNxzov8UCqnLfeF54tDLc9qeU4bxUjD83nYUe4Sxv3oudsUAFyZEIwDQJbErYUcUHN3FHNQ/f2qVfTJJ5+oUyT76er7O3NLJP+gkR63Vn755Zd0++23y5ZgDkTdBo3Znbk/OHeJ4LsGu3bulN1X+C9YNwnu781j17v5mzNnjvote8kiCF+8aBF16tSJ2rVrl22HNuR04bz4/fffy2nu/80XNlqe/eabb2Rfff3+ceDOF5n8fAYH6zyiypUysg8ABMI44wCQJXHL4fPPPy9HqGjTpo36roLn8UgU/Oui3JWF/7gPLvc//ueff+QvjPIDnnqvvfaaHJNcw10luIU8p+MLDg6QX3rpJTmWuIZbczmIvOOOO2SacVqYL3rMtNbeYHg5Tsv666+/6M0336TOnTvLLjP//vuv7LLBF17ZjZa+vO18QcNdgniElDp16vjmDR8+XPbT13z88ccBo8dwegRLfwDImRCMA0CWxN0Xxo0bJ3/SnwM2Mw50eASOPHnyyIcPtUBm7dq1VKpUqYCRQawCyezaGusFt3pPnDhRdofQB3ucHh988IFM544dO8pfZL0ceL38oCO3FvOPCzFuHd6wYYNsJc+OOC/yBQ13N+HuNlo6837xj2jxj/3oXal5EQCsofQDQJbEP4jCKlasKIMX7mLCv164YsUK+T4HPPzDKtHR0b7gh4OiLVu2+IbL0+Ngx/yX03F68Mgx5v7KjPef+46np6dn+pCGGt6eSZMmyTsY/AM4PMrIu+++SzNnzpS//hlJ/KM8/HAvd3HiOy0//vijzG9ff/21nM95kEdM4S44/CNT/IubGs5//GCsfvhMxj8G1KVLF3XKz5wP+Q8ArlyoAQAgy+GgjW/3lylTRo7AwS2p/DPtPGQc/5w9z7fC71v1Mb8S8U/O8w8c8UVMSkqK7C5hTjfuqsNDQvLoMpcDd43h7hl8DLmPNT9oy6+5dZ7H244U7ufNFwR8l2Xy5Mmynzd3m3n99dflsI/8g1Evv/wyXRRBOvdvX7BgQcCPTJlxWvPfbbfdpr4DAGAN3VQAIMvhlkkOJHnMZu7nzb8MyT/RL/s43367HKcZguPWXA4I+eJE+9PTgvPLdfGiBahWItk6/MUXX8iHLjkY58D7gQce8I04w8E5dzfhIJwvBjlN33zjDaparZpvrHAAgIxAyzgAZDncUsktktx6mjt3bvlAHLd480NuCMTd4wCX04//twq4rQL0zMTr0rplmP8iiS/6+IFL7qLC3Z74NeMLB26555FOtOcWuA/+cXGByHdsAADCAcE4AGQ53AWA+znzL2j+8ccfNGbMGNlabhU42rW0Arh18803y3x0UOQ1Hidcy2d8V4aHIeQ+9dp73LWG8XfMkBcBIBQIxgEgS9FaI/mBOG6x5PGYDx06JAN0fuiPH7JjPLY494f+/PPP5Y/WAGTE4ZQUSk1LM/xqK+dDdsMNN8j/OW/u3LlT9m/n5xl4iEJ+jy8UuasLT/PDnQAAXiAYB4AsRbZQHjwoR1HhLhbaeMzcMslDHXJgxP12eVQVHhu7cuXKMkDXj24B4NVv+/bJscD1I8vwRV7hwoV9vw7KeZMvDDlgX7VqFSUnJ8v3uJ9569atqVu3brJrlXkMcQAAJwjGASBLSRHBDo+cUr16dTnN3QG4FZIDdA64+Yd+uJV8zZo1MuipW7cuXRLBObdYAoSCA2r+OXoeWUbrjsLv8Tj2+l/TZCVLlqS9e/fKn7zv37+/nMd9zVf/8IMcnrF8+fKydZy/DwDgBkZTAYAsh4fA0/8aIwc2PO5zgwYNfA/7cSCu9dvlFnP+JUntwTsArzg/cQu4/ldKd+/eHTBUpjbeuP4n/LlfOQfybN7cuXQuPd1yfHEAACsIxgEgW1u0aJFsmRwyZEjER+WAKxuPjf/RRx/R4MGD5QgsAABu4MwFANkWt6AvX76cnn76aUPrJcDlxi3mHIiPGDGCSpUqpb4LABAcgnEAyJY2bNggfwSIfyWRA6Fvv/1WnQNwefFoKjzqD+dF7ubC3abQZxwA3EI3FQDIdvhBzg8++EAGQdof/zDQf/7zH/UTAJcPt4j/9ddfdP78eflXvHhxeuyxx9BtCgBcQTAOANkOP2yXlJioThFxJVapUiXLH2IByGzmuzLcKo6fygcAtxCMAwAAAABECO6hAQAAAABECIJxAAAAAIAIQTAOAAAAABAhCMYBAAAAACIEwTgAAAAAQIQgGAcAAAAAiBAE4wAAAAAAEYJgHAAAAAAgQhCMAwAAAABECIJxAAAAAIAIQTAOAAAAABAhCMYBAAAAACIEwTgAAAAAQIQgGAcAAAAAiBAE4wAAAAAAEYJgHAAAAAAgQhCMAwAAAABECIJxAAAAAIAIQTAOAAAAABAhCMYBAAAAACIEwTgAAAAAQIQgGAcAAAAAiBBPwXjyzA4UHx/v+xs8ZBItPqnODBNex8Cn5tNOdTrjEmlp/zhq980BdTozhGkdSdMM6esuHczrPkGbxj9kWE7YjpPYvi4T1lOqOmlN2R5t3aPW/aO+D6EIf3m4XJR8mLnlDjLMVZl2xnk0WDnXzh0ZXVfOppSZSb+pk07EccuM8y94EIayA6DJtXjx4kvq66C4Qp1UdgYNa1BAeUNkxoETClOfse2oqvIOhCh99VsUP6uyIS3TV8+gFdW7UuvC6huucIUeR1vaT6ZeN6pvccX9wVlqPbyXx2VpOMB+l5bkz0v7KnShj/rWp6LqHCNl3Qtu+0DNI8r31j/4uj/PQLbA+bHTsftp/j3l1He8yej3LfHJb2lFh/wHnoUhTQPOCyacF7pvux3HLSiLuttBppSxK0IiLXpiBeV64/EQz4eqYGUH9RV4kLFuKrF1qf2/i2m9myt5cHCCdmzaRtd1vdNwURPVxGsgbiO2Oz3dcDZt2B1KKzWfIEbJgDqhT231PRtJC+jVPP2or++kXIlaDmxAWzZtvzJbD/YtpbQhX1LKfnX6isH5OR/F3YkgARRnYkojIAmzqCYdacCihWgdh0yWRH8PXkApyGeZKmMt41ZXmGkracrIubQtT245WbjzS8YWE938CxcrU8e+sfTbmBNU/70OMhA1tqL4W1p7HexKY9ffIhdhWKa4+uTW+b4jCtJPL82Ry00/30zXwmxqrQ36eQXvq7a+XY0H0MTz/Rxaf0Jbhx6vr3ee95xbOUxpy9s1/55rjetWt8XcuqItn/cjYD1iuZOGnfYdA1tBrvQtW2rcLjuLOrdxDp04WotKtimvvuMBB+PvptG5uPupVAhfZ+EoD1zO9HdFrPKa/9gp+Wn6HyXVOf7l82eGzjks3zMv00Ac8/em5qdu/bV8otwh+WPwq1Tr276+ZVd+MsHYAmjK3/q7MPryyJS8H1hWtPQaU2s1vTM7xZ82pmU71UvMsHyH7fKX/Zep7U8vyH3zpc2RaRT/0Wb5qYx/R6FPB2Od4jKNRf7Qls/fH9jvFD2z5EbDeuzXodDPD1Y3mo+bP939d9uYeT22x9HA+z4zbT5vm2G71eP874Axvu8HfMZEXyaYft3mfQ/YLjUfaNtduHN/mR8MdXeQfBts+xzztVpXcB54/8NNunnG7XK+G6rQ76tVfWObDhb1lT4v8HcDzlfqd3z5xeb4msvZ5/ubUaeHCtLczzfIzzFDvrNdjko3367saMz77L4+yYo4GE+i0yPaUqlwNA6CpQy1jCfPHELv3NXGEIh/OjyJSrw4hhISEsRfb6r/+XP+PnC6yo7njxl9L107fyJtjXLejJOzRtCiOvOUZfapTalffWFoDYjKs5KGTstH7cbycofSwxVm0DMOfVWDfZ4LUtyRYfR/ch8SaH7V1YaC5YbXbYppPoQeWDXOvg+aKe14mUNLXFRnBnOCUpKjqWGp4hRTsxvdtGo76fsgp+/cSLNa1jSccEMRVTKG8icfCtj+q65KoYNX4lV1hZYUPTr0QNyOt/IgytkT+WjxSLf9S4tQnbjJ9MrdJeUJhL8vT/R8IppVmR6ReY+XeZP6+UCcnxaUDWwJ3fHel3T04cny+7z8re/o+sKL5Q8e9Zuu7kig8SVGUR+1PMR0Efsr9pVPXFwuDSdnkwr7ZtLkq570b7vHeslQtoJslyb1q+W+feO7UMtGxcsLV6UO6U2P75pKE0z9qr1+RwtMtO1I6LybRpi2I2gaf3CWWgxTvv/22FjaO+5HdaYi2Dq81o183ALyEqf3Ux+IIHq8YT0fmZ6NCDiONoLtMwduWr5NeL4dXTV2oiwLXBca7todS5YBUvIRLc2VejOmhPW6ORDXlwle9o2yaYuDwIeM6SjmXf3OYF1/cCVQfKHcKN9nnjn/lS8AloLlW6F4qab0Y8oxdSpQ+s7Dhu8PWvaW4ftcVwzY0VjO1wfifMGvbRfn954O5y5znvDXDW7SwflcaXW+St463X8X2eH4arRyNmZ0L7q95v3ic72p+embZDl4WxeIOy7HRdnRs62veDku6hO48ngOxjkQ0B7Oe2PNE/Sm7qSYvHw0HezRQ9daVomaPlCOZm1TChbP/6LpIN3Vpjjx9+xFNdOdg0quyH3fiW1LD5ZfSX8eV6cFvhLv3UO7shTLbHOXZVCocfy8qACXrOqomy/Edqen6v+iTrjjdZsouhn1HDucnj//Hr0m0tb84Bun3f6uowxp16jRDeprZ+mrP6bP9nWlTnxCC+hapHSR6VzDPrhxTSzbGECIynjKJNoWpbQABPPPgml0bOPPdHLwl7J7x7H/bRFLUHALdcrPv9Pfk76Q89KGLHR120z53s/iyl5Z3mkxLbuO/HzKN19ZnvKnvU8n1svt+Gf6OYpatt5yfuok//IM88RRtt3OgK4r3Oqg/25w3sqDoH4mtG5Kfn/GFqfS6muKvcO6VVzFF35mRe97wPcdvsXe5sxB9SJN5JOFiwzzWUyX0fTYti20wcVx1uNWK5nXVW7qJeuy5X679J/hC+uqZyvpjoGyPnPQ5Ok7ol5atKKPob7lNHTajuBprHQj8wm2jjDVjYHnAV7PYzII03d5NB9HO8H2ueYAf4s717Otms5VykLxGGq/e5sv/TjIa9BI160ubQtt2XMf1ddtp18iffd5IWr7onHZzSqK/5MWyPpWn448r2vnGF+es/oMp0G36/2t7MHyLbNrANEYuzpWoqrN9ukuNpS6wtCdLKCroZI3Oy/dagiIfdQ885K+ZVerG9ykg+B4rgw4XyXStmXtqV5l3r4gx1e15/YWujSwEmw5LsqOK1bLCVbP8fnhB0qzPM8o58yU/fvkOUSZ/wP5c5AD9fx1asF0/3IN3SmV85IybzOl58qlvi+o50bte/rzNJ/fDi/cL7crYLmO50xlX7T39d/jc7RhHer51cs5MzvwHIzzbTLtio6vDpP7x6lXuUorgj5Y5z++hacULH/rrFdW3zFWKCWprKmwlUk6RofU12aOnz+WTJvzxATM98rrNilERRTHLTxKC4Z/FI1E2rmygm0LjZXd7/uPAd/uHeG7BaxUyPqTAle+91iecLwSFdTL91L5GcPUdb9CW9q/RC1PF3OdnrmnH6EzI+6n6NEtKP+lX+isroLIO+0nOt38AdnaXKBbOuVaa6g9bOWddoROj7iV8m9PpH+O1hLfzUu5jqQp8+reLZen/NWmQlO3KpVZkfpUeAyvJy+lt6jv+0ypW6+V32O5dyTS37nuVOa9UJ7ya98Vp5VrevF21qaoS6ZeYNxa3j+a8o5XKs1/Fmyg0z3uMiw3GO/loQiVilH2N2TqhRZfKOpbtawcS1mlvjIy59/ceXaqFxFH6HhiEYv8XYJKVFljuNBww3DRELRecipboW/XxYulPNchjt8R9dLuAt/Tp7p9iI+fSMsL/WrYDu9prBNsHWGpG+3OA0oe1edj43G0F2yf9XUh/3FLvrzIia5FNWJ/UD+bSFuXPEa3dKpBj25J8Z0LbO8YJm2khfnLWqZF+uFky23XB852n/ELlm/d45Zr/b7rmesK3i6+I8Hl3LfeV+fTjnxHLe9uyrtgVUtY7oebdGDO50rz+WojfVyjFtWTnw9yfFXBY45gy3FRdlyxW06w+uQQXdhennIFnGcUecf/Is5vyvkpb/M/6JLLIJXPX2dyNVLOX+KclOc7LeDlQHwznR6oLDPgPKaeG5V54hxZcpfhPM2NV6eqdrdYrtM5k6hAW/U76ryo5cr38tatIs7dyXRWy38nkuj8jjKUy8M5MzvwHIwbBV6p64N17W+m7qo54xk687k9CWQeEdS+O1K2FM1WW5kvnK9KZYrJl65wfzer9Gfc0tH2oFIZcmtQrTrVDfMzJJpb+P234HpF76ffapRynZ7nujdW+6UVpVylLooTor9i4aBY6/KR96ZSdPWhNF8hd5LeoopYJt99KUiXGpn6jKgt1coftwD8RZcsWyislPZXCLKCup10N5ntiYC8QLdUihLrPJ1L7G+2qFQ4T4733WZ2Gm6Rb5175TV/e+VULzmtO7O3ywtuKfbdRtf96VuYnbjZl2DrCFfdeDnPA/q6UPtTug0UoWp1aijnLxHkvdu2tgi8r6OS1WbJlliuG50COae0cPPAqpvPBDufOuM+9XGGbiJu7mJoXSv06+QuHnaty077EY4Hd7mriha8W52v7I+vN07LCVc9ENpyCtL5e2uJ3CoUKUp56LThHOU/Z4qAtvJ1voam4ETu1Z6Fir6Wrt5+ms7x632/05nqlSifbfdKfav5l3RueR7DefpCNd13xbmu+H/VbZfsz5mGu9Qv76dcO9XtoVjK0/1fol+VdZz7NYXO9Kjp7lybjWQwGNdTWjbMt2L9lPn6wF06lhy0z/hlZbp1qVBaKS4vfWumcuWc0W4GPtG1qOHFDWIf9+pu+WUOvtWaVjeMwX5YiUrlHeUBS+WK3KIlOxNdqnoN5U5xd0GRMUr+1QIgq2DZrjU7gHqx9WzjD3wXilbs6wErdvn7CB3Z1TiDJ8Fg9ZJT2crM7fJI1Eu1zydn4NkL633h1kufYOsIS91ocx4w5dHwKEHFKp0wtLabaa20B44eUrvqKQF68pH9Ynta29eNlmmh4GWa+zkzTmstOLX+jNJyqgiWbxX6ZQYQFxgfVulBUzwEprxdwe/g+tntK3OTDq7E1lW7ceyVdy/8XZeCH193gi3HRdlxJQvVJxnAd3P/aum/W5y3+Xl1TgacWE9np0XRueH+lvGrdKdibnxTWtFT6fw2EfzflLNaxdlV6v+hSVtJM2Yl+/obaw8hGm5jJ03zTfMV7s0/LNM9XCGu3N9ep77OItRbl+NX+E8W3Ofa8GBN2J2gTeNnGysttX+mcjJQ+tEZH9Q7QWvX/q6+9opPOGdp7+eLdbf8QsMPMdk9dMrz+LkCf+XJo+98aHi4JlT/rN1L6TVvFHvip11Zux5K8IQo2FSIk0M6t3GXsW+ckLdYgfAHzPuW0untorLp1U65xRfmvm/8QJT+YWHOv/quSHySNJRDUUbNt6+Z/lYyj3mvz3tOAVhU1bq+Oy/uWOVvvr1uekBc8BIoaJzrJaey5X67Mp3ah3XiVH1ZO0E/ff2jy3RWgsyjM1b46xm1/vYJto4w1Y1Wx8OcR8PD+vgZ8rLa/WrcrGhfMMT5t/yMt8X21LOvG63SSqTnyr3i/9i2gQ/si3nTZhT2989W+0LrL2g5X2mjy7Bg51PGF9G2rffmCwabcm5gte2i3p41Wz+tY/X5pO+V9HWTDq5Uov88eFqer5S7FxoXx9eGvysTC7YcF2XHhrG+yuz6JJX+XnGcLlXRN2lrzy+57EvOZCv5IbVbCH//Z915MZUupVxFl0qo9b8Iov9dJoLjjEo7RRdzFaRcahrw+f2i/lRcpD5d3eIPilq4lf4qXS1HjuriORVlH7ZZ6oRQWTcMlGw165tM8dz3Sn1LGbZHnYjtTmOemEbxo+JpmZjkW6J9R3WmmkPDG4xkjCgwcePp5fH8K5LKSYZvFT5VvytNklOZgVtBJtHY+LXqNBE/1NJ6VG9/ATWlHePtakTp6pQ3fMIpNGsutR3QN4yt1nxRYRoSa6zulmpaMiXnjqH6IRYk+SCl+GPpLcLQvUMW8Gl0ceSXxPcg0lvcRAWrHlJvjakq3Er5Vyyh9CGJ8jPnurvp3630uUvnykT85ZXLLySu+ttQqVQe7vA8nR9ei+QptG09ujR4ER0+Uj+04RMtcLl6p9oakX/f8U2/pD8Octz5DjR21G6Zl/iB0Nl3J1MnXSMcPwj3+Bfv0mvxM2U+G1byghztw5/3tKE0Lcg7L5+LIKC++xOMRf7e1dg0pJk8ucfRp/Er5Ta7vhXtsV5iStkS3GzXZRLTZQo9L8oXHxMN31q/TX0dTFSTpymB3qKhIv0Yp8HkfnVpzhI5KTmvI0x1Ix+P4URTRg6m+Mwe3k0cv9c7iX02HD+Rd3z5UumT/OGRHv7AOzqGSv17Pmj3PR4xY/zMDiKtlABX1tnDm4lXgekUUJ/Lbl/9ifo/J86nSgBe+cnp1C25L22RU0KwfCuCZHln8w27ctiMunfd6Nt33u+J9acHOVa87cNoUP+3KH6Nsl3KfvWSrwMF7ivXN33GWs8LTAd3tPNV5zamchf0+FpRutcOFek6UG5rO6oaZDluyk4Aq/oqE+qTvNMWUdo05fW57m0zPnqXOC/m6z7Hd148F9dGnL1Wq+fFonTNncUo/V1tnaWJuvsvIEMmzrNRVUVichcVMXmu+81U6NI/huiGu+Cce/coXYq7U30nZ/E0znimEFfrWf9XqpQg0+0vo2UL4sr+so//LY51u51NQqp4uNU75PG+ryQijQ1j8EYI3xXBrwMCZB6UMeARSE6VbJ9NnjvKIPm7HfkofbTLZ7OymYx1U8kwpZtKWB8gzATa0IDWQ1xlR+LiYsqksIwt7gX3sQvLEIqQ5fEwbS8fGBYwRCcAhIG46H5udlH8yi1cIZQuOOe657wHNzWXt2VcVCD6X7hifAs0a7U2G7tasEy7hRoBPMwV9xv03TbLJtAy7lIWaRkHAIDMdSW0jPM+8ogtPJpaTj7/R76bCgAAAADAFSrC3VQAAAAAAK5cCMYBAAAAACIEwTgAAAAAQIQgGAcAAAAAiBAE4wAAAAAAEYJgHAAAAAAgQhCMAwAAAABECIJxAAAAAIAIQTAOAAAAABAhCMYBAAAAACLEQzB+gjaNf4hGrftHnQ5d8swOFB8fT10mrKdU9b2ISJpGA5+aTzvVyYgK57ZkdFlpK2nKU4PDcqxtXY51hCDL5E03xHF2vZ0ivSf1mxf2vJ6++i3HbeD5g4dMosUn1TdylPDViVemRFraP47afXPAMD3pN2XKOW/l0LTPSuckuDzUcyGfd7S8n9Pl7PNCaC57yzgfhLgjw+j/EhJoZt/6VFR9P/Ml0qInPsTBt8DHxH9CFKKbUc+xY2hYgwLqG5ngcqzDo8jlzWzCS/CvimryNI0Z3YtaF1bfyMYCykkWlmnbGkIesFeJWr47nubfU06dBrjSiAvQF76mfweMoQRx3ul1o/p2Duf1vJCd6t5QRaSbypmY0gh0IEtC3gQAyIqS6O/BCyglhzWoXThflcoUUyfgipVr8eLFl9TXQfBtwThacNsH1OtgVxq7/hb57q7GA0wtG8rnpv9RUk7tq9CFPlJbGbkLgPY9VrjzS0rLKN+mGTmXtuXJLd/Xf4fxVVH3bbfTmFqr6Z3ZKf7vJU2j+I82q58iqvykzZWl6XPp55tRn7HtqCrfEpxQmPqOKEg/vTRHrt83T/0s02+31Xwz/ecvXKxMrYerV4Cm7fDtB1O3Rb9s3u+hcw6rU9r+8a3cd+mPweN1+6qk+Zb2k5X3zMsypa//mBmPFVO26aDFOpT1LsmfV06Z00E7RpNb7aURHyr7aD6ORub9sM83RhnPh1r6DOx3it7/cJP87sTz/azzpsv9NuTNYt8Yls+U7bvWsE0B+dV0nAz5g+nyD28HL/+ZJTc6pLEOd1MZdprqv9dB2XY1DYLlfY257GrpHfS4B+RrY3oGHjejkMqS4zrc5jM9u3KSbpkXA45bsOMawDnPcZr0zvOeId34OHQ6dn9AHmPK+rQy/SrV+ravb75+W7RjaUgPkc5dllaU7521yQMGus8ry1DS7oVyo/yf9X3mZvpdTT9lG4x1guX2+LitBzzW3475ysw5L/H2B9bf4oVtfSyI9RvLi3Edxu3X0uspun7MWPr26ta2+2beFuN+aWn5MrX96QX6fH8zfznLUjgYT6LTI9pSqWxzp82hLJvygW3edMovvjxgX661PKWv6w11qaCVtYAYK0hdpH1PX//bfcbqHGmXFv59NOZ/5t825/KX3eRR/3ft5KwRtOjJeZTQhaeUxGj3jVbRaoX6A0qIUzICV4Q9v1FOHDFd5tErpbSThr/yGfzBWWr94hhKUDMGf6fPhGGGhK2wbyZNrvMSJSQYM1ifsQm+g/np8Im0eFTvwEoktrv4Xl1a9MQKyvXG44b5UXlW0tBp4iCOHUM91e1/5pvqvu3znfgSlGmZsSYUtz3o/Hnu6vBRgjo/6XtaLOeIeVuj6JEE/fZOpcWVLbZX4PXEz6os9u9p3+dXhnhvOH3nYSrhS18uXG/RpBp8witCdeImUzWxLsMxMVMLyr/iJJmgBo9y+54iQ6HjY3TfDlGIErqLKaUQT1hX3V8pOEie2VOcsEU6xynbcGDtGvm/nYzkQ8bHfYDc1m5ymsgib3rYb2PeNC1fLmccxa/JLU7Ik+Wy5HLemU87dZXRp8OTqPQo/XF6jiaVUC9WtHIyPEHNL0r6UhV1w0IQLO/rcdlNqGkOtBTujzuvYxStf1AcF7UyXbv2hDLLQmhlyWkdwfOFNbtyki7/NeRFeZy+ENuinuiCHVczl3nOnnOZ3vHel1RmuMiDum0ZRa+7KqNOecAnti49NnoFbThZX82nR+h4YhHKn+cQpVI5+Z30w8l0JqaJfP07fyQDnOsB5fh6qr891NFOdZY8Zjb1t319LGcbpW2hPfXeF/n1Gjkp98dURre+s4vqvzue3lanzQLKkc1xT/1qOR0VeWOMxb5CCIKVZdlVM8YyLtFzk1+ClWtjXS9wPTVyEtFwf0AecB5zWRcZ63/7z5jPkXreY5RQ6/Ksy3M3Fb5i8WcCkVBt7qKbVm0n+cBJ0gJ6NU8/6qsr4DHNh1DnpVuV+QFEgi5cREXve8CQEWO6jKbHtm0RFbr6hsBXW518y1W+V3OA7uQkMnarpnNpw25vD/TwFWLvHlolZdofkRkXrehDb+oOblSTjgHb5qN+/iV9RR97h2/fYrp00W1vLaoR+wP9eVydNkik7z4vRG1fNO5fs4rqa4+imnTVpW8lqtpsHyUfcZ9OyctH0xdNBxkKf1STx+jhCjNove6BEz5G/rSqRE0fKEc/phxTp4NrWKq4+oqoXKPGlidLTUbzIR/3uDudC62X/fbnTYUhLcSxa944ybDNnI/anDlIB9V8xOs62KOH4Thx+s3axv3krMpJJWo5sIH6OjRWeT9/MgdN3lgd9y2bttsuJ6aEllZFqFGjG9TXJhksS5br8Fw/uWPIi7Ft6cHyK331kPNxDeQ2z4XKnIeCHSvvSlCJKmv89XDSRhrXopmuzjxBOzZto841nMueW471gNf6W3BfRyus6yzn+ttTfSy+162hEoizmJrdAsrodV3v9K/HTKTBklUddeWcKXWH+bjvub2FbrsC/bNgGh3b+DOdHPwlpQ35ko79b4s4mopzG+dQys+/09+TvpDz0oYsdNed5MR6Sp20hU4tmK5+70tK2a/Ok7g1XHk/bchmSs+VS31fEN/VtoX/9NujLfe02C7fcn8+pc5MFds5n47t32i7L9p3DN+T6zPuF3/WsF6dcJVlN/klWLk21vWCqZ5i5vOYl/OfuYy1/3dx0HOknucYJZPq8kjyHIzrKx+peAzVTL8oX3KLB18BvRYfL58Mln+vzqcd+Y76gg4jpdXEf+LUKBW6vhL8M7Y4lVZfa9/b/b5uPeKPb0V6Cf7YhYslqaxdBXQsmXYX+J4+1a0jPn4iLS/0q2UFnb5zIy2oWkK3nWYiqBr/kLqcVwy3XgzECWxh/rL22xUCvmrUp5N7JyglOTrwuIsTX6mYNEOBMR4jhdvgjk8y3MrldiSBjOZDx+MuZWy/rQQuS6Osi/fft73ij28rK+lnV04yxioNyiQdo0Pqa7fc7j+nXbU6NWS5DfYQYOhlyX4d3usnd0I/rmbu81yozHkoqmSM+ipclPTX6uHkrdNF4H0v1WjxrVpnHqHDOzpTfd0JPiOc6gGv9bfCZR0t2NZZLupvT/Vx0jTfZ/VdaDSO9YJIg815YgK3RaRT251HDGXdPh/75Z5+hM6MuJ+iR7eg/Jd+obO6wDnvtJ/odPMHxLz7qUC3dMq11hBV28q9I5HO5GokvxfdP5ryfKcFtxyIb6bTA3l9/Feboi5dknOkIvWp8BhtnlhnyV2G7eHl/p3rTmX+C+Up/9St5O+oc5rouzx0SX7fuC95697tWyavs5D2PbG+q1ukEf3qD+rPbztD5/9TS+R6s/CW5WD5JVi5Dqzrle3QM9bjGTn/laBilYyXJ27OEV7KRGbV5ZHkORgPhvvt8GgU/GSw9uf01GxGHl7gPnj69fBfuG9R8BUd37Y0r0d/tahn+wBg2kqa8tRI5baKXMZQ6na9v2owcx/gBMO3fOLkrVpt25+q/4s6z71wB4IBZFcisX2dd8uTZ0afnPaaD+1k+n7rcF84/fbynzaqS055yCeqydNyv8aXGCUrUqeh6UItS07rCFe+8MLpuFq5nHkuM0RVrau2UCXR1iWPycC7eKmmyt0AEah+UqtUmOq24DzV3x7raKc6y77+9lYfc4DC3TF9+9CntjrHvfCdS4jOdW+s9tcuSrlKiYueY1pgKtK6RX0qVV55nfemUnT1oTQ1qA5GbF0b9YvR19LV20/TOX6973c6U70S5VNnBdK3mn9J55bnMWwPLzfXrdcqL2XgfjvpL638QXRRuqbXA75tp31LdS3j3Br/F11SA7wCjSpS1NbflP06kSS28xaH7QtHWQ7P+TtUl6cuCm0fI1GXZ6aMB+PiyltrweKrMW8ta6Zbmj5H6Miuxg7Bh3LlFY6WIkfFY6j2+WTXV1q8/75bpCbc0se3fNz0zeT1tt+9zeZWauBVp3anwJI4+X1YpQdNCfkiRbkSDrytrlw5h7uwKoFUbxqwaKG3YSgzlA+tXM79VtZlf1fHupxw60B2JfsfP9+OYqYstywv4ShL5nWEJ194Eey4mrnLcxzYmh1LWaW+8obzkHbRw+ljFlIei46hmAvJdHRvCu1uW1t2oeAAve3BQ3Tg6CGqVae67YVIhunqAa/1t6c6WiegznKqvz3Vx4m0bVl7Y3cXr+y2RZ9O2dQ/CzbQXy3r+1qx8zY/r87JCBHgv5NG5+L8LePG1vhYyktKK/q5X1MoveaNotRaCdP5I8Tzt75cWwu2HRnZ/mDxm0kI+3j56/LM5zkYT/3qC12QJK5o3l5Hbe9SW3li28r+RM8YWjUTadZs8wHVKH38jMvk1oAh9M5dbRyucKy/l756hmMAlzvPTsf+fwHUfugTp+pvd5+gn77+0foWu9X+80NnYpvMwUX66o/tb4FarTdtJa3cyy+UQrJgkX8ep5f2tHMAc2WcNM3yFpBTdxLui/XAqnGGHyTg7ec+W/eE5XazKU3TkinlauesGd58aC3z99vPal18rJRp5db/0Rkr/MGpyA8zZukDJaV1IbN/NCJjFaDpGIiAYGuUzXEOuSw5rCNIvuAHj4LdkXHb7UrjfFwDuclzvP83/7DMn/89lOmt/NCw+prz0LQZhf3PToi64u6kGfSNtu6APKYIngcqyW4p8z+YS/9ot7mja1HDi+/RuFnRVK+yt2DXiWM94LH+9lRHO9VZTvW3y/pYYb4IV/bPE8s0MKVTJvhn7d6AQFXri23sE+5AtpIforMyrbif98+6PuOpdCnlKrpUIlqZPLGe/l3meTyKQCdS6TwV4ipXOrdxl7Gfukixa+4sRrl2raTz04r6W94thOX84TK/OJZrgR/g1Nd7brbD7fZzd5EJuruPweM3k1BilDCd47MSz7m36H3N6brPHqJ4tZIq/ODrNMx3YESQHDeMBvV/i+LXKMGhNoSOrdjuNOaJaRQ/Kp6WqW/tauziiVjxvdc7vUVDDd8bQPNtM4DyUMPQ9+Np4Hnj0DtOYrpMoefHx9Fr8TPVd5TuMbepr414/8fTy+Lz8fFK+vBt0j5jxYvC3enZxh1obPxK+X7hzv2p2/Uv0BY5FYhb9cbP7CDWq2RKJR2bydf8gOvj/d/1bVPlJ6dTt+S+1ssSlXH3rht96cRpNLH+dJqkzJX4gYvHv1CWpwwbpM7QiGX0HE40ZeRgileHHgrvMEJFqOzFV437ajUqjk7Y86GVTN9vHV5X32SK5+cg1LeUdSmvZesbifyu5h+eN7lfXZqzRE5eHrICjKNPxTbIsub5bksJqvCHuWzYlcNQy5LTOpzzBbcuNyyrJriFoOXESpDjGsBNnhN139MNxf6P2u0r07PvTqZOugZ4u22tOaAKJYuLtk/Vi/fKT2mj8whi3V07i7pC3VbLPOYyD3B/6gs/ntUF3kojwoE8Vame25O0C871gMf6W6Sr+zrauc6yrb8LB6+P/UR+7dmLdo4cRvGzlKFHBw5qSOSxzJu3hVUebDN6SwZELVtPaeKPpbdoTKUcAlVXitSnfN3n0MWRXxL3bj4X10aEyauVLixqUJz+7iJKm8bTpYm62zRIeSH7hU/zrTO9xU1UsOohdZ2qCjdQwXc2y1Z5JdfZCMf5QyzDTX5xLNcC5513qq0R9eI7vumXxgbZDpfbz++Nufi+WHaKOj2MpvT1cG5wsY+B9VmYzvFZiIdxxgGyAn7AShnSyOvtZAB7nK8+p6MP93ffopOt8J0T/bj+AOHDrd4njtaiklrf7xzN/2Cpr595xLgo10nmsevDh+8m2v8WAHjhuZsKAEDOc4QO5qoX1lZbAMh5uOuK84OlAN4hGAcAoErUcQBadwDAhjrKyj/Ti9KF/1oNZwgQOnRTAQAAAACIELSMAwAAAABECIJxAAAAAIAIQTAOAAAAABAhCMYBAAAAACIEwTgAAAAAQIQgGAcAAAAAiBAE4wAAAAAAEYJgHAAAAAAgQhCMAwAAAABECIJxAAAAAIAICUswnr76LeoyYT2lqtM5SeT27QRtGv8QjVr3jzqdNSXP7EDx8fHyb/CQSbT4pDqDpa2kKU8N9s3X/tp9c0D9AGSIKX316c/HZeBT82mnMhmCRFraP85/rJKmZXB5kcjPwdfJ5VufbtmnLlOOz6Tf1Mkw4DwT+vEJ//ZkV5yHuDxmrLyEQYbLbKCM5ZErjakOzYYyerxzcmwYbmgZ1xOVV6QyDmfabFdoRXpNKjuDEhIS5N+YJ/LRgheNlf+/6XfSI+p85W8ovXxgWORPVNmdSPvBo36jEi+OMaT/n8eV2TFd5tHbY9tRVWUyBJWo5bvjaf495dTpnCmqydM0ZnQval1YfQNyMOXiLFMvGES5jJ9VWdZ5GSt/kP1dGXWoTwTjJ88ybVsTadETHxobJV1CMA6hi+1OwxoUUCeE2Lb0cIUZtN7xZFeE6sRNpmcbf0DPXEEt5P8smEZpQ36gw+p0RiVvnU57bm9hDCLF8eh1o/oaACLiz9jiVFp9DQDgRq7FixdfUl8Hx1f9H21WJ4gqP5kgT/7cqtt92+00udVeGvGhMn9fhS70Ud/6VFROCabvFu78kj+QE/MGTihMfUcUpJ9emkPb8uSmCxcrU+vhphYrm/Vb0bZpTK3V9M7sFN/6+LbL2PW3yM/o16F/n+1qPEBe0braN9niEkfT/ygppwzz1X0b2O8Uvf/hJt9y/YzfZcq2psv3F9z2AfU62NW3bYZ0E+z2R1tusO8HcDpOQSnr3NJ+snJc0lbSpGGnqf57HQJbiJzmZVHnNs6hE0drUck25dV33ONg/Nzy6yl99O3kP9Kh0/KlMR/6GedreeFlavvTCzKv+fLKEf/xNuZrf/6Rx1/Nx318rX3KfC3fpp9vppvHt2ffpT8GP0XXjxlL317dWsxrQufGD1CX58/bhrwl1tFlaUXbfZICPqNsxwvlRvnLle8zN9Pv6npsy4BpvwLT1bifgWVfz7jfS/Ln9aVLrFju0DnKpVhAHSC2wb7M2a1fW9d4tQ5Upj+s0sO/fablmutLfd3B2zTxfD95p8upvOu/Y33Mte0RuBvVyLmyPmf6/TLXz0yZf1Auh9PO2znAn18tj7VpW/TL5m3Rjo3lOnX0n2XmfdLPC6zrWWbkEWWZvCzm+64pb2vL0H/X/ngqPOcRp+1Ut8d4LjxrSA+lrhDbYDpevn0S7386PIlKj+ptOEa8ndp2uT+eTnWYlp+UOvPz/c38yzHto30c4s+T/vQyrrNw5/5y+b5zpppG+ljI6rg45UNzHvOlqZgT9uOt0n+PaceLtzND8ZMlY34374e2TsMyRLpq542zltt6re9Y6esPX75jlnmPW8JXUK43HjecS5lV+jrJ3bNnzxfV1854Q15PoZovPkdPdmhFrepF0ckzN9ANYm8vHFhLm9ZtoAn57qNP4+6jVq1uoOjPPqFvijalO8peLb+evGIP3TJoEPVopXz3t/Er6XDjW+mmfGJm6nb6bvM6mnWwBg154VG6W3ym9Y27acLoDUQNaiufUTPpo6P7+Zax9bWl/mWYaNu0p2o8jerVTt2ORFqy524aKLexFd15zXIauiw3tahXlkpU6U6tKhyjj1Kb0JtD/0uP3aKkdvB98xc4Xg8vt8n+J+m/iU2oBy9D3bfJ+brI78v3DPJR6fqdqFmBbfRu8V7yM8pyz9Kh9Qtpo1j3yY7/o2e7in0W2/fN5C3+NHHYn/yuvh/I8TgFk7aOFs8qSDHt1c+f/Z02f5dOZdvdTCWUT/jlT6fD87bT6dvrult2FnAheQ+d/acUFYwtor7j3tWx1Sl/6/JUUJ3OqNzlist8OHHpRSp3V6WA9OV8O+tweeqgywvr116i0gNHyvJb/fRwmjZ9sy+/3x2Qr5XvJJVpr0yLfLxoQz66VVuXONYr8/ahwWqer/nXEIrT8jwdp98W/EQ/bCxMzcYPpIfkd/TLK0TF/t1L723Jp+ZVRfKK5+nQzf2otVy/jWJ56dpP1lGyL98coB1TttHWfBV8y0rfvZg+z91AlOG8wcuAab+M6RakbAcw7nePVrdRycS36POZa31lm8vUxcmf0c+VWlPtaOVbTmUueeZ99FT0aLXuaUUN/t1PUdeXE9umrOtUwzZiObyd/0ev1R5Gc3pWVdIzSH3JJ8+4I8PUY9+KeuSeTyPnnqd8Ve5Uj38g/k7vPO/5tqV5wbk04FutvtFvj/iweuIqNfJ55Xwh8te511+lVbco8831Mx+XeZ9Pp0WLz1BF9TucR19ZV9GfRxz3KUh9V+QGqnlXfSr+y0y60ON9eu4B/3ll8OSyvmW2vvE07b2mvDLPhPf/sd96+tJM26fpapnJXa6RXKf5HGIU7jyiHPuVbcapefQ2qpB6hq6/XtRR+rwtjseUt1ZQ0X6jaWB15fg6H88Q84iL87zxXGhVV4gy/PN6Otp1iC/vlHh3nJJ3YorQxV8/pFV5W+u2IZHWjI+iMt0a0k1/uD+eznWYsc7s19GfX9zHIaY6VK1PuOFAS/MGv39Mb/9EdF29VsqxVtPIHwsp+eP5Q7f66pxg+dAuTTPjeGsKZVb8ZMb5+PmplDZonFLG1f14fWya7zxorMNVIl2//K2ofM861rOoP0TaV14ST49paS/imS0rUqnQf/TH+jj9+u3vlKulOB/FVJf7d/HrU1Tx5f+j/ncr2+OWp24qFy+WorJa+kQ3o2YV1dcCXwW86buSr0RNHyhHWzZt9/XJienSxX+FEF2LasT+4OvfyvgKtncP3ZVMbFt6sPxK2rCbHx4QB2zhIqo5QHeVIdbfqulcdb413qZOhiu6StS5k7+1IapqXWq78wgdUqftOO5b0gJ6NU8/6qtbT0zzIdR56VbS+kTzvsXd6V+vF3xl5rvqNqQJC74/Vt/Xp7tZsONkT1ytvvA1HezRw7ZVySx3np02y06ivwf/QGkb51DakC/lX8rPp9R5Sitzyv594jPKPLfdP/h7xzb+TCfF9w4v3K92HRHL3q/M55ZvbX2GdZ5YL7/zz/RzFLVsveX81Elb6LTV9qrf5feO/W+LyMl+yvoWUorWv0z9rLY9zpT+iNzd59P4eFf934re94Dv2HAerXq2kq7MKfn6x5RjciooUf66NbxGnRDLq9mN8icfMmzDdV3vtG0V4Lzafvc22uDrW5dI25a1p3qVnVtgSFRvJaqs8ZeBpI00rkUzemzbFnVZJ2jHpm3UuYa/XDiXIQcuyrYVfz1VhOq0uctYf4h0a944iZKP+NcfrMw1LFVcfUVUrlHjgBaj5Jk95XZO8dVRQepLcUJbsqqjqb7tTk/V/0WdsCC+s2hFH109yP3tO+rS3Sh5+WhTXaDkr1nb/F3TuAXMl7biuHS7/nBAHvXXZ+7OAV7rO2boVhJ7h3X9ZZVmXAYHNjCc59wKdx6JKaHl0SLUqNEN6mtNkqyb93cd5U+bYMczlDwiuDnPW50LzXVFVJOuhrxTtdk+NT2KULU6NYxpLuqAj2vUonrq510dT+aiDjN2BQwtDvER9cln+7qa0vwxme/1jLGQkj982+UhHxrSNJOOtxsZjZ/0uF75oukgfz4WOA2Dd491x1B/qGl/06rtjvV9uORR/w9OFKxaN8eJE//3plsiiuD95ERGFldA2q0IopJUWX3FLlws6Q/0pSJUKiZNfX2EjicWod3vx1O8+o7iFtqVh4OHwMLNLLdJZDr97a/0qGZUX76y57Rv6YeTqcK+zfRa/Ez1HcWFfJWpjMjkXBgC9809/YnYUpD9sfq+rNRuNB4/P+fjZEndhv0Pvh70dpbehfNVqUwxdSLAIbqwvRLlGV2LinCQOnIrHb7V38Uj7/hf6PSI+6mUSFfZBYSD31uvVefayz39Hzo/4gbK99J6OtWjPV3b/Fs6d0x8t/y1lLfu3eJP/aC8IFDXWaQ+FR5Tn5y6qeTekUh/17yLSo0W26DfXvW7tG8pHVupfljF6yOaQxe+FkH6f8vR1V/vozMDH6BSHnrB8IOaCV2UYzZqyE7HW+xmhovrUCQZb8tRBd3VueAPECzIE/UkWrBbBGwiz6Svnkvv3HU/zQ+6PcrJ+AV50VBO9p3vXGce1TjfgRYdf5yo8BE6vKMz1Y9TPs2CliEbQcu2y7TLSN3IAcLJj0bQwBnWtzzPLpxAcbmGmW7rBqkviyXT5jwxvuDFlWPJtLvAZtot6n+DQkSVOdgyLOsEpSRH08n1Iyh+lvqWKn8FDirK2d4hss8zwc4BStn3XN/F1qXH335XHmOnbo+8/5ZpVjzGd8HgT3/vQs8jSnmYLtKli8Xt/dxXHabvJ3xDxx9821g3BzueF0LII5Lz+cPuXGh13Lml1t+d4BYqXFZ5JS/kZ/CFfH1R14n1iQC5bfvJyn67PZ6aIHWYMT+FFodouD75M7ZikONsnUZlko4pecxDPjSkaaYd7+AyFD8ZtkepVxreZi7jSqzoHNe4E1B/iHStmX5anchc7oNxvkqIm0x1uAW0/3M0+Kta7k/8WrDW9QNKiOPEUgrsFmWua64KlwPuS/Tc7KLUmkeg4O0W28X9ljPKsY/TEfX/TBD2/QnlOPFt3g/Oym3o6aUgJ22khfnLUh/b7xSk8/fWIlk0ihQVGTWJLvEVvPr5c90by0CcFah8HZ3+hS/cggfj57rXpFKXdtNJUT3k4uB9gTqDiYA57V3tAlDIVciwTmfq8pgMwN19jQPyC0fExcSQRDrdva2nQNxPKZulxMmr94oW1FrX+pFZ+ET5xponRICYoASIIh90WSpnuaS0OrywUwmkZGt2+6eVWUHwybjzsK20855zdGDJY1S/i6gzk5vKVtdeFzbSJ7Uq0kfqZzMqeP/FDApW5mK7U0JCd1nWh8avlC03hr7EQrm9O9XARH1DZVtfJrkJ/gJxC5eXPpBWjTaadPV/r5z654ZGucPUUh6HwTSQmtvuYyhpFhZB8khUk6cpoYlSJl+LF0GrRbrLlsgGxnzseDxDySOhnD8sKX2Cx7V4j+YnKHmd922SfCXI1ujR4uK7N9HFLbRlz326i2/3xzPUOiwjcciZmNIZrktCzYdhP95h4rWOdWzkycauUv/3QMnsr3dKpfEr3I2Gkb5zo7y14KXVlAsyXwUpCV+CilU6Ybht551y+7paP/cth25ElYzxXbVeXuHfH8/HSVR4k8YVokc9Dw0nKumFixy7MVx+SfT3O2l0Lu5+ih7Nf7Up6pL7Z5sz6lLVayjXEd2FQAiKl2qqvspsSpeSti+6D8wsxdal/gs2054TW5UTqtsTXHQMxVxIpqN7U2h329pyG2QXrYOH6MDRQ1SrTvWwBM+Xo2y7LXMy4EroTQMWLTQMm5WvTV9ZFxuHFA1SXxaPMXURYkp9a0t8p/b5ZDpo+I4dpaXKdZcnV8JxDnAgAryeY8fIbl+zrcZVtkwz4VgyLahaIlODGLd5RN4le74dxUxZ7ssL3Mp6R9+36Pnz71FP/ehVwY5nCHkktPO8haSN8kFkf7erQHzHiC++eZ2zWtYMrIeCHc+Q6rCM5UGuTwK7PCit7a6Fmg8z4XiHg7c6VqlX9F3dFPpYUVmmGbfAh0SfruK8U+rfi/Jtn7RkSrk6hDDagvuliKtG/fisx1JWqa+CM2fC9NUf625jKaLyrDQMdcef4b5E98gTtNKKlvrVF4YTUfrqGR7GczQfSBEQTplEW6OMSeD55BurDOdnHKYvkWbNNmeY4Mz91Zy52x8v3BwnPe6/ldyzuceAjFs9hsuHWDJcaUup9PeK43Spir5JWbw36QvyNJTgiVQ6z/fs1Hrx3MZdlJ4rlzKhylusAOVOSRMpHT7c9eV0rsZUtFdDKnjoR11/cU4n+x9RSZ45zpT3E2nVFwcMfaUzj6nfNm/r2+vU115UopqtPqblU3eaTqjBxmqtRDVafEvzP5hL/2i3FaNrUcOL79G4WdEu+p27FMaybce5zJ2gn77+0V8n2FT8HKhz0PGRb+z+IPWl2pdX35gSrKxrfWMnTtU/m2DaPh3u9/nAqnHG/Gs6h3gTjnOAQh9MGb/vEHxY7r+S79velYl3TgTnPGLKjyJ4CDwHFKY6ccNo0DLdb1kEO54h5BGv5w9b5sBQ5Bv96BeSuJDnC9NPtu0x1Hmuj2dIdVgG86DY5vb/LjZcHCTPHOIbFcSVUPNhOI43N771m+c7vlYyO36yqld4O/2xoiDyz91JM+gb7TNiu2fMCgzGrbbVeGzN6arkGX8aKTHXtiili7DG/lk4Z+67qYgdvHrkYIr3DTX0XsDtUlux3cXJogONjVc6zfJwPt2uf8Fw+4pvobxTbQ3Fx7/jm35prC5ziWW83uktGjoqnpapb8lbth5aZGO6jKZB/d+i+DXKsFkd+/ammmN0oZXMGNwv3vp2sDVRQLmiU5fLeNnchccLfpji8S+Uvm7KbUZ1hoOg++OVi+NkdnJWYL9Q/W2nq6NWyOcMNDJtXhnv6bhZyTttEaVNU16fC7l7h06R+nR1i2l0ceSXxO3T6S1uooJVD9E5Za6iwq2Uf8USSh+SKD9zrvtdVCpYP3Vd15fc4luXxHePVatEef5bi/KLQPyf6SKVRisbf829Fei8WH9KD16ufMtW8VLnaZmuLLDK+mHlMpXI8z170c6Rw8SxV4beGjioIdESdbYH3ML16wdnKe5BXVkTQWdy7hiq75BH+HsXfjyrC7yVi9MDeaqGsd9jeMq2I8cyV4TKXnxVdj1gct2mId00MV2m0MPJcfTJkMNK90HH+pL3azy9PD5O1LfKyZbrnKfqd/V3BbDA63hefEffv5Nv2d+mvjYQJ/+efZMpXte/VqkX1IlQZPgcoART0z8aQYO/Uoe8K3nBUI4KdzYNt6nDLc/j1a4gmstS5hzzSAmq8If/ONp3RahELV++l1JGjqMuyV1l/ex8PEPIIyGcPyyJvNO960bfceZjPLH+dNN6+YJ8CH18ZBh9pEv/KNfHM8Q6LEN5kHsV9Cfq/5xYp1KfVH5yOnVL7uspjULNhxk+3rKVuCLdo04GuBzxE9crw0l2QdJi0YBuLuIzXTuL/KPWPTx/cr+6NEd/bAO2VTmPF72vOV332UMUr16EFObn4HzpquSZB0QZil+jDb89glo9q+UEpjygyuseaFsWrXkbZzyziCtfHi7Iy4bDlYsf2DxVsn3wQBiyPtlPUxn/1VeZivfa7Wzi/mIfAK44sh+5izGwszbdONVha0TIHPzcypt5+mbz9LZzQj7fwEMsRmr/Qu/TAACQIcptQHMfb+7fd3m62wBAtiQu2N/6sVP4uqRFCHdT0Q/LmJUdS8mT7dM7K0PLOGQ7aBnP7pRWCO6PaDXyAwCAJXXEls1XVVO6GWWDINYv0fDLkcx9dw7IXJFvGc8awTgAAAAAwBUI3VQAAAAAACIEwTgAAAAAQIQgGAcAAAAAiBAE4wAAAAAAEYJgHAAAAAAgQhCMAwAAAABECIJxAAAAAIAIQTAOAAAAABAhCMYBAAAAACIEwTgAAAAAQIRkTjCetpKmPDWYRq37R5lOmkYDn5pPO+XECdo0/iH/vACJtLR/HE36TZ3MIdJXv0VdJqynVHUaIHJ5IlgZvLKE/TiI+m9Sv3lqfZfzcHoNHjKJFp9U37CA+g4AwL3MCcajm1HPsWNoWIMC6hsAVzhxQRqp4IQDo3bfHFCnADImqsnTNGZ0L2pdWH0jgnkbACAnQDcViLwT6+nk4B/osDoJABAW+5bSsf9toRPq5GUh1pk25Ev5d3jhfvVNAAB7uRYvXnxJfe0oeWYHmlR2hr+1m7uijJxL/w4YQ71uVN7yf+YgLe3/Lv0xeLwyj7upTChMfca2o6ryFnkcLbjtA5uWc+6mwt99lWp925em/1FSvlu480umzyvL0ebvq9CFPupbn4rKqUC8bWPX3yJfX7hYmVoP17XsBFC2YUn+vHJqV+MBNP+ecvI1s12W2M/4jzbL95l+m7l1svu22/3bqKbftjy55XzDOtT0GtjvFL3/4aaA9evpt4VVfjLBdzz8afkUXT9mLH17dWv1GGQxHIyPTKezY24n5WhmbdqxHFNrNb0zO8V3nO3yhfkYacdTW87kVntpxIdKvgnMxw75PGg+MX6XKdua7iuDvQ529W2buYzZlxl/GXb6fgCH8hHAtG9M2b9rDftkzO/G/U0/38yY303r175rLps8PXTOYd2yg9Q1urLM6dSxbyz9NuYE1X+vg21Zs09bm/xV7BvLY227HDX9jOVd2Y8t7Sfr0kzgbjXDThu2l5cbd2SYob7yfUa37OgM5e3LgIPxlddRnv/WoiLqW+6k0t+TllD6Tn971YVqlTwt59zGOXTiaC0q2aa8+g4AgDXXLeMxNbvRlk3b/bcijyXLk0/yEa3f6QlKSY6mmBIOJ2MPdrz3JR19eDIlJCSIv95U//PndH1clZMKBwPK/AQaX2IU9bS9FZ9IP+Z+z/fZ1zul0sSpdrdVedmjaP2Dr6ufH0pDS1xU5/lPUv+nLmvMEzepc8S8rVH0iPp+wvPtqOzUqbb9KtN3HqYSL45R19GbBi17y9BPPirPShqwo7Gcbx2I83Y+RL3z+PeL13n1O4MD+ttvfWcXxbw7nt7OioF4NlVh30yafNWTMt2VgNI+j8V0mUcJfWrLYITzjf548nLu29FE/V5venzXVJrgIZ8755MiVCduMr1yd0kZJPFn9MHvyVkjaFEdsW28bLF9qV99ocuvwcuM8/cDeSkfTL9v/PkHVo2j+PhXZDDJ7/F+bX1HexZFSNtCe+q9r3xe/D3b+AN6RksrEUx+Ov5vajHMv/4brZohRKD53Oyi8nP6QNz2GKiBODdK8Lwxo++la+dPpK1RTlVr8LQNzF9Wx9phObF1qf2/i2m9vi4Q6bNlz31UXx+Is+haVOvmr3SfVeryMknH6JD6Dtf3C6qWoNLqpCb0vJ09nIu7n6JHK3/FPQf0AADuuO+mUjyG2u/eRhvUk2fy1unUoFEDf4BuV9GHqOh9D/haiogqUdMHyvnXlbSAXs3Tj/rqAouY5kOo89KtNg9NVaLOnfwniaiqdantziP+E40F/0VFEWrU6AblpTjxLlrRh17St+7E3uHbzpguXfzBrjjB1Yj9gf48rk6bRDXpati/qs326S5slFauuDvNwZWOSIPP9nWlN/UBWHQz6to5hmZtM16UXNf1TocgPIn+HvwDpW2c47u1mvLzKXUe0T8LplHK/n3iM8q8tCEuu5OcEEHBpC10asF0/3L1d2xl1xR1mS/vp4u51PcFblHSviO/p9sebuniW7+8Xb752nLVdZ522Bftff33eH3GW9ncKvaFcb0m3OraydCq6z2PMV6O/xh6z+dB84kDDtB9LaSxbenB8itpw24tDwbfH6vv2+V35qV8MEPaiLzdvHGSYZ1RTTpSmzMH6aAW0IvPdGt4jToh1lezG+VPPqSkpXDxYikqq5U58dlmFdXXqjwnVtGUCRupWj9/K3WwY5C8fDR90XSQrqVZXAD17EU10/0X8IGCp21g/rI61k7LUeoUfV2QvnMjzWpZ06IuKEKlYtL8nxV1+Y9X3UvNK87yBehc39eqU91Tq7Zj3jbhsnls48+yTtCXb30ZNZRdQ9lUyqt/vl0dxXWd03z3nLfHmbEeWkgp+gtSfb3Iy0UvF4Argvtg3HDyTKStSx6jWzrVoEe3pCiV/7Fkm4o+NOYW9qiSMeorUckfTpatLq/Fx1O89vfqfNqR76j/xGzGLVhPDfZ91r7lqghVq1ODdr8fH/BQEp/MrFqH/LgV7SF1m14xdA+wwq3s2vbrb/WyCxdL+gMHC5wGf8YWD9gWTid9AMKC3604RBe2l6dc3AL0QnnKP3Wr4WSVd/wvdHqE0jqUt/kfdMnliSf3jkQ6k6uR0rLUP5ryfKcGvLJbSiqdUZfJ67xK10qZt+7dvtao6NG1qZBpe6KWradTVbsHLlfgdf6d607fcvX7UqCt+h11XtRy5Xt561ah/NuT6ayWd04k0fkdZSjXrdeqbwSySnv3eczPcjkqN/k8WD5x0rBUcfWVjSD7Y/V9/QVlIG/lw0rQbeauKFpa6bqkaK2/n4r3rUaRyZNrE815aY6h2x1zPganZAty0G2yEiRtrfKF5bF2WA5fjNy0art64ZZI331eyPbCTX/hwvVcWt1WdFetKurx5Jby1lSvcrB6xMgpb1vJPf0fOj/iBsq3VJTvku1FXXNenFeUusaxTtj3M/1VuqFuvlV3Nw7EN9Ppgf755otz/jP3L8873j9P3/87WB1lS9R9Z1OqKHWt/GtDpXzHVGyj7K6nW+7beJYG4EpgPAM4UoJU2XqStJHebVtbBN7XUclqSusJt5yEdFIKkXZbVLtFy3+GJ/x1uP/i4FG/+buFPN/OseWKRwvgz/HtaD4J60/eZ2JKW7cOyZPiSN3t7KHU7Xq7alQZvlHfxeSp+r+o89yz3RbPCtL5e9VbsEWKUh46TZd0FzXnujf2nTAKVL6Och1JUyaCEqdirb9k9LV09fbTdE68PPdrCp1tWUV3EjLRPQCVNmQzpef6y7A93Hczn9YNs0JL0+3j0v4gukh9Kqzrh25ozXp5P+XaqWwPUSzl6f4v0a/KiZ+370yPmp76r3vNY255yefhFPb98VQ+QsMXt9yX2dcVpk9tdQ5TuuxoXd7MQ/PF/JqX/oo9HXBXidkfAyU9vHbNC1faBl1ObFt6uMI+5cJN1Nkf16hF9ezyTWxdemzbFtogLjB2bMonA2++sOeW7FMnttKWPeVDvuhz61z3mlTsEl+V68qwxqlOEHULB/B2Ld58gX5pyK+yQaGUrvu24eJc/TN3RdF3UzH0/Q5SR9kS9WteuT2mFnG273exnEMUFcpyASBb8xCM+1tdDxw9RJ1rcAuLEqAnH9kfUsuJF9xCpQWfvB2G/oyOToiTyzbjrWeXZH9IcYKLmbJcti7xev0tTUbcmsS3qx0fYNOIE+OHVXrQFH0XE4/stkWfTtlTEv39TpruJFibouQJOoO4RWpaFJ0bri7X3Bp/Uym1FT2Vzm/LQ3STfat4oNDzmBNv+Tycwr8/nspHSBJp27L21PbFYM9FVKKW746X/avHr/AH3gcqVqWufePlsxv6i2/nY2Dq3qE5luxwVyRcaetmOVw/n5Vdj4J3MylBJaqsoT+PH6eDueopQbsI0PnO57Ew3/X0LkidIC+6+f1SVFB28TAGunzxnndAHso70hisu2kZt5aROiqWrpHbWp8KzVK61ui7oqS3qK8uU/vTt5wDQE7lKRjnypkfwhk3K5rKFFPe4n6K5We8Ta/mUSvwMDE+mLWSps0o7L/FKlt8ZvgfzpISadbswFatwBPmCdo0ZZLDydK0HP2J1Wq9Sd/LFjZzcJy++mP72/Cm/vd8a93cTSUoq20xp1PYpdLfK47TpSr60QG0/prub6fmLVaAopYdUD/Pt2Z1fcZPiGCYCvFhk85t3EXpuXQdykOVdkqsoyDlUvPoP2v3Gvqp8wn96hZ/UNTCrfRX6WoeT4Du8pjnwNpTPndm7rrkzGuZCc5T+QiJEkz6+7wn0tK316mvBVHG9A82H0tZpb7SE4H6y/eK+myYPyAPcgy4e8fNPywzPPhqWG+AcKWtu+Vw/Vz0509pyaqOQRpLtO55E+jD67WL+UpUs9XHcvQWpfHFXqZeNLquE5RAN2/zNE4Og/QbWlKBbqmUWxdsu2kZtxSWOqooXdPrAbFNeX1dcbQWfut+4srd1Jz2Y3gAoPB4BlAeCuJWJF/gHR1Dpf497/nhnmBqDqhCyaLy0fpCXnyqt64FiG85D5OtWFo/zsFDVlPB/1ifMGK6jPZ9dvCQr+lUu94Ot4VLUIU/hvmWaxwejNc7nl4+oJ///+3dP2sTYRwA4FeQNrgFhNZBpYiICCrooCgoiAg6ihQCXZxEEPUrSCYHJz+DDuLukA/gLro4O3WwGhAqFrz3LolNmiZ3MfjG5Hmm0pbc9c3d9Xf3+5N2kb492cinN8Sa1Pj95wfv7Z+Gr18PjfVvodUsfvfOx6sTlKns3ZeYsj7S3L1O07H86l3nyVErtM/d7kv1TmTtZl57XqRjY/r4QljqPljKg+KvYflZ8aRqa/NoFlD8RXlE11q2jTNfeing7yun/myzI5bghNbmwM1GOWOPsU5QF4+P8h/AU+04309sdIw30YMlV6NUO2dKqHJ+TCRbq437eSAdX//x08/hxJPLnZ9lshvgOGmou46xRGzolKLs3Nx4eDGfFFO8T2Peg+zvevGg1juX43aPNe+OXKtprW2p16mfD5d23oc3N26NvS7EwP3sr52+wPvw6rW8EXNkY/5Ex3YFY64Jg82U7QNXhl6jYp33oZVPw0tEqii5Pz9eb+f9LfHrXr15X3lLtq8fjofa7rK6R/W+OvV/PiMdSKL0nHEWU0zlxmaq1RHNjHMj/qN8WQs/hzaAwf9oKx/NuGe2OAAzY/K8M8yVogRnu1GtcRNmWSwHiiNQpzVyFoDpE4yz8IpGrlY+Hm0hMgDMv+6Ix7enZ/NTdwHoUaYCAACJeDIOAACJCMYBACARwTgAACQiGAcAgEQE4wAAkIhgHAAAEhGMAwBAIoJxAABIRDAOAACJCMYBACARwTgAACQRwm/5VzRhTkN5uAAAAABJRU5ErkJggg==)"
      ],
      "metadata": {
        "id": "Xi3JJLXJji_H"
      }
    },
    {
      "cell_type": "code",
      "source": [
        "# https://docs.scipy.org/doc/scipy/reference/generated/scipy.stats.skew.html"
      ],
      "metadata": {
        "id": "b_5FkAnijkDz"
      },
      "execution_count": null,
      "outputs": []
    },
    {
      "cell_type": "code",
      "source": [
        "# 범위 = 최대값 - 최소값\n",
        "x.max() - x.min()"
      ],
      "metadata": {
        "colab": {
          "base_uri": "https://localhost:8080/"
        },
        "id": "lKOJ72_KGH4D",
        "outputId": "63d284a4-56e0-4f2f-8273-7798cd2d2e86"
      },
      "execution_count": null,
      "outputs": [
        {
          "output_type": "execute_result",
          "data": {
            "text/plain": [
              "109956"
            ]
          },
          "metadata": {},
          "execution_count": 109
        }
      ]
    }
  ]
}