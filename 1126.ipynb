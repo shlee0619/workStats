{
  "nbformat": 4,
  "nbformat_minor": 0,
  "metadata": {
    "colab": {
      "provenance": [],
      "collapsed_sections": [
        "5nyL17fskztn",
        "dlwRzSGtiRdf",
        "SAb4v_C4GvNz"
      ],
      "toc_visible": true,
      "include_colab_link": true
    },
    "kernelspec": {
      "name": "python3",
      "display_name": "Python 3"
    },
    "language_info": {
      "name": "python"
    }
  },
  "cells": [
    {
      "cell_type": "markdown",
      "metadata": {
        "id": "view-in-github",
        "colab_type": "text"
      },
      "source": [
        "<a href=\"https://colab.research.google.com/github/shlee0619/workStats/blob/main/1126.ipynb\" target=\"_parent\"><img src=\"https://colab.research.google.com/assets/colab-badge.svg\" alt=\"Open In Colab\"/></a>"
      ]
    },
    {
      "cell_type": "markdown",
      "source": [
        "# 확률"
      ],
      "metadata": {
        "id": "YUnKmNgwRsC3"
      }
    },
    {
      "cell_type": "markdown",
      "source": [
        "## z점수"
      ],
      "metadata": {
        "id": "2bnZVDmnRvF0"
      }
    },
    {
      "cell_type": "code",
      "source": [
        "# 라이브러리 불러오기\n",
        "import pandas as pd"
      ],
      "metadata": {
        "id": "i0j_9ow9R0a9"
      },
      "execution_count": null,
      "outputs": []
    },
    {
      "cell_type": "code",
      "execution_count": null,
      "metadata": {
        "id": "obrp1XD1OVkY"
      },
      "outputs": [],
      "source": [
        "x = pd.Series([12, 15, 11, 13, 8, 14, 12, 13, 12, 10])"
      ]
    },
    {
      "cell_type": "code",
      "source": [
        "# 평균\n",
        "x_bar = x.mean();x_bar"
      ],
      "metadata": {
        "id": "BvLxjO8xSHb7",
        "colab": {
          "base_uri": "https://localhost:8080/"
        },
        "outputId": "cd9c4ee6-a999-4cfd-fae1-75a30bf9ebdd"
      },
      "execution_count": null,
      "outputs": [
        {
          "output_type": "execute_result",
          "data": {
            "text/plain": [
              "12.0"
            ]
          },
          "metadata": {},
          "execution_count": 3
        }
      ]
    },
    {
      "cell_type": "code",
      "source": [
        "# 표준편차\n",
        "s = x.std();s"
      ],
      "metadata": {
        "id": "ZvYFgDUdSN8x",
        "colab": {
          "base_uri": "https://localhost:8080/"
        },
        "outputId": "0646a46c-d3b5-4669-9239-9a5023e443c3"
      },
      "execution_count": null,
      "outputs": [
        {
          "output_type": "execute_result",
          "data": {
            "text/plain": [
              "2.0"
            ]
          },
          "metadata": {},
          "execution_count": 4
        }
      ]
    },
    {
      "cell_type": "code",
      "source": [
        "# z점수 = (관측치 - 평균)/표준편차\n",
        "z_score = (x - x_bar)/s;z_score"
      ],
      "metadata": {
        "id": "B4cJirPgSb_x",
        "colab": {
          "base_uri": "https://localhost:8080/",
          "height": 398
        },
        "outputId": "08cdfce4-2241-41b1-bfec-5860dfed58c1"
      },
      "execution_count": null,
      "outputs": [
        {
          "output_type": "execute_result",
          "data": {
            "text/plain": [
              "0    0.0\n",
              "1    1.5\n",
              "2   -0.5\n",
              "3    0.5\n",
              "4   -2.0\n",
              "5    1.0\n",
              "6    0.0\n",
              "7    0.5\n",
              "8    0.0\n",
              "9   -1.0\n",
              "dtype: float64"
            ],
            "text/html": [
              "<div>\n",
              "<style scoped>\n",
              "    .dataframe tbody tr th:only-of-type {\n",
              "        vertical-align: middle;\n",
              "    }\n",
              "\n",
              "    .dataframe tbody tr th {\n",
              "        vertical-align: top;\n",
              "    }\n",
              "\n",
              "    .dataframe thead th {\n",
              "        text-align: right;\n",
              "    }\n",
              "</style>\n",
              "<table border=\"1\" class=\"dataframe\">\n",
              "  <thead>\n",
              "    <tr style=\"text-align: right;\">\n",
              "      <th></th>\n",
              "      <th>0</th>\n",
              "    </tr>\n",
              "  </thead>\n",
              "  <tbody>\n",
              "    <tr>\n",
              "      <th>0</th>\n",
              "      <td>0.0</td>\n",
              "    </tr>\n",
              "    <tr>\n",
              "      <th>1</th>\n",
              "      <td>1.5</td>\n",
              "    </tr>\n",
              "    <tr>\n",
              "      <th>2</th>\n",
              "      <td>-0.5</td>\n",
              "    </tr>\n",
              "    <tr>\n",
              "      <th>3</th>\n",
              "      <td>0.5</td>\n",
              "    </tr>\n",
              "    <tr>\n",
              "      <th>4</th>\n",
              "      <td>-2.0</td>\n",
              "    </tr>\n",
              "    <tr>\n",
              "      <th>5</th>\n",
              "      <td>1.0</td>\n",
              "    </tr>\n",
              "    <tr>\n",
              "      <th>6</th>\n",
              "      <td>0.0</td>\n",
              "    </tr>\n",
              "    <tr>\n",
              "      <th>7</th>\n",
              "      <td>0.5</td>\n",
              "    </tr>\n",
              "    <tr>\n",
              "      <th>8</th>\n",
              "      <td>0.0</td>\n",
              "    </tr>\n",
              "    <tr>\n",
              "      <th>9</th>\n",
              "      <td>-1.0</td>\n",
              "    </tr>\n",
              "  </tbody>\n",
              "</table>\n",
              "</div><br><label><b>dtype:</b> float64</label>"
            ]
          },
          "metadata": {},
          "execution_count": 5
        }
      ]
    },
    {
      "cell_type": "code",
      "source": [
        "from scipy.stats import norm"
      ],
      "metadata": {
        "id": "gDeKIOFWSmLN"
      },
      "execution_count": null,
      "outputs": []
    },
    {
      "cell_type": "code",
      "source": [
        "# 누적확률 = 누적분포함수\n",
        "# 왼쪽에서 오른쪽으로 가면서 누적\n",
        "norm.cdf(z_score)"
      ],
      "metadata": {
        "colab": {
          "base_uri": "https://localhost:8080/"
        },
        "id": "4XK6CT3-XhLd",
        "outputId": "63e1ea44-2bee-41c9-f5ee-840a42ba59a9"
      },
      "execution_count": null,
      "outputs": [
        {
          "output_type": "execute_result",
          "data": {
            "text/plain": [
              "array([0.5       , 0.9331928 , 0.30853754, 0.69146246, 0.02275013,\n",
              "       0.84134475, 0.5       , 0.69146246, 0.5       , 0.15865525])"
            ]
          },
          "metadata": {},
          "execution_count": 7
        }
      ]
    },
    {
      "cell_type": "code",
      "source": [
        "# 오른쪽에서 왼쪽으로 가면서 누적\n",
        "norm.cdf(-z_score)"
      ],
      "metadata": {
        "id": "F3C8vUfVSYdD",
        "colab": {
          "base_uri": "https://localhost:8080/"
        },
        "outputId": "8c2137e2-0f3e-4ca4-e946-e00204549d98"
      },
      "execution_count": null,
      "outputs": [
        {
          "output_type": "execute_result",
          "data": {
            "text/plain": [
              "array([0.5       , 0.0668072 , 0.69146246, 0.30853754, 0.97724987,\n",
              "       0.15865525, 0.5       , 0.30853754, 0.5       , 0.84134475])"
            ]
          },
          "metadata": {},
          "execution_count": 8
        }
      ]
    },
    {
      "cell_type": "code",
      "source": [
        "# 함수 이용해서 z점수 계산\n",
        "# 1) 불편추정치 표준편차 사용\n",
        "from scipy.stats import zscore\n",
        "zscore(x, ddof = 1)"
      ],
      "metadata": {
        "id": "L2A7WAz9bTnN",
        "colab": {
          "base_uri": "https://localhost:8080/",
          "height": 398
        },
        "outputId": "74bcff82-aa63-4d3a-ccdb-57efbdb70926"
      },
      "execution_count": null,
      "outputs": [
        {
          "output_type": "execute_result",
          "data": {
            "text/plain": [
              "0    0.0\n",
              "1    1.5\n",
              "2   -0.5\n",
              "3    0.5\n",
              "4   -2.0\n",
              "5    1.0\n",
              "6    0.0\n",
              "7    0.5\n",
              "8    0.0\n",
              "9   -1.0\n",
              "dtype: float64"
            ],
            "text/html": [
              "<div>\n",
              "<style scoped>\n",
              "    .dataframe tbody tr th:only-of-type {\n",
              "        vertical-align: middle;\n",
              "    }\n",
              "\n",
              "    .dataframe tbody tr th {\n",
              "        vertical-align: top;\n",
              "    }\n",
              "\n",
              "    .dataframe thead th {\n",
              "        text-align: right;\n",
              "    }\n",
              "</style>\n",
              "<table border=\"1\" class=\"dataframe\">\n",
              "  <thead>\n",
              "    <tr style=\"text-align: right;\">\n",
              "      <th></th>\n",
              "      <th>0</th>\n",
              "    </tr>\n",
              "  </thead>\n",
              "  <tbody>\n",
              "    <tr>\n",
              "      <th>0</th>\n",
              "      <td>0.0</td>\n",
              "    </tr>\n",
              "    <tr>\n",
              "      <th>1</th>\n",
              "      <td>1.5</td>\n",
              "    </tr>\n",
              "    <tr>\n",
              "      <th>2</th>\n",
              "      <td>-0.5</td>\n",
              "    </tr>\n",
              "    <tr>\n",
              "      <th>3</th>\n",
              "      <td>0.5</td>\n",
              "    </tr>\n",
              "    <tr>\n",
              "      <th>4</th>\n",
              "      <td>-2.0</td>\n",
              "    </tr>\n",
              "    <tr>\n",
              "      <th>5</th>\n",
              "      <td>1.0</td>\n",
              "    </tr>\n",
              "    <tr>\n",
              "      <th>6</th>\n",
              "      <td>0.0</td>\n",
              "    </tr>\n",
              "    <tr>\n",
              "      <th>7</th>\n",
              "      <td>0.5</td>\n",
              "    </tr>\n",
              "    <tr>\n",
              "      <th>8</th>\n",
              "      <td>0.0</td>\n",
              "    </tr>\n",
              "    <tr>\n",
              "      <th>9</th>\n",
              "      <td>-1.0</td>\n",
              "    </tr>\n",
              "  </tbody>\n",
              "</table>\n",
              "</div><br><label><b>dtype:</b> float64</label>"
            ]
          },
          "metadata": {},
          "execution_count": 9
        }
      ]
    },
    {
      "cell_type": "code",
      "source": [
        "# StandardScaler 모델에 적용하기 위해 2차원 구조로 변경\n",
        "x_df = pd.DataFrame({'x': x})"
      ],
      "metadata": {
        "id": "UHeG4FfedXtN"
      },
      "execution_count": null,
      "outputs": []
    },
    {
      "cell_type": "code",
      "source": [
        "# 2) 편향추정치 표준편차를 계산하여 결과를 반환\n",
        "from sklearn import preprocessing\n",
        "standard = preprocessing.StandardScaler()\n",
        "standard.fit(x_df)\n",
        "z_score = standard.transform(x_df)\n",
        "z_score"
      ],
      "metadata": {
        "id": "gsa8DOVOcs32",
        "colab": {
          "base_uri": "https://localhost:8080/"
        },
        "outputId": "90189653-4eb1-4c62-e263-fdfa48496fb3"
      },
      "execution_count": null,
      "outputs": [
        {
          "output_type": "execute_result",
          "data": {
            "text/plain": [
              "array([[ 0.        ],\n",
              "       [ 1.58113883],\n",
              "       [-0.52704628],\n",
              "       [ 0.52704628],\n",
              "       [-2.10818511],\n",
              "       [ 1.05409255],\n",
              "       [ 0.        ],\n",
              "       [ 0.52704628],\n",
              "       [ 0.        ],\n",
              "       [-1.05409255]])"
            ]
          },
          "metadata": {},
          "execution_count": 11
        }
      ]
    },
    {
      "cell_type": "code",
      "source": [
        "# 편향추정치를 이용하면 같은 결과 볼 수 있음\n",
        "zscore(x, ddof = 0)"
      ],
      "metadata": {
        "id": "c75jALIFd68m",
        "colab": {
          "base_uri": "https://localhost:8080/",
          "height": 398
        },
        "outputId": "d9e23e2d-b750-4541-a006-374368f51c4b"
      },
      "execution_count": null,
      "outputs": [
        {
          "output_type": "execute_result",
          "data": {
            "text/plain": [
              "0    0.000000\n",
              "1    1.581139\n",
              "2   -0.527046\n",
              "3    0.527046\n",
              "4   -2.108185\n",
              "5    1.054093\n",
              "6    0.000000\n",
              "7    0.527046\n",
              "8    0.000000\n",
              "9   -1.054093\n",
              "dtype: float64"
            ],
            "text/html": [
              "<div>\n",
              "<style scoped>\n",
              "    .dataframe tbody tr th:only-of-type {\n",
              "        vertical-align: middle;\n",
              "    }\n",
              "\n",
              "    .dataframe tbody tr th {\n",
              "        vertical-align: top;\n",
              "    }\n",
              "\n",
              "    .dataframe thead th {\n",
              "        text-align: right;\n",
              "    }\n",
              "</style>\n",
              "<table border=\"1\" class=\"dataframe\">\n",
              "  <thead>\n",
              "    <tr style=\"text-align: right;\">\n",
              "      <th></th>\n",
              "      <th>0</th>\n",
              "    </tr>\n",
              "  </thead>\n",
              "  <tbody>\n",
              "    <tr>\n",
              "      <th>0</th>\n",
              "      <td>0.000000</td>\n",
              "    </tr>\n",
              "    <tr>\n",
              "      <th>1</th>\n",
              "      <td>1.581139</td>\n",
              "    </tr>\n",
              "    <tr>\n",
              "      <th>2</th>\n",
              "      <td>-0.527046</td>\n",
              "    </tr>\n",
              "    <tr>\n",
              "      <th>3</th>\n",
              "      <td>0.527046</td>\n",
              "    </tr>\n",
              "    <tr>\n",
              "      <th>4</th>\n",
              "      <td>-2.108185</td>\n",
              "    </tr>\n",
              "    <tr>\n",
              "      <th>5</th>\n",
              "      <td>1.054093</td>\n",
              "    </tr>\n",
              "    <tr>\n",
              "      <th>6</th>\n",
              "      <td>0.000000</td>\n",
              "    </tr>\n",
              "    <tr>\n",
              "      <th>7</th>\n",
              "      <td>0.527046</td>\n",
              "    </tr>\n",
              "    <tr>\n",
              "      <th>8</th>\n",
              "      <td>0.000000</td>\n",
              "    </tr>\n",
              "    <tr>\n",
              "      <th>9</th>\n",
              "      <td>-1.054093</td>\n",
              "    </tr>\n",
              "  </tbody>\n",
              "</table>\n",
              "</div><br><label><b>dtype:</b> float64</label>"
            ]
          },
          "metadata": {},
          "execution_count": 12
        }
      ]
    },
    {
      "cell_type": "markdown",
      "source": [
        "## 문제 풀이"
      ],
      "metadata": {
        "id": "9pRe_5M6WP9g"
      }
    },
    {
      "cell_type": "code",
      "source": [
        "# 4번\n",
        "x = pd.Series([55,50,60,58.5,46])"
      ],
      "metadata": {
        "id": "ltH-hFndWYYR"
      },
      "execution_count": null,
      "outputs": []
    },
    {
      "cell_type": "code",
      "source": [
        "x_bar = 50;x_sd = 5"
      ],
      "metadata": {
        "id": "iTr1Yg3xWkcT"
      },
      "execution_count": null,
      "outputs": []
    },
    {
      "cell_type": "code",
      "source": [
        "# z점수\n",
        "(x - x_bar)/x_sd"
      ],
      "metadata": {
        "id": "H1NmCiezWrtS",
        "colab": {
          "base_uri": "https://localhost:8080/",
          "height": 241
        },
        "outputId": "e87c83b4-5187-4ff1-b0a0-d1bbe1714f3f"
      },
      "execution_count": null,
      "outputs": [
        {
          "output_type": "execute_result",
          "data": {
            "text/plain": [
              "0    1.0\n",
              "1    0.0\n",
              "2    2.0\n",
              "3    1.7\n",
              "4   -0.8\n",
              "dtype: float64"
            ],
            "text/html": [
              "<div>\n",
              "<style scoped>\n",
              "    .dataframe tbody tr th:only-of-type {\n",
              "        vertical-align: middle;\n",
              "    }\n",
              "\n",
              "    .dataframe tbody tr th {\n",
              "        vertical-align: top;\n",
              "    }\n",
              "\n",
              "    .dataframe thead th {\n",
              "        text-align: right;\n",
              "    }\n",
              "</style>\n",
              "<table border=\"1\" class=\"dataframe\">\n",
              "  <thead>\n",
              "    <tr style=\"text-align: right;\">\n",
              "      <th></th>\n",
              "      <th>0</th>\n",
              "    </tr>\n",
              "  </thead>\n",
              "  <tbody>\n",
              "    <tr>\n",
              "      <th>0</th>\n",
              "      <td>1.0</td>\n",
              "    </tr>\n",
              "    <tr>\n",
              "      <th>1</th>\n",
              "      <td>0.0</td>\n",
              "    </tr>\n",
              "    <tr>\n",
              "      <th>2</th>\n",
              "      <td>2.0</td>\n",
              "    </tr>\n",
              "    <tr>\n",
              "      <th>3</th>\n",
              "      <td>1.7</td>\n",
              "    </tr>\n",
              "    <tr>\n",
              "      <th>4</th>\n",
              "      <td>-0.8</td>\n",
              "    </tr>\n",
              "  </tbody>\n",
              "</table>\n",
              "</div><br><label><b>dtype:</b> float64</label>"
            ]
          },
          "metadata": {},
          "execution_count": 15
        }
      ]
    },
    {
      "cell_type": "code",
      "source": [
        "# 5번\n",
        "# 원점수(관측치) = z점수*표준편차+평균\n",
        "x_bar = 40;x_sd = 5;z_score = 1.5"
      ],
      "metadata": {
        "id": "xjZE7vdCWySf"
      },
      "execution_count": null,
      "outputs": []
    },
    {
      "cell_type": "code",
      "source": [
        "z_score * x_sd + x_bar"
      ],
      "metadata": {
        "colab": {
          "base_uri": "https://localhost:8080/"
        },
        "id": "iqPZd2soagZG",
        "outputId": "f689a525-c374-4ae8-f8c5-bbcdb411e9a4"
      },
      "execution_count": null,
      "outputs": [
        {
          "output_type": "execute_result",
          "data": {
            "text/plain": [
              "47.5"
            ]
          },
          "metadata": {},
          "execution_count": 17
        }
      ]
    },
    {
      "cell_type": "code",
      "source": [
        "# 6번\n",
        "x = pd.Series([70,80,81,83,63])"
      ],
      "metadata": {
        "id": "eSnwGmv2am82"
      },
      "execution_count": null,
      "outputs": []
    },
    {
      "cell_type": "code",
      "source": [
        "x_bar = 75;x_sd = 6.38"
      ],
      "metadata": {
        "id": "bjd6uBNTaxl2"
      },
      "execution_count": null,
      "outputs": []
    },
    {
      "cell_type": "code",
      "source": [
        "# z점수\n",
        "z_score = (x - x_bar)/x_sd\n",
        "z_score"
      ],
      "metadata": {
        "id": "ZJypuPVAa2hK",
        "colab": {
          "base_uri": "https://localhost:8080/",
          "height": 241
        },
        "outputId": "078e918b-46aa-429f-816d-8d6edbb16214"
      },
      "execution_count": null,
      "outputs": [
        {
          "output_type": "execute_result",
          "data": {
            "text/plain": [
              "0   -0.783699\n",
              "1    0.783699\n",
              "2    0.940439\n",
              "3    1.253918\n",
              "4   -1.880878\n",
              "dtype: float64"
            ],
            "text/html": [
              "<div>\n",
              "<style scoped>\n",
              "    .dataframe tbody tr th:only-of-type {\n",
              "        vertical-align: middle;\n",
              "    }\n",
              "\n",
              "    .dataframe tbody tr th {\n",
              "        vertical-align: top;\n",
              "    }\n",
              "\n",
              "    .dataframe thead th {\n",
              "        text-align: right;\n",
              "    }\n",
              "</style>\n",
              "<table border=\"1\" class=\"dataframe\">\n",
              "  <thead>\n",
              "    <tr style=\"text-align: right;\">\n",
              "      <th></th>\n",
              "      <th>0</th>\n",
              "    </tr>\n",
              "  </thead>\n",
              "  <tbody>\n",
              "    <tr>\n",
              "      <th>0</th>\n",
              "      <td>-0.783699</td>\n",
              "    </tr>\n",
              "    <tr>\n",
              "      <th>1</th>\n",
              "      <td>0.783699</td>\n",
              "    </tr>\n",
              "    <tr>\n",
              "      <th>2</th>\n",
              "      <td>0.940439</td>\n",
              "    </tr>\n",
              "    <tr>\n",
              "      <th>3</th>\n",
              "      <td>1.253918</td>\n",
              "    </tr>\n",
              "    <tr>\n",
              "      <th>4</th>\n",
              "      <td>-1.880878</td>\n",
              "    </tr>\n",
              "  </tbody>\n",
              "</table>\n",
              "</div><br><label><b>dtype:</b> float64</label>"
            ]
          },
          "metadata": {},
          "execution_count": 30
        }
      ]
    },
    {
      "cell_type": "code",
      "source": [
        "from scipy.stats import norm\n",
        "# 누적확률 = 누적분포함수\n",
        "# 왼쪽에서 오른쪽으로 가면서 누적\n",
        "cum_p = norm.cdf(z_score);cum_p"
      ],
      "metadata": {
        "colab": {
          "base_uri": "https://localhost:8080/"
        },
        "outputId": "8c7c6b01-0175-4150-ff79-bff905d57ba5",
        "id": "lFr1z3VibhGX"
      },
      "execution_count": null,
      "outputs": [
        {
          "output_type": "execute_result",
          "data": {
            "text/plain": [
              "array([0.21660836, 0.78339164, 0.82650375, 0.89506418, 0.02999428])"
            ]
          },
          "metadata": {},
          "execution_count": 31
        }
      ]
    },
    {
      "cell_type": "code",
      "source": [
        "tab = pd.DataFrame({'x': x,\n",
        "                    'z_score': z_score,\n",
        "                    'cum_p': cum_p})"
      ],
      "metadata": {
        "id": "alu4lHf2b5MK"
      },
      "execution_count": null,
      "outputs": []
    },
    {
      "cell_type": "code",
      "source": [
        "tab"
      ],
      "metadata": {
        "colab": {
          "base_uri": "https://localhost:8080/",
          "height": 206
        },
        "id": "xi5euR8ccIPk",
        "outputId": "2b08099d-605e-4ea5-ab1a-94b1453a0bf1"
      },
      "execution_count": null,
      "outputs": [
        {
          "output_type": "execute_result",
          "data": {
            "text/plain": [
              "    x   z_score     cum_p\n",
              "0  70 -0.783699  0.216608\n",
              "1  80  0.783699  0.783392\n",
              "2  81  0.940439  0.826504\n",
              "3  83  1.253918  0.895064\n",
              "4  63 -1.880878  0.029994"
            ],
            "text/html": [
              "\n",
              "  <div id=\"df-973d467c-bdbd-4268-a393-8da10c4bf07e\" class=\"colab-df-container\">\n",
              "    <div>\n",
              "<style scoped>\n",
              "    .dataframe tbody tr th:only-of-type {\n",
              "        vertical-align: middle;\n",
              "    }\n",
              "\n",
              "    .dataframe tbody tr th {\n",
              "        vertical-align: top;\n",
              "    }\n",
              "\n",
              "    .dataframe thead th {\n",
              "        text-align: right;\n",
              "    }\n",
              "</style>\n",
              "<table border=\"1\" class=\"dataframe\">\n",
              "  <thead>\n",
              "    <tr style=\"text-align: right;\">\n",
              "      <th></th>\n",
              "      <th>x</th>\n",
              "      <th>z_score</th>\n",
              "      <th>cum_p</th>\n",
              "    </tr>\n",
              "  </thead>\n",
              "  <tbody>\n",
              "    <tr>\n",
              "      <th>0</th>\n",
              "      <td>70</td>\n",
              "      <td>-0.783699</td>\n",
              "      <td>0.216608</td>\n",
              "    </tr>\n",
              "    <tr>\n",
              "      <th>1</th>\n",
              "      <td>80</td>\n",
              "      <td>0.783699</td>\n",
              "      <td>0.783392</td>\n",
              "    </tr>\n",
              "    <tr>\n",
              "      <th>2</th>\n",
              "      <td>81</td>\n",
              "      <td>0.940439</td>\n",
              "      <td>0.826504</td>\n",
              "    </tr>\n",
              "    <tr>\n",
              "      <th>3</th>\n",
              "      <td>83</td>\n",
              "      <td>1.253918</td>\n",
              "      <td>0.895064</td>\n",
              "    </tr>\n",
              "    <tr>\n",
              "      <th>4</th>\n",
              "      <td>63</td>\n",
              "      <td>-1.880878</td>\n",
              "      <td>0.029994</td>\n",
              "    </tr>\n",
              "  </tbody>\n",
              "</table>\n",
              "</div>\n",
              "    <div class=\"colab-df-buttons\">\n",
              "\n",
              "  <div class=\"colab-df-container\">\n",
              "    <button class=\"colab-df-convert\" onclick=\"convertToInteractive('df-973d467c-bdbd-4268-a393-8da10c4bf07e')\"\n",
              "            title=\"Convert this dataframe to an interactive table.\"\n",
              "            style=\"display:none;\">\n",
              "\n",
              "  <svg xmlns=\"http://www.w3.org/2000/svg\" height=\"24px\" viewBox=\"0 -960 960 960\">\n",
              "    <path d=\"M120-120v-720h720v720H120Zm60-500h600v-160H180v160Zm220 220h160v-160H400v160Zm0 220h160v-160H400v160ZM180-400h160v-160H180v160Zm440 0h160v-160H620v160ZM180-180h160v-160H180v160Zm440 0h160v-160H620v160Z\"/>\n",
              "  </svg>\n",
              "    </button>\n",
              "\n",
              "  <style>\n",
              "    .colab-df-container {\n",
              "      display:flex;\n",
              "      gap: 12px;\n",
              "    }\n",
              "\n",
              "    .colab-df-convert {\n",
              "      background-color: #E8F0FE;\n",
              "      border: none;\n",
              "      border-radius: 50%;\n",
              "      cursor: pointer;\n",
              "      display: none;\n",
              "      fill: #1967D2;\n",
              "      height: 32px;\n",
              "      padding: 0 0 0 0;\n",
              "      width: 32px;\n",
              "    }\n",
              "\n",
              "    .colab-df-convert:hover {\n",
              "      background-color: #E2EBFA;\n",
              "      box-shadow: 0px 1px 2px rgba(60, 64, 67, 0.3), 0px 1px 3px 1px rgba(60, 64, 67, 0.15);\n",
              "      fill: #174EA6;\n",
              "    }\n",
              "\n",
              "    .colab-df-buttons div {\n",
              "      margin-bottom: 4px;\n",
              "    }\n",
              "\n",
              "    [theme=dark] .colab-df-convert {\n",
              "      background-color: #3B4455;\n",
              "      fill: #D2E3FC;\n",
              "    }\n",
              "\n",
              "    [theme=dark] .colab-df-convert:hover {\n",
              "      background-color: #434B5C;\n",
              "      box-shadow: 0px 1px 3px 1px rgba(0, 0, 0, 0.15);\n",
              "      filter: drop-shadow(0px 1px 2px rgba(0, 0, 0, 0.3));\n",
              "      fill: #FFFFFF;\n",
              "    }\n",
              "  </style>\n",
              "\n",
              "    <script>\n",
              "      const buttonEl =\n",
              "        document.querySelector('#df-973d467c-bdbd-4268-a393-8da10c4bf07e button.colab-df-convert');\n",
              "      buttonEl.style.display =\n",
              "        google.colab.kernel.accessAllowed ? 'block' : 'none';\n",
              "\n",
              "      async function convertToInteractive(key) {\n",
              "        const element = document.querySelector('#df-973d467c-bdbd-4268-a393-8da10c4bf07e');\n",
              "        const dataTable =\n",
              "          await google.colab.kernel.invokeFunction('convertToInteractive',\n",
              "                                                    [key], {});\n",
              "        if (!dataTable) return;\n",
              "\n",
              "        const docLinkHtml = 'Like what you see? Visit the ' +\n",
              "          '<a target=\"_blank\" href=https://colab.research.google.com/notebooks/data_table.ipynb>data table notebook</a>'\n",
              "          + ' to learn more about interactive tables.';\n",
              "        element.innerHTML = '';\n",
              "        dataTable['output_type'] = 'display_data';\n",
              "        await google.colab.output.renderOutput(dataTable, element);\n",
              "        const docLink = document.createElement('div');\n",
              "        docLink.innerHTML = docLinkHtml;\n",
              "        element.appendChild(docLink);\n",
              "      }\n",
              "    </script>\n",
              "  </div>\n",
              "\n",
              "\n",
              "<div id=\"df-29a5fd5d-b13f-4661-a665-4c29547462e0\">\n",
              "  <button class=\"colab-df-quickchart\" onclick=\"quickchart('df-29a5fd5d-b13f-4661-a665-4c29547462e0')\"\n",
              "            title=\"Suggest charts\"\n",
              "            style=\"display:none;\">\n",
              "\n",
              "<svg xmlns=\"http://www.w3.org/2000/svg\" height=\"24px\"viewBox=\"0 0 24 24\"\n",
              "     width=\"24px\">\n",
              "    <g>\n",
              "        <path d=\"M19 3H5c-1.1 0-2 .9-2 2v14c0 1.1.9 2 2 2h14c1.1 0 2-.9 2-2V5c0-1.1-.9-2-2-2zM9 17H7v-7h2v7zm4 0h-2V7h2v10zm4 0h-2v-4h2v4z\"/>\n",
              "    </g>\n",
              "</svg>\n",
              "  </button>\n",
              "\n",
              "<style>\n",
              "  .colab-df-quickchart {\n",
              "      --bg-color: #E8F0FE;\n",
              "      --fill-color: #1967D2;\n",
              "      --hover-bg-color: #E2EBFA;\n",
              "      --hover-fill-color: #174EA6;\n",
              "      --disabled-fill-color: #AAA;\n",
              "      --disabled-bg-color: #DDD;\n",
              "  }\n",
              "\n",
              "  [theme=dark] .colab-df-quickchart {\n",
              "      --bg-color: #3B4455;\n",
              "      --fill-color: #D2E3FC;\n",
              "      --hover-bg-color: #434B5C;\n",
              "      --hover-fill-color: #FFFFFF;\n",
              "      --disabled-bg-color: #3B4455;\n",
              "      --disabled-fill-color: #666;\n",
              "  }\n",
              "\n",
              "  .colab-df-quickchart {\n",
              "    background-color: var(--bg-color);\n",
              "    border: none;\n",
              "    border-radius: 50%;\n",
              "    cursor: pointer;\n",
              "    display: none;\n",
              "    fill: var(--fill-color);\n",
              "    height: 32px;\n",
              "    padding: 0;\n",
              "    width: 32px;\n",
              "  }\n",
              "\n",
              "  .colab-df-quickchart:hover {\n",
              "    background-color: var(--hover-bg-color);\n",
              "    box-shadow: 0 1px 2px rgba(60, 64, 67, 0.3), 0 1px 3px 1px rgba(60, 64, 67, 0.15);\n",
              "    fill: var(--button-hover-fill-color);\n",
              "  }\n",
              "\n",
              "  .colab-df-quickchart-complete:disabled,\n",
              "  .colab-df-quickchart-complete:disabled:hover {\n",
              "    background-color: var(--disabled-bg-color);\n",
              "    fill: var(--disabled-fill-color);\n",
              "    box-shadow: none;\n",
              "  }\n",
              "\n",
              "  .colab-df-spinner {\n",
              "    border: 2px solid var(--fill-color);\n",
              "    border-color: transparent;\n",
              "    border-bottom-color: var(--fill-color);\n",
              "    animation:\n",
              "      spin 1s steps(1) infinite;\n",
              "  }\n",
              "\n",
              "  @keyframes spin {\n",
              "    0% {\n",
              "      border-color: transparent;\n",
              "      border-bottom-color: var(--fill-color);\n",
              "      border-left-color: var(--fill-color);\n",
              "    }\n",
              "    20% {\n",
              "      border-color: transparent;\n",
              "      border-left-color: var(--fill-color);\n",
              "      border-top-color: var(--fill-color);\n",
              "    }\n",
              "    30% {\n",
              "      border-color: transparent;\n",
              "      border-left-color: var(--fill-color);\n",
              "      border-top-color: var(--fill-color);\n",
              "      border-right-color: var(--fill-color);\n",
              "    }\n",
              "    40% {\n",
              "      border-color: transparent;\n",
              "      border-right-color: var(--fill-color);\n",
              "      border-top-color: var(--fill-color);\n",
              "    }\n",
              "    60% {\n",
              "      border-color: transparent;\n",
              "      border-right-color: var(--fill-color);\n",
              "    }\n",
              "    80% {\n",
              "      border-color: transparent;\n",
              "      border-right-color: var(--fill-color);\n",
              "      border-bottom-color: var(--fill-color);\n",
              "    }\n",
              "    90% {\n",
              "      border-color: transparent;\n",
              "      border-bottom-color: var(--fill-color);\n",
              "    }\n",
              "  }\n",
              "</style>\n",
              "\n",
              "  <script>\n",
              "    async function quickchart(key) {\n",
              "      const quickchartButtonEl =\n",
              "        document.querySelector('#' + key + ' button');\n",
              "      quickchartButtonEl.disabled = true;  // To prevent multiple clicks.\n",
              "      quickchartButtonEl.classList.add('colab-df-spinner');\n",
              "      try {\n",
              "        const charts = await google.colab.kernel.invokeFunction(\n",
              "            'suggestCharts', [key], {});\n",
              "      } catch (error) {\n",
              "        console.error('Error during call to suggestCharts:', error);\n",
              "      }\n",
              "      quickchartButtonEl.classList.remove('colab-df-spinner');\n",
              "      quickchartButtonEl.classList.add('colab-df-quickchart-complete');\n",
              "    }\n",
              "    (() => {\n",
              "      let quickchartButtonEl =\n",
              "        document.querySelector('#df-29a5fd5d-b13f-4661-a665-4c29547462e0 button');\n",
              "      quickchartButtonEl.style.display =\n",
              "        google.colab.kernel.accessAllowed ? 'block' : 'none';\n",
              "    })();\n",
              "  </script>\n",
              "</div>\n",
              "\n",
              "  <div id=\"id_e247ea4f-5faa-40cc-a6eb-83a20e58eb0b\">\n",
              "    <style>\n",
              "      .colab-df-generate {\n",
              "        background-color: #E8F0FE;\n",
              "        border: none;\n",
              "        border-radius: 50%;\n",
              "        cursor: pointer;\n",
              "        display: none;\n",
              "        fill: #1967D2;\n",
              "        height: 32px;\n",
              "        padding: 0 0 0 0;\n",
              "        width: 32px;\n",
              "      }\n",
              "\n",
              "      .colab-df-generate:hover {\n",
              "        background-color: #E2EBFA;\n",
              "        box-shadow: 0px 1px 2px rgba(60, 64, 67, 0.3), 0px 1px 3px 1px rgba(60, 64, 67, 0.15);\n",
              "        fill: #174EA6;\n",
              "      }\n",
              "\n",
              "      [theme=dark] .colab-df-generate {\n",
              "        background-color: #3B4455;\n",
              "        fill: #D2E3FC;\n",
              "      }\n",
              "\n",
              "      [theme=dark] .colab-df-generate:hover {\n",
              "        background-color: #434B5C;\n",
              "        box-shadow: 0px 1px 3px 1px rgba(0, 0, 0, 0.15);\n",
              "        filter: drop-shadow(0px 1px 2px rgba(0, 0, 0, 0.3));\n",
              "        fill: #FFFFFF;\n",
              "      }\n",
              "    </style>\n",
              "    <button class=\"colab-df-generate\" onclick=\"generateWithVariable('tab')\"\n",
              "            title=\"Generate code using this dataframe.\"\n",
              "            style=\"display:none;\">\n",
              "\n",
              "  <svg xmlns=\"http://www.w3.org/2000/svg\" height=\"24px\"viewBox=\"0 0 24 24\"\n",
              "       width=\"24px\">\n",
              "    <path d=\"M7,19H8.4L18.45,9,17,7.55,7,17.6ZM5,21V16.75L18.45,3.32a2,2,0,0,1,2.83,0l1.4,1.43a1.91,1.91,0,0,1,.58,1.4,1.91,1.91,0,0,1-.58,1.4L9.25,21ZM18.45,9,17,7.55Zm-12,3A5.31,5.31,0,0,0,4.9,8.1,5.31,5.31,0,0,0,1,6.5,5.31,5.31,0,0,0,4.9,4.9,5.31,5.31,0,0,0,6.5,1,5.31,5.31,0,0,0,8.1,4.9,5.31,5.31,0,0,0,12,6.5,5.46,5.46,0,0,0,6.5,12Z\"/>\n",
              "  </svg>\n",
              "    </button>\n",
              "    <script>\n",
              "      (() => {\n",
              "      const buttonEl =\n",
              "        document.querySelector('#id_e247ea4f-5faa-40cc-a6eb-83a20e58eb0b button.colab-df-generate');\n",
              "      buttonEl.style.display =\n",
              "        google.colab.kernel.accessAllowed ? 'block' : 'none';\n",
              "\n",
              "      buttonEl.onclick = () => {\n",
              "        google.colab.notebook.generateWithVariable('tab');\n",
              "      }\n",
              "      })();\n",
              "    </script>\n",
              "  </div>\n",
              "\n",
              "    </div>\n",
              "  </div>\n"
            ],
            "application/vnd.google.colaboratory.intrinsic+json": {
              "type": "dataframe",
              "variable_name": "tab",
              "summary": "{\n  \"name\": \"tab\",\n  \"rows\": 5,\n  \"fields\": [\n    {\n      \"column\": \"x\",\n      \"properties\": {\n        \"dtype\": \"number\",\n        \"std\": 8,\n        \"min\": 63,\n        \"max\": 83,\n        \"num_unique_values\": 5,\n        \"samples\": [\n          80,\n          63,\n          81\n        ],\n        \"semantic_type\": \"\",\n        \"description\": \"\"\n      }\n    },\n    {\n      \"column\": \"z_score\",\n      \"properties\": {\n        \"dtype\": \"number\",\n        \"std\": 1.3419344697808147,\n        \"min\": -1.8808777429467085,\n        \"max\": 1.2539184952978057,\n        \"num_unique_values\": 5,\n        \"samples\": [\n          0.7836990595611285,\n          -1.8808777429467085,\n          0.9404388714733543\n        ],\n        \"semantic_type\": \"\",\n        \"description\": \"\"\n      }\n    },\n    {\n      \"column\": \"cum_p\",\n      \"properties\": {\n        \"dtype\": \"number\",\n        \"std\": 0.39735083014472544,\n        \"min\": 0.029994275757256352,\n        \"max\": 0.8950641841334731,\n        \"num_unique_values\": 5,\n        \"samples\": [\n          0.7833916427553484,\n          0.029994275757256352,\n          0.8265037543785339\n        ],\n        \"semantic_type\": \"\",\n        \"description\": \"\"\n      }\n    }\n  ]\n}"
            }
          },
          "metadata": {},
          "execution_count": 33
        }
      ]
    },
    {
      "cell_type": "code",
      "source": [
        "# 1) 70 ~ 80 확률 = 80 이하 확률 - 70 이하 확률\n",
        "cum_p[1] - cum_p[0]"
      ],
      "metadata": {
        "colab": {
          "base_uri": "https://localhost:8080/"
        },
        "id": "3DcJaEyQb0rZ",
        "outputId": "eaab190b-02b3-4f73-f637-0233c87855cc"
      },
      "execution_count": null,
      "outputs": [
        {
          "output_type": "execute_result",
          "data": {
            "text/plain": [
              "0.5667832855106969"
            ]
          },
          "metadata": {},
          "execution_count": 34
        }
      ]
    },
    {
      "cell_type": "code",
      "source": [
        "# 2) 80 보다 높을 확률 = 1 - 80 이하 확률\n",
        "1 - cum_p[1]"
      ],
      "metadata": {
        "colab": {
          "base_uri": "https://localhost:8080/"
        },
        "id": "2-8Q-h2AcPhA",
        "outputId": "755e72bd-f323-48aa-e577-8e646e668768"
      },
      "execution_count": null,
      "outputs": [
        {
          "output_type": "execute_result",
          "data": {
            "text/plain": [
              "0.21660835724465155"
            ]
          },
          "metadata": {},
          "execution_count": 35
        }
      ]
    },
    {
      "cell_type": "code",
      "source": [
        "# 3) 81 ~ 83 확률 = 83 이하 확률 - 81 이하 확률\n",
        "cum_p[3] - cum_p[2]"
      ],
      "metadata": {
        "colab": {
          "base_uri": "https://localhost:8080/"
        },
        "id": "H3guZYb9chNI",
        "outputId": "11e1fc09-a721-4cd7-9d9d-1cb0751c9ad6"
      },
      "execution_count": null,
      "outputs": [
        {
          "output_type": "execute_result",
          "data": {
            "text/plain": [
              "0.06856042975493926"
            ]
          },
          "metadata": {},
          "execution_count": 36
        }
      ]
    },
    {
      "cell_type": "code",
      "source": [
        "# 4) 63 이하 확률\n",
        "cum_p[4]"
      ],
      "metadata": {
        "colab": {
          "base_uri": "https://localhost:8080/"
        },
        "id": "zIgnwHjscnis",
        "outputId": "ff237848-3869-43c6-fb0d-fe8249f01512"
      },
      "execution_count": null,
      "outputs": [
        {
          "output_type": "execute_result",
          "data": {
            "text/plain": [
              "0.029994275757256352"
            ]
          },
          "metadata": {},
          "execution_count": 37
        }
      ]
    },
    {
      "cell_type": "markdown",
      "source": [
        "# 단일표본검정"
      ],
      "metadata": {
        "id": "D_7zb4OPp-Yg"
      }
    },
    {
      "cell_type": "code",
      "source": [
        "# 아래 내용은 정규성을 가정하고 진행"
      ],
      "metadata": {
        "id": "YIW2LrgRFD99"
      },
      "execution_count": null,
      "outputs": []
    },
    {
      "cell_type": "markdown",
      "source": [
        "## 1) 표본의 크기 상관 없이, 모분산(모표준편차)를 알고 있는 경우"
      ],
      "metadata": {
        "id": "a-uNQTNwkuam"
      }
    },
    {
      "cell_type": "code",
      "source": [
        "import numpy as np\n",
        "from scipy.stats import norm"
      ],
      "metadata": {
        "id": "XCVfxXU41OUE"
      },
      "execution_count": null,
      "outputs": []
    },
    {
      "cell_type": "code",
      "source": [
        "# 1) 모표준편차를 알고 있는 경우\n",
        "n = 36;N = 1000;x_bar = 100;mu = 99"
      ],
      "metadata": {
        "id": "9Ocbpj3PkmoH"
      },
      "execution_count": null,
      "outputs": []
    },
    {
      "cell_type": "code",
      "source": [
        "sd = 5;sigma = 2.5\n",
        "var = sd ** 2;sigma2 = sigma ** 2"
      ],
      "metadata": {
        "id": "VerW0hPT1mrs"
      },
      "execution_count": null,
      "outputs": []
    },
    {
      "cell_type": "code",
      "source": [
        "print(n,N,x_bar,mu,sd,sigma,var,sigma2)"
      ],
      "metadata": {
        "id": "akTdB24r14BI",
        "colab": {
          "base_uri": "https://localhost:8080/"
        },
        "outputId": "6b05a3fb-30c4-41df-ef32-59f0db96124f"
      },
      "execution_count": null,
      "outputs": [
        {
          "output_type": "stream",
          "name": "stdout",
          "text": [
            "36 1000 100 99 5 2.5 25 6.25\n"
          ]
        }
      ]
    },
    {
      "cell_type": "code",
      "source": [
        "# 검정통계량 = z statistics\n",
        "# 분자\t표본평균-모평균\n",
        "x_bar - mu"
      ],
      "metadata": {
        "id": "tBmBPl7A2BCR",
        "colab": {
          "base_uri": "https://localhost:8080/"
        },
        "outputId": "1859cf72-c896-498d-cc58-8bbcbabe3181"
      },
      "execution_count": null,
      "outputs": [
        {
          "output_type": "execute_result",
          "data": {
            "text/plain": [
              "1"
            ]
          },
          "metadata": {},
          "execution_count": 43
        }
      ]
    },
    {
      "cell_type": "code",
      "source": [
        "# 분모\t표준오차 = 모표준편차/제곱근(표본의 크기)\n",
        "sigma/np.sqrt(n)"
      ],
      "metadata": {
        "id": "Ntbbmb1O2TcW",
        "colab": {
          "base_uri": "https://localhost:8080/"
        },
        "outputId": "0244af86-9bd6-4abc-cbf8-7f906d571be4"
      },
      "execution_count": null,
      "outputs": [
        {
          "output_type": "execute_result",
          "data": {
            "text/plain": [
              "0.4166666666666667"
            ]
          },
          "metadata": {},
          "execution_count": 44
        }
      ]
    },
    {
      "cell_type": "code",
      "source": [
        "# 분자 / 분모\n",
        "zv = (x_bar - mu) / (sigma/np.sqrt(n));zv"
      ],
      "metadata": {
        "id": "12_a4HjX2c49",
        "colab": {
          "base_uri": "https://localhost:8080/"
        },
        "outputId": "12c1b01d-7116-44cc-ff18-4bee9bb0af61"
      },
      "execution_count": null,
      "outputs": [
        {
          "output_type": "execute_result",
          "data": {
            "text/plain": [
              "2.4"
            ]
          },
          "metadata": {},
          "execution_count": 45
        }
      ]
    },
    {
      "cell_type": "code",
      "source": [
        "# 임계값 = critical value\n",
        "# 유의수준, 양측검정\n",
        "alpha = 0.05\n",
        "# 임계값에 해당하는 누적면적 = 1 - alpha/2 = 0.975\n",
        "# ppf = 면적을 축의 값으로 변환\n",
        "cv = norm.ppf(1 - alpha/2);cv"
      ],
      "metadata": {
        "id": "XttuydhO2rDP",
        "colab": {
          "base_uri": "https://localhost:8080/"
        },
        "outputId": "c7db87a9-90e5-4bcd-c919-910360745f27"
      },
      "execution_count": null,
      "outputs": [
        {
          "output_type": "execute_result",
          "data": {
            "text/plain": [
              "1.959963984540054"
            ]
          },
          "metadata": {},
          "execution_count": 46
        }
      ]
    },
    {
      "cell_type": "code",
      "source": [
        "# 결론\n",
        "cv < zv\n",
        "# 오른쪽 = 기각역 = 귀무가설 기각\n",
        "# = 대립가설 채택 = 차이가 있다\n",
        "# = 통계적으로 유의한 차이가 있다\n",
        "# 이번 학기 학생들의 평균과 지난 20년 동안의 학생들의 평균과 차이가 있다."
      ],
      "metadata": {
        "colab": {
          "base_uri": "https://localhost:8080/"
        },
        "id": "A49gFtje3bsi",
        "outputId": "f9a3bb90-8eb2-4fce-d5b7-77cb98c5b3cb"
      },
      "execution_count": null,
      "outputs": [
        {
          "output_type": "execute_result",
          "data": {
            "text/plain": [
              "True"
            ]
          },
          "metadata": {},
          "execution_count": 47
        }
      ]
    },
    {
      "cell_type": "code",
      "source": [
        "# 유의확률\n",
        "# = 검정통계량에 해당하는 면적\n",
        "pv = 1 - norm.cdf(zv);pv = pv * 2;pv"
      ],
      "metadata": {
        "colab": {
          "base_uri": "https://localhost:8080/"
        },
        "id": "ERTiW5ii3khI",
        "outputId": "796b11f7-fb1d-4e1a-9d30-0924f3dd1c31"
      },
      "execution_count": null,
      "outputs": [
        {
          "output_type": "execute_result",
          "data": {
            "text/plain": [
              "0.01639507184919231"
            ]
          },
          "metadata": {},
          "execution_count": 48
        }
      ]
    },
    {
      "cell_type": "code",
      "source": [
        "# 결론\n",
        "alpha > pv\n",
        "# 오른쪽 = 기각역 = 귀무가설 기각\n",
        "# = 대립가설 채택 = 차이가 있다\n",
        "# = 통계적으로 유의한 차이가 있다\n",
        "# 이번 학기 학생들의 평균과 지난 20년 동안의 학생들의 평균과 차이가 있다."
      ],
      "metadata": {
        "colab": {
          "base_uri": "https://localhost:8080/"
        },
        "id": "_X2YDlXb5Ifo",
        "outputId": "5b31d98a-7cb7-4857-aa1f-56b09ab4a568"
      },
      "execution_count": null,
      "outputs": [
        {
          "output_type": "execute_result",
          "data": {
            "text/plain": [
              "True"
            ]
          },
          "metadata": {},
          "execution_count": 49
        }
      ]
    },
    {
      "cell_type": "code",
      "source": [
        "# 신뢰구간 confidence interval\n",
        "# 표본평균 ± 임계값 * 표준오차\n",
        "# 표준오차\n",
        "se = sigma/np.sqrt(n)\n",
        "# 하한값\n",
        "lower_ci = x_bar - (cv * se)\n",
        "# 상한값\n",
        "upper_ci = x_bar + (cv * se)\n",
        "# 신뢰구간 출력\n",
        "print(\"신뢰구간: [\", lower_ci, \"-\", upper_ci, \"]\")"
      ],
      "metadata": {
        "colab": {
          "base_uri": "https://localhost:8080/"
        },
        "outputId": "1b4e34b2-fd3e-4231-dc66-14b3c8648c22",
        "id": "YF2lrdOEiTzK"
      },
      "execution_count": null,
      "outputs": [
        {
          "output_type": "stream",
          "name": "stdout",
          "text": [
            "신뢰구간: [ 99.18334833977498 - 100.81665166022502 ]\n"
          ]
        }
      ]
    },
    {
      "cell_type": "markdown",
      "source": [
        "## 2) 모분산(모표준편차)을 몰라도 표본이 충분히 큰 경우(n > 30)"
      ],
      "metadata": {
        "id": "5nyL17fskztn"
      }
    },
    {
      "cell_type": "code",
      "source": [
        "# 2) 모표준편차를 알 수 없지만, 표본의 크기가 30 이상인 경우\n",
        "x = [61, 78, 73, 92, 71, 83, 58, 78, 94, 57, 74, 76, 62, 91, 53, 60, 97, 55, 92, 60, 93, 100, 65, 53, 54, 66, 73, 89, 61, 57, 60, 51, 99, 77, 74, 58, 58, 71, 74, 92, 50, 73, 63, 59, 93, 94, 72, 89, 88, 66, 83, 71, 53, 87, 66, 87, 99, 57, 64, 57, 98, 51, 89, 100, 81, 61, 68, 92, 64, 93, 93, 76, 83, 70, 52, 86, 55, 70, 94, 91, 59, 73, 98, 81, 86, 61, 75, 86, 88, 93, 54, 51, 69, 63, 71, 92, 71, 97, 72, 92, 74]"
      ],
      "metadata": {
        "id": "sDahU4SX2lCu"
      },
      "execution_count": null,
      "outputs": []
    },
    {
      "cell_type": "code",
      "source": [
        "mu = 76\n",
        "# 표본평균, 표본표준편차, 표본크기\n",
        "x_bar = np.mean(x);x_sd = np.std(x, ddof = 1);n = len(x)\n",
        "print(x_bar, x_sd, n)"
      ],
      "metadata": {
        "colab": {
          "base_uri": "https://localhost:8080/"
        },
        "id": "R-BBDBNPQUSX",
        "outputId": "a62ac711-65e5-4324-958e-7ee0bcd0bce3"
      },
      "execution_count": null,
      "outputs": [
        {
          "output_type": "stream",
          "name": "stdout",
          "text": [
            "74.5940594059406 15.05667839719092 101\n"
          ]
        }
      ]
    },
    {
      "cell_type": "code",
      "source": [
        "# 검정통계량\n",
        "# 분자\t표본평균-모평균\n",
        "x_bar - mu"
      ],
      "metadata": {
        "colab": {
          "base_uri": "https://localhost:8080/"
        },
        "id": "ZFtGH7vgRJBR",
        "outputId": "cbe7c1d3-cf74-4e58-bec2-7cb2d1f5b790"
      },
      "execution_count": null,
      "outputs": [
        {
          "output_type": "execute_result",
          "data": {
            "text/plain": [
              "-1.4059405940594019"
            ]
          },
          "metadata": {},
          "execution_count": 53
        }
      ]
    },
    {
      "cell_type": "code",
      "source": [
        "# 분모\t표준오차 = 표본표준편차/제곱근(표본의 크기)\n",
        "x_sd/np.sqrt(n)"
      ],
      "metadata": {
        "colab": {
          "base_uri": "https://localhost:8080/"
        },
        "id": "t11nCboFRJBS",
        "outputId": "707052b3-fea8-496b-90c0-5951ed8bfd4d"
      },
      "execution_count": null,
      "outputs": [
        {
          "output_type": "execute_result",
          "data": {
            "text/plain": [
              "1.4981954966236297"
            ]
          },
          "metadata": {},
          "execution_count": 54
        }
      ]
    },
    {
      "cell_type": "code",
      "source": [
        "# 분자 / 분모\n",
        "zv = (x_bar - mu) / (x_sd/np.sqrt(n));zv = abs(zv);zv"
      ],
      "metadata": {
        "colab": {
          "base_uri": "https://localhost:8080/"
        },
        "id": "HZrpabE1RJBS",
        "outputId": "945c4099-bcfc-44c5-a80f-63afae9d7979"
      },
      "execution_count": null,
      "outputs": [
        {
          "output_type": "execute_result",
          "data": {
            "text/plain": [
              "0.9384226539379301"
            ]
          },
          "metadata": {},
          "execution_count": 55
        }
      ]
    },
    {
      "cell_type": "code",
      "source": [
        "# 임계값\n",
        "# 유의수준, 양측검정\n",
        "alpha = 0.05\n",
        "# 임계값에 해당하는 누적면적 = 1 - alpha/2 = 0.975\n",
        "cv = norm.ppf(1 - alpha/2);cv"
      ],
      "metadata": {
        "colab": {
          "base_uri": "https://localhost:8080/"
        },
        "id": "S_YvfgoVRJBS",
        "outputId": "381b4fd8-8f3a-49ab-e26b-1aea15ff087d"
      },
      "execution_count": null,
      "outputs": [
        {
          "output_type": "execute_result",
          "data": {
            "text/plain": [
              "1.959963984540054"
            ]
          },
          "metadata": {},
          "execution_count": 56
        }
      ]
    },
    {
      "cell_type": "code",
      "source": [
        "# 결론\n",
        "cv < zv\n",
        "# 왼쪽 = 채택역 = 귀무가설 채택\n",
        "# = 대립가설 기각 = 차이가 없다\n",
        "# = 통계적으로 유의한 차이가 없다"
      ],
      "metadata": {
        "colab": {
          "base_uri": "https://localhost:8080/"
        },
        "outputId": "bd21b787-452f-4a60-a32f-9e3693b2e9a0",
        "id": "dD_g-sTHRJBS"
      },
      "execution_count": null,
      "outputs": [
        {
          "output_type": "execute_result",
          "data": {
            "text/plain": [
              "False"
            ]
          },
          "metadata": {},
          "execution_count": 57
        }
      ]
    },
    {
      "cell_type": "code",
      "source": [
        "# 유의확률\n",
        "# = 검정통계량에 해당하는 면적\n",
        "pv = 1 - norm.cdf(zv);pv = pv * 2;pv"
      ],
      "metadata": {
        "colab": {
          "base_uri": "https://localhost:8080/"
        },
        "outputId": "60b84cec-cef3-4341-fa6a-7ef00f3b3106",
        "id": "KRSXCk9mR_5O"
      },
      "execution_count": null,
      "outputs": [
        {
          "output_type": "execute_result",
          "data": {
            "text/plain": [
              "0.3480272484300375"
            ]
          },
          "metadata": {},
          "execution_count": 58
        }
      ]
    },
    {
      "cell_type": "code",
      "source": [
        "# 결론\n",
        "alpha > pv\n",
        "# 왼쪽 = 채택역 = 귀무가설 채택\n",
        "# = 대립가설 기각 = 차이가 없다\n",
        "# = 통계적으로 유의한 차이가 없다"
      ],
      "metadata": {
        "colab": {
          "base_uri": "https://localhost:8080/"
        },
        "outputId": "7bbd3028-8187-479d-b42f-c0d8bf30f9d3",
        "id": "cY-ULImxR_5O"
      },
      "execution_count": null,
      "outputs": [
        {
          "output_type": "execute_result",
          "data": {
            "text/plain": [
              "False"
            ]
          },
          "metadata": {},
          "execution_count": 59
        }
      ]
    },
    {
      "cell_type": "code",
      "source": [
        "# 신뢰구간 confidence interval\n",
        "# 표본평균 ± 임계값 * 표준오차\n",
        "# 표준오차\n",
        "se = x_sd/np.sqrt(n)\n",
        "# 하한값\n",
        "lower_ci = x_bar - (cv * se)\n",
        "# 상한값\n",
        "upper_ci = x_bar + (cv * se)\n",
        "# 신뢰구간 출력\n",
        "print(\"신뢰구간: [\", lower_ci, \"-\", upper_ci, \"]\")"
      ],
      "metadata": {
        "colab": {
          "base_uri": "https://localhost:8080/"
        },
        "outputId": "facc2d77-0b70-4626-d0d6-93c9d93a8020",
        "id": "mf9Xio_WigtJ"
      },
      "execution_count": null,
      "outputs": [
        {
          "output_type": "stream",
          "name": "stdout",
          "text": [
            "신뢰구간: [ 71.65765019075819 - 77.530468621123 ]\n"
          ]
        }
      ]
    },
    {
      "cell_type": "markdown",
      "source": [
        "### 함수 사용하여 해보기"
      ],
      "metadata": {
        "id": "ZhaxDD6EiwUP"
      }
    },
    {
      "cell_type": "code",
      "source": [
        "# z검정 함수\n",
        "def ztest(x, mu, sigma):\n",
        "  zv = (np.mean(x) - mu) / (sigma/np.sqrt(len(x)))\n",
        "  if zv < 0:\n",
        "    zv = abs(zv)\n",
        "  pv = (1 - norm.cdf(zv))* 2\n",
        "  return(print(\"검정통계량: \", zv, \"유의확률: \", pv))"
      ],
      "metadata": {
        "id": "vu-6qOhUTEhb"
      },
      "execution_count": null,
      "outputs": []
    },
    {
      "cell_type": "code",
      "source": [
        "ztest(x = x, mu = mu, sigma = x_sd)"
      ],
      "metadata": {
        "colab": {
          "base_uri": "https://localhost:8080/"
        },
        "id": "I-LzcAKGUGmW",
        "outputId": "3a7c52c0-3ce0-49d9-bdc7-c5bb4de1c74c"
      },
      "execution_count": null,
      "outputs": [
        {
          "output_type": "stream",
          "name": "stdout",
          "text": [
            "검정통계량:  0.9384226539379301 유의확률:  0.3480272484300375\n"
          ]
        }
      ]
    },
    {
      "cell_type": "markdown",
      "source": [
        "## 3) 표본의 크기가 충분히 크지 않은 경우(n <= 30) & 모분산(모표준편차)를 모름"
      ],
      "metadata": {
        "id": "VBopR_K4k3Dc"
      }
    },
    {
      "cell_type": "code",
      "source": [
        "from scipy.stats import t"
      ],
      "metadata": {
        "id": "w991_SVQhl3k"
      },
      "execution_count": null,
      "outputs": []
    },
    {
      "cell_type": "code",
      "source": [
        "# 3) 모표준편차를 알 수 없고, 표본의 크기가 30 보다 작은 경우\n",
        "mu = 500;x_bar = 513;x_sd = 73.77;n = 20\n",
        "print(mu, x_bar, x_sd, n)"
      ],
      "metadata": {
        "colab": {
          "base_uri": "https://localhost:8080/"
        },
        "id": "LUJnyG7pgcHA",
        "outputId": "9434074e-1001-4477-8d9f-36940f72bbba"
      },
      "execution_count": null,
      "outputs": [
        {
          "output_type": "stream",
          "name": "stdout",
          "text": [
            "500 513 73.77 20\n"
          ]
        }
      ]
    },
    {
      "cell_type": "code",
      "source": [
        "# 검정통계량\n",
        "# 분자\t표본평균-모평균\n",
        "x_bar - mu"
      ],
      "metadata": {
        "colab": {
          "base_uri": "https://localhost:8080/"
        },
        "outputId": "bb5fd97d-35f5-4ec4-8395-02253b3c6c13",
        "id": "RhEcngRMgcHB"
      },
      "execution_count": null,
      "outputs": [
        {
          "output_type": "execute_result",
          "data": {
            "text/plain": [
              "13"
            ]
          },
          "metadata": {},
          "execution_count": 65
        }
      ]
    },
    {
      "cell_type": "code",
      "source": [
        "# 분모\t표준오차 = 표본표준편차/제곱근(표본의 크기)\n",
        "x_sd/np.sqrt(n)"
      ],
      "metadata": {
        "colab": {
          "base_uri": "https://localhost:8080/"
        },
        "outputId": "5ef3b377-21d6-46e8-ea10-d50b7e25b07c",
        "id": "aMd54m4pgcHB"
      },
      "execution_count": null,
      "outputs": [
        {
          "output_type": "execute_result",
          "data": {
            "text/plain": [
              "16.49547347001595"
            ]
          },
          "metadata": {},
          "execution_count": 66
        }
      ]
    },
    {
      "cell_type": "code",
      "source": [
        "# 분자 / 분모\n",
        "tv = (x_bar - mu) / (x_sd/np.sqrt(n));tv"
      ],
      "metadata": {
        "colab": {
          "base_uri": "https://localhost:8080/"
        },
        "outputId": "649c6a07-f1d8-4395-c1c5-58a62d6073a4",
        "id": "4G4JExnogcHB"
      },
      "execution_count": null,
      "outputs": [
        {
          "output_type": "execute_result",
          "data": {
            "text/plain": [
              "0.7880949900365262"
            ]
          },
          "metadata": {},
          "execution_count": 67
        }
      ]
    },
    {
      "cell_type": "code",
      "source": [
        "# 임계값\n",
        "# 유의수준, 양측검정\n",
        "alpha = 0.1\n",
        "# 자유도\n",
        "df = n - 1;df"
      ],
      "metadata": {
        "colab": {
          "base_uri": "https://localhost:8080/"
        },
        "outputId": "fa2cd044-90fc-4089-ec24-d21bedd759a0",
        "id": "p5klG7COgcHB"
      },
      "execution_count": null,
      "outputs": [
        {
          "output_type": "execute_result",
          "data": {
            "text/plain": [
              "19"
            ]
          },
          "metadata": {},
          "execution_count": 68
        }
      ]
    },
    {
      "cell_type": "code",
      "source": [
        "# 임계값에 해당하는 누적면적 = 1 - alpha/2 = 0.95\n",
        "cv = t.ppf(1 - alpha/2, df);cv"
      ],
      "metadata": {
        "colab": {
          "base_uri": "https://localhost:8080/"
        },
        "id": "MiAXPLpohm0c",
        "outputId": "f2cb445f-0175-4890-d497-699928f052bb"
      },
      "execution_count": null,
      "outputs": [
        {
          "output_type": "execute_result",
          "data": {
            "text/plain": [
              "1.729132811521367"
            ]
          },
          "metadata": {},
          "execution_count": 69
        }
      ]
    },
    {
      "cell_type": "code",
      "source": [
        "# 결론\n",
        "cv < tv\n",
        "# 왼쪽 = 채택역 = 귀무가설 채택\n",
        "# = 대립가설 기각 = 차이가 없다\n",
        "# = 통계적으로 유의한 차이가 없다"
      ],
      "metadata": {
        "colab": {
          "base_uri": "https://localhost:8080/"
        },
        "outputId": "3006f1b8-367b-48cf-8b56-ea1eb85ee114",
        "id": "JrWDc4TxgcHC"
      },
      "execution_count": null,
      "outputs": [
        {
          "output_type": "execute_result",
          "data": {
            "text/plain": [
              "False"
            ]
          },
          "metadata": {},
          "execution_count": 70
        }
      ]
    },
    {
      "cell_type": "code",
      "source": [
        "# 유의확률\n",
        "# = 검정통계량에 해당하는 면적\n",
        "pv = 1 - t.cdf(tv, df);pv = pv * 2;pv"
      ],
      "metadata": {
        "colab": {
          "base_uri": "https://localhost:8080/"
        },
        "outputId": "28bbffe3-c6a7-4cb3-a349-26bab85d874e",
        "id": "SfPgbYpogcHC"
      },
      "execution_count": null,
      "outputs": [
        {
          "output_type": "execute_result",
          "data": {
            "text/plain": [
              "0.44036346277833216"
            ]
          },
          "metadata": {},
          "execution_count": 71
        }
      ]
    },
    {
      "cell_type": "code",
      "source": [
        "# 결론\n",
        "alpha > pv\n",
        "# 왼쪽 = 채택역 = 귀무가설 채택\n",
        "# = 대립가설 기각 = 차이가 없다\n",
        "# = 통계적으로 유의한 차이가 없다"
      ],
      "metadata": {
        "colab": {
          "base_uri": "https://localhost:8080/"
        },
        "outputId": "583017c5-6e12-406b-ccce-2adb15fc7425",
        "id": "6nJwllmlgcHC"
      },
      "execution_count": null,
      "outputs": [
        {
          "output_type": "execute_result",
          "data": {
            "text/plain": [
              "False"
            ]
          },
          "metadata": {},
          "execution_count": 72
        }
      ]
    },
    {
      "cell_type": "code",
      "source": [
        "# 신뢰구간 confidence interval\n",
        "# 표본평균 ± 임계값 * 표준오차\n",
        "# 표준오차\n",
        "se = x_sd/np.sqrt(n)\n",
        "# 하한값\n",
        "lower_ci = x_bar - (cv * se)\n",
        "# 상한값\n",
        "upper_ci = x_bar + (cv * se)\n",
        "# 신뢰구간 출력\n",
        "print(\"신뢰구간: [\", lower_ci, \"-\", upper_ci, \"]\")"
      ],
      "metadata": {
        "colab": {
          "base_uri": "https://localhost:8080/"
        },
        "id": "d-rTnSYnUUL5",
        "outputId": "3769fbf0-442f-4aca-ca0e-7bd40af44ec2"
      },
      "execution_count": null,
      "outputs": [
        {
          "output_type": "stream",
          "name": "stdout",
          "text": [
            "신뢰구간: [ 484.4771355814152 - 541.5228644185848 ]\n"
          ]
        }
      ]
    },
    {
      "cell_type": "markdown",
      "source": [
        "## 3번 케이스 - 정규성 검정하여 진행해보자"
      ],
      "metadata": {
        "id": "YZs8rys2FWcL"
      }
    },
    {
      "cell_type": "code",
      "source": [
        "# 가설 설정\n",
        "# Ho = 모평균의 값은 76 이다. (모평균 = 표본평균)\n",
        "# H1 = 모평균의 값은 76 이 아니다. (모평균 ≠ 표본평균)\n",
        "# 유의수준 설정\n",
        "# 기본적으로 0.05\n",
        "# 검정통계량 / 유의확률 계산\n",
        "# 귀무가설 기각 여부 판단 및 해석"
      ],
      "metadata": {
        "id": "EpuYMDbTJ0vR"
      },
      "execution_count": null,
      "outputs": []
    },
    {
      "cell_type": "code",
      "source": [
        "import pandas as pd\n",
        "import scipy.stats as stats\n",
        "from scipy.stats import shapiro\n",
        "from scipy.stats import t\n",
        "mu = 76\n",
        "x = [61, 78, 73, 92, 71, 83, 58, 78, 94, 57, 74, 76, 62, 91, 53, 60, 97, 55, 92, 60]"
      ],
      "metadata": {
        "id": "4ieaL9x_F6vn"
      },
      "execution_count": null,
      "outputs": []
    },
    {
      "cell_type": "code",
      "source": [
        "# 정규성 검정\n",
        "print(shapiro(x))\n",
        "pv = shapiro(x)[1]\n",
        "alpha = 0.05\n",
        "print(alpha > pv)\n",
        "# 유의확률이 0.05 보다 작은지 큰지 확인\n",
        "# False = 0.05 보다 크면 귀무가설 채택 = 정규성을 가짐\n",
        "# True = 0.05 보다 작으면 귀무가설 기각 = 정규성을 가지지 않음"
      ],
      "metadata": {
        "colab": {
          "base_uri": "https://localhost:8080/"
        },
        "outputId": "b06d8cdd-4efa-4957-868e-3489b12bf8eb",
        "id": "bglg8QwVFjSo"
      },
      "execution_count": null,
      "outputs": [
        {
          "output_type": "stream",
          "name": "stdout",
          "text": [
            "ShapiroResult(statistic=0.9163713537034351, pvalue=0.08438287022037215)\n",
            "False\n"
          ]
        }
      ]
    },
    {
      "cell_type": "markdown",
      "source": [
        "### 정규성 가지는 경우\n",
        "- t-test"
      ],
      "metadata": {
        "id": "6pt-4MVIGjxY"
      }
    },
    {
      "cell_type": "code",
      "source": [
        "from scipy.stats import ttest_1samp\n",
        "tv, pv = ttest_1samp(a = x, popmean = mu)\n",
        "print(\"검정통계량: \", abs(tv))\n",
        "print(\"유의확률: \", pv)\n",
        "# 0.05 보다 작으면 귀무가설 기각 = 차이가 있음\n",
        "# 0.05 보다 크면 귀무가설 채택 = 차이가 없음\n",
        "# 유의수준 0.05 에서 x 평균은 모평균과 같다고 할 수 있다.\n",
        "# 여기서 주의할 점은 유의확률이 t분포를 사용한 결과 = 3번 케이스\n",
        "\n",
        "# 신뢰구간\n",
        "result = ttest_1samp(a = x, popmean = mu)\n",
        "ci = result.confidence_interval()\n",
        "print(\"신뢰구간: \", ci)\n",
        "print(\"신뢰구간: \", round(ci[0], 2), \"-\", round(ci[1], 2))"
      ],
      "metadata": {
        "id": "evWNcD69hHNJ",
        "colab": {
          "base_uri": "https://localhost:8080/"
        },
        "outputId": "f386aade-d478-43f7-da20-bc14b718d711"
      },
      "execution_count": null,
      "outputs": [
        {
          "output_type": "stream",
          "name": "stdout",
          "text": [
            "검정통계량:  0.8440535541250771\n",
            "유의확률:  0.4091414535785669\n",
            "신뢰구간:  ConfidenceInterval(low=66.4307453194258, high=80.0692546805742)\n",
            "신뢰구간:  66.43 - 80.07\n"
          ]
        }
      ]
    },
    {
      "cell_type": "markdown",
      "source": [
        "### 정규성 가지지 않는 경우"
      ],
      "metadata": {
        "id": "Qppb7o29GoyI"
      }
    },
    {
      "cell_type": "code",
      "source": [
        "# 비모수 통계\n",
        "# 윌콕슨 부호 순위 검정\n",
        "stats.wilcoxon(pd.Series(x) - mu, alternative=\"two-sided\")\n",
        "# 0.05 보다 작으면 귀무가설 기각 = 차이가 있음\n",
        "# 0.05 보다 크면 귀무가설 채택 = 차이가 없음\n",
        "\n",
        "# 유의수준 0.05 에서 x 평균은 모평균과 같다고 할 수 있다."
      ],
      "metadata": {
        "colab": {
          "base_uri": "https://localhost:8080/"
        },
        "id": "aV5nWwBhHHJ6",
        "outputId": "926d1d99-a9a8-4f63-b8f1-42891bc13f72"
      },
      "execution_count": null,
      "outputs": [
        {
          "output_type": "execute_result",
          "data": {
            "text/plain": [
              "WilcoxonResult(statistic=73.5, pvalue=0.38610669095577943)"
            ]
          },
          "metadata": {},
          "execution_count": 78
        }
      ]
    },
    {
      "cell_type": "markdown",
      "source": [
        "## 6번"
      ],
      "metadata": {
        "id": "2S-adzuwrTuT"
      }
    },
    {
      "cell_type": "code",
      "source": [
        "x = [22402, 37205, 33931, 35347, 39892, 22705, 37290, 28060, 25047, 28541, 33301, 38738, 34655, 26029, 22329, 27007, 29143, 20961, 26025]"
      ],
      "metadata": {
        "id": "7_zQcxhH72xY"
      },
      "execution_count": null,
      "outputs": []
    },
    {
      "cell_type": "code",
      "source": [
        "mu = 35676\n",
        "# 표본평균, 표본표준편차, 표본크기\n",
        "x_bar = np.mean(x);x_sd = np.std(x, ddof = 1);n = len(x)\n",
        "print(x_bar, x_sd, n)"
      ],
      "metadata": {
        "colab": {
          "base_uri": "https://localhost:8080/"
        },
        "outputId": "d4b0c742-5ca9-4199-b3ac-bb5e84eff837",
        "id": "tZz5EZTy-Mkg"
      },
      "execution_count": null,
      "outputs": [
        {
          "output_type": "stream",
          "name": "stdout",
          "text": [
            "29926.736842105263 6141.607153416814 19\n"
          ]
        }
      ]
    },
    {
      "cell_type": "code",
      "source": [
        "# 검정통계량\n",
        "# 분자\t표본평균-모평균\n",
        "x_bar - mu"
      ],
      "metadata": {
        "colab": {
          "base_uri": "https://localhost:8080/"
        },
        "outputId": "cd80e3e8-0b97-427c-b496-6d5cbf7e49e0",
        "id": "bmDYFRUU-Mkg"
      },
      "execution_count": null,
      "outputs": [
        {
          "output_type": "execute_result",
          "data": {
            "text/plain": [
              "-5749.263157894737"
            ]
          },
          "metadata": {},
          "execution_count": 108
        }
      ]
    },
    {
      "cell_type": "code",
      "source": [
        "# 분모\t표준오차 = 표본표준편차/제곱근(표본의 크기)\n",
        "x_sd/np.sqrt(n)"
      ],
      "metadata": {
        "colab": {
          "base_uri": "https://localhost:8080/"
        },
        "outputId": "0972bc06-f688-480d-c91e-7e459ee25a04",
        "id": "hCsWWkS_-Mkg"
      },
      "execution_count": null,
      "outputs": [
        {
          "output_type": "execute_result",
          "data": {
            "text/plain": [
              "1408.9813122458102"
            ]
          },
          "metadata": {},
          "execution_count": 109
        }
      ]
    },
    {
      "cell_type": "code",
      "source": [
        "# 분자 / 분모\n",
        "tv = (x_bar - mu) / (x_sd/np.sqrt(n));tv = abs(tv);tv"
      ],
      "metadata": {
        "colab": {
          "base_uri": "https://localhost:8080/"
        },
        "outputId": "8932fa2c-81e2-4544-dc65-c353e9349341",
        "id": "VjRdBWIg_Q2t"
      },
      "execution_count": null,
      "outputs": [
        {
          "output_type": "execute_result",
          "data": {
            "text/plain": [
              "4.0804396111761365"
            ]
          },
          "metadata": {},
          "execution_count": 110
        }
      ]
    },
    {
      "cell_type": "code",
      "source": [
        "# 임계값\n",
        "# 유의수준, 양측검정\n",
        "alpha = 0.05\n",
        "# 자유도\n",
        "df = n - 1;df"
      ],
      "metadata": {
        "colab": {
          "base_uri": "https://localhost:8080/"
        },
        "outputId": "676c40fa-af9f-4cc0-acc1-b40782704749",
        "id": "bYKnMgFH_I34"
      },
      "execution_count": null,
      "outputs": [
        {
          "output_type": "execute_result",
          "data": {
            "text/plain": [
              "18"
            ]
          },
          "metadata": {},
          "execution_count": 111
        }
      ]
    },
    {
      "cell_type": "code",
      "source": [
        "# 임계값에 해당하는 누적면적 = 1 - alpha/2 = 0.975\n",
        "cv = t.ppf(1 - alpha/2, df);cv"
      ],
      "metadata": {
        "colab": {
          "base_uri": "https://localhost:8080/"
        },
        "outputId": "2375546c-4622-4902-d63d-0b7c29afeae8",
        "id": "hj1P2h6G_I35"
      },
      "execution_count": null,
      "outputs": [
        {
          "output_type": "execute_result",
          "data": {
            "text/plain": [
              "2.10092204024096"
            ]
          },
          "metadata": {},
          "execution_count": 112
        }
      ]
    },
    {
      "cell_type": "code",
      "source": [
        "# 결론\n",
        "cv < tv\n",
        "# 오른쪽 = 기각역 = 귀무가설 기각\n",
        "# = 대립가설 채택 = 차이가 있다\n",
        "# = 통계적으로 유의한 차이가 있다"
      ],
      "metadata": {
        "colab": {
          "base_uri": "https://localhost:8080/"
        },
        "outputId": "10af75b4-b62d-4b92-a416-2ea6603fff7c",
        "id": "jGHpWsfN_I35"
      },
      "execution_count": null,
      "outputs": [
        {
          "output_type": "execute_result",
          "data": {
            "text/plain": [
              "True"
            ]
          },
          "metadata": {},
          "execution_count": 113
        }
      ]
    },
    {
      "cell_type": "code",
      "source": [
        "# 유의확률\n",
        "# = 검정통계량에 해당하는 면적\n",
        "pv = 1 - t.cdf(tv, df);pv = pv * 2;pv"
      ],
      "metadata": {
        "colab": {
          "base_uri": "https://localhost:8080/"
        },
        "outputId": "6d9ba568-ffa8-4df8-e9ba-c0de2099a76b",
        "id": "UotInwxv_I36"
      },
      "execution_count": null,
      "outputs": [
        {
          "output_type": "execute_result",
          "data": {
            "text/plain": [
              "0.0007021250551453306"
            ]
          },
          "metadata": {},
          "execution_count": 114
        }
      ]
    },
    {
      "cell_type": "code",
      "source": [
        "# 결론\n",
        "alpha > pv\n",
        "# 오른쪽 = 기각역 = 귀무가설 기각\n",
        "# = 대립가설 채택 = 차이가 있다\n",
        "# = 통계적으로 유의한 차이가 있다"
      ],
      "metadata": {
        "colab": {
          "base_uri": "https://localhost:8080/"
        },
        "outputId": "ab7ce828-c02b-410c-8a26-74bc6027fa64",
        "id": "rl3Dm1AJ_I36"
      },
      "execution_count": null,
      "outputs": [
        {
          "output_type": "execute_result",
          "data": {
            "text/plain": [
              "True"
            ]
          },
          "metadata": {},
          "execution_count": 115
        }
      ]
    },
    {
      "cell_type": "code",
      "source": [
        "# 신뢰구간 confidence interval\n",
        "# 표본평균 ± 임계값 * 표준오차\n",
        "# 표준오차\n",
        "se = x_sd/np.sqrt(n)\n",
        "# 하한값\n",
        "lower_ci = x_bar - (cv * se)\n",
        "# 상한값\n",
        "upper_ci = x_bar + (cv * se)\n",
        "# 신뢰구간 출력\n",
        "print(\"신뢰구간: [\", lower_ci, \"-\", upper_ci, \"]\")"
      ],
      "metadata": {
        "colab": {
          "base_uri": "https://localhost:8080/"
        },
        "outputId": "8dfe6336-b85c-4cb4-c9d0-80018ff88b0c",
        "id": "BKhmsUmE_I36"
      },
      "execution_count": null,
      "outputs": [
        {
          "output_type": "stream",
          "name": "stdout",
          "text": [
            "신뢰구간: [ 26966.57694892041 - 32886.896735290116 ]\n"
          ]
        }
      ]
    },
    {
      "cell_type": "code",
      "source": [
        "# 6번 문제\n",
        "sales = [22402, 37205, 33931, 35347, 39892, 22705, 37290, 28060, 25047, 28541, 33301, 38738, 34655, 26029, 22329, 27007, 29143, 20961, 26025]\n",
        "# 3) 표본의 크기가 충분히 크지 않은 경우(n <= 30) & 모분산(모표준편차)를 모름\n",
        "mu = 35676"
      ],
      "metadata": {
        "id": "vtfLWPyxBmG9"
      },
      "execution_count": null,
      "outputs": []
    },
    {
      "cell_type": "code",
      "source": [
        "# 정규성 검정\n",
        "print(shapiro(sales))\n",
        "pv = shapiro(sales)[1]\n",
        "alpha = 0.05\n",
        "print(alpha > pv)\n",
        "# 유의확률이 0.05 보다 작은지 큰지 확인\n",
        "# False = 0.05 보다 크면 귀무가설 채택 = 정규성을 가짐\n",
        "# True = 0.05 보다 작으면 귀무가설 기각 = 정규성을 가지지 않음"
      ],
      "metadata": {
        "colab": {
          "base_uri": "https://localhost:8080/"
        },
        "outputId": "1f8dda96-7060-4a0e-b929-478fd629b9a8",
        "id": "6C2RCv5NwMvu"
      },
      "execution_count": null,
      "outputs": [
        {
          "output_type": "stream",
          "name": "stdout",
          "text": [
            "ShapiroResult(statistic=0.9311549336700413, pvalue=0.1818824247085794)\n",
            "False\n"
          ]
        }
      ]
    },
    {
      "cell_type": "code",
      "source": [
        "from scipy.stats import ttest_1samp\n",
        "tv, pv = ttest_1samp(a = sales, popmean = mu)\n",
        "print(\"검정통계량: \", abs(tv))\n",
        "print(\"유의확률: \", pv)"
      ],
      "metadata": {
        "id": "QdMUxWhQBx_F",
        "colab": {
          "base_uri": "https://localhost:8080/"
        },
        "outputId": "04f5c925-b7ab-4e6f-8731-b63b6a215059"
      },
      "execution_count": null,
      "outputs": [
        {
          "output_type": "stream",
          "name": "stdout",
          "text": [
            "검정통계량:  4.0804396111761365\n",
            "유의확률:  0.000702125055145388\n"
          ]
        }
      ]
    },
    {
      "cell_type": "code",
      "source": [
        "# 신뢰구간\n",
        "result = ttest_1samp(a = sales, popmean = mu)\n",
        "ci = result.confidence_interval()\n",
        "print(\"신뢰구간: \", ci)\n",
        "print(\"신뢰구간: \", round(ci[0], 2), \"-\", round(ci[1], 2))"
      ],
      "metadata": {
        "colab": {
          "base_uri": "https://localhost:8080/"
        },
        "id": "M7IR4yHmaCPT",
        "outputId": "fc9d9a4d-58a0-44f4-8c55-8d6d64be0bee"
      },
      "execution_count": null,
      "outputs": [
        {
          "output_type": "stream",
          "name": "stdout",
          "text": [
            "신뢰구간:  ConfidenceInterval(low=26966.57694892041, high=32886.896735290116)\n",
            "신뢰구간:  26966.58 - 32886.9\n"
          ]
        }
      ]
    },
    {
      "cell_type": "markdown",
      "source": [
        "# 독립표본 t검정"
      ],
      "metadata": {
        "id": "YD3oQocfrpRb"
      }
    },
    {
      "cell_type": "markdown",
      "source": [
        "## 등분산 가정"
      ],
      "metadata": {
        "id": "xuxNZpkWruRD"
      }
    },
    {
      "cell_type": "code",
      "source": [
        "import numpy as np\n",
        "from scipy.stats import t"
      ],
      "metadata": {
        "id": "VibsSy2g1ImH"
      },
      "execution_count": null,
      "outputs": []
    },
    {
      "cell_type": "code",
      "source": [
        "x1 =[7, 5, 5, 3, 4, 7, 3, 6, 1, 2, 10, 9, 3, 10, 2, 8, 5, 5, 8, 1, 2, 5, 1, 12, 8, 4, 15, 5, 3, 4]\n",
        "x2 = [5, 3, 4, 4, 2, 3, 4, 5, 2, 5, 4, 7, 5, 4, 6, 7, 6, 2, 8, 7, 8, 8, 7, 9, 9, 5, 7, 8, 6, 6]"
      ],
      "metadata": {
        "id": "kXrZtK711OrY"
      },
      "execution_count": null,
      "outputs": []
    },
    {
      "cell_type": "code",
      "source": [
        "# 표본평균, 표본분산, 표본크기, 자유도\n",
        "x1_m = np.mean(x1);x2_m = np.mean(x2)\n",
        "x1_s2 = np.var(x1, ddof = 1);x2_s2 = np.var(x2, ddof = 1)\n",
        "n1 = len(x1);n2 = len(x2)\n",
        "df1 = n1 - 1;df2 = n2 -1\n",
        "print(x1_m,x2_m,x1_s2,x2_s2,n1,n2,df1,df2)"
      ],
      "metadata": {
        "id": "4vA7UKpx1ox-",
        "colab": {
          "base_uri": "https://localhost:8080/"
        },
        "outputId": "329cebee-21b8-4cde-b3f9-8103c4b19c24"
      },
      "execution_count": null,
      "outputs": [
        {
          "output_type": "stream",
          "name": "stdout",
          "text": [
            "5.433333333333334 5.533333333333333 11.702298850574715 4.257471264367816 30 30 29 29\n"
          ]
        }
      ]
    },
    {
      "cell_type": "code",
      "source": [
        "# 통합분산추정치 = (1표본자유도*1표본분산+2표본자유도*2표본분산) / (전체자유도 = 1표본크기 - 1 + 2표본크기 - 1)\n",
        "# 분자 = (1표본자유도*1표본분산+2표본자유도*2표본분산)\n",
        "df1 * x1_s2 + df2 * x2_s2"
      ],
      "metadata": {
        "id": "J-GSJduP2iWv",
        "colab": {
          "base_uri": "https://localhost:8080/"
        },
        "outputId": "eb8faaac-9ce4-49d9-f505-69225a5e4a76"
      },
      "execution_count": null,
      "outputs": [
        {
          "output_type": "execute_result",
          "data": {
            "text/plain": [
              "462.83333333333337"
            ]
          },
          "metadata": {},
          "execution_count": 126
        }
      ]
    },
    {
      "cell_type": "code",
      "source": [
        "# 분모 = 전체자유도\n",
        "df1 + df2"
      ],
      "metadata": {
        "id": "Ar7rrSBT3Cuw",
        "colab": {
          "base_uri": "https://localhost:8080/"
        },
        "outputId": "4d976da8-cf9d-43d0-952a-09d5a4784aa7"
      },
      "execution_count": null,
      "outputs": [
        {
          "output_type": "execute_result",
          "data": {
            "text/plain": [
              "58"
            ]
          },
          "metadata": {},
          "execution_count": 127
        }
      ]
    },
    {
      "cell_type": "code",
      "source": [
        "# 분자/분모\n",
        "sp2 = (df1 * x1_s2 + df2 * x2_s2)/(df1 + df2);sp2"
      ],
      "metadata": {
        "id": "hMe0Bxwc3Jwu",
        "colab": {
          "base_uri": "https://localhost:8080/"
        },
        "outputId": "acc64f66-19a8-496e-8014-4f651630436d"
      },
      "execution_count": null,
      "outputs": [
        {
          "output_type": "execute_result",
          "data": {
            "text/plain": [
              "7.979885057471265"
            ]
          },
          "metadata": {},
          "execution_count": 128
        }
      ]
    },
    {
      "cell_type": "code",
      "source": [
        "# 검정통계량 = (1표본평균 - 2표본평균) / 제곱근(통합분산/1표본크기 + 통합분산/2표본크기)\n",
        "# 분자 = (1표본평균 - 2표본평균)\n",
        "x1_m - x2_m"
      ],
      "metadata": {
        "id": "DA5v7EIG1skn",
        "colab": {
          "base_uri": "https://localhost:8080/"
        },
        "outputId": "5a3fa006-8266-4b0a-f3a6-923ab62fb884"
      },
      "execution_count": null,
      "outputs": [
        {
          "output_type": "execute_result",
          "data": {
            "text/plain": [
              "-0.09999999999999964"
            ]
          },
          "metadata": {},
          "execution_count": 129
        }
      ]
    },
    {
      "cell_type": "code",
      "source": [
        "# 분모 = 제곱근(통합분산/1표본크기 + 통합분산/2표본크기)\n",
        "np.sqrt((sp2/n1) + (sp2/n2))"
      ],
      "metadata": {
        "id": "7v3T10uU3fu_",
        "colab": {
          "base_uri": "https://localhost:8080/"
        },
        "outputId": "d695e42b-ea21-4511-a57a-27349f412165"
      },
      "execution_count": null,
      "outputs": [
        {
          "output_type": "execute_result",
          "data": {
            "text/plain": [
              "0.7293780481785499"
            ]
          },
          "metadata": {},
          "execution_count": 130
        }
      ]
    },
    {
      "cell_type": "code",
      "source": [
        "# 분자/분모\n",
        "tv = (x1_m - x2_m)/np.sqrt((sp2/n1) + (sp2/n2))\n",
        "tv = abs(tv);tv"
      ],
      "metadata": {
        "id": "48OsWBWi3xt-",
        "colab": {
          "base_uri": "https://localhost:8080/"
        },
        "outputId": "f6d987c0-6f57-4cc6-d212-f77b572705e3"
      },
      "execution_count": null,
      "outputs": [
        {
          "output_type": "execute_result",
          "data": {
            "text/plain": [
              "0.13710311168498437"
            ]
          },
          "metadata": {},
          "execution_count": 131
        }
      ]
    },
    {
      "cell_type": "code",
      "source": [
        "# 임계값, 유의수준 0.05, 양측검정, 자유도\n",
        "alpha = 0.05\n",
        "df = df1 + df2;df"
      ],
      "metadata": {
        "colab": {
          "base_uri": "https://localhost:8080/"
        },
        "id": "hO0SEWIk38qG",
        "outputId": "10186717-1dcb-41a6-a88e-53911423e9df"
      },
      "execution_count": null,
      "outputs": [
        {
          "output_type": "execute_result",
          "data": {
            "text/plain": [
              "58"
            ]
          },
          "metadata": {},
          "execution_count": 132
        }
      ]
    },
    {
      "cell_type": "code",
      "source": [
        "# 1 - alpha/2 = 0.975\n",
        "# ppf = 면적 => 축의 값\n",
        "cv = t.ppf(1 - alpha/2, df);cv"
      ],
      "metadata": {
        "colab": {
          "base_uri": "https://localhost:8080/"
        },
        "id": "fIgXRorm4Hk3",
        "outputId": "6ab99b1a-8797-4d70-87c1-859442789ca4"
      },
      "execution_count": null,
      "outputs": [
        {
          "output_type": "execute_result",
          "data": {
            "text/plain": [
              "2.0017174841452356"
            ]
          },
          "metadata": {},
          "execution_count": 133
        }
      ]
    },
    {
      "cell_type": "code",
      "source": [
        "# 결론 => 우리가 원하는 결과 cv < tv => True\n",
        "cv < tv\n",
        "# 왼쪽 = 채택역 = 귀무가설 채택\n",
        "# = 대립가설 기각 = 차이가 없다\n",
        "# = 통계적으로 유의한 차이가 없다"
      ],
      "metadata": {
        "colab": {
          "base_uri": "https://localhost:8080/"
        },
        "id": "1LgFXKz94gpO",
        "outputId": "0c35de78-4f32-418a-a98e-bea95b7cbe05"
      },
      "execution_count": null,
      "outputs": [
        {
          "output_type": "execute_result",
          "data": {
            "text/plain": [
              "False"
            ]
          },
          "metadata": {},
          "execution_count": 134
        }
      ]
    },
    {
      "cell_type": "code",
      "source": [
        "# 유의확률\n",
        "pv = (1 - t.cdf(tv, df)) * 2; pv"
      ],
      "metadata": {
        "colab": {
          "base_uri": "https://localhost:8080/"
        },
        "id": "JBS3oEcX4qyO",
        "outputId": "018c65c6-8435-44a2-bba0-66b0c760ba17"
      },
      "execution_count": null,
      "outputs": [
        {
          "output_type": "execute_result",
          "data": {
            "text/plain": [
              "0.8914241208918985"
            ]
          },
          "metadata": {},
          "execution_count": 135
        }
      ]
    },
    {
      "cell_type": "code",
      "source": [
        "# 결론 => 우리가 원하는 결과 alpha > pv => True\n",
        "alpha > pv\n",
        "# 왼쪽 = 채택역 = 귀무가설 채택\n",
        "# = 대립가설 기각 = 차이가 없다\n",
        "# = 통계적으로 유의한 차이가 없다"
      ],
      "metadata": {
        "colab": {
          "base_uri": "https://localhost:8080/"
        },
        "id": "rhaO_MZk8XmN",
        "outputId": "a21fd178-67ea-4203-a7f3-72c1919ff94f"
      },
      "execution_count": null,
      "outputs": [
        {
          "output_type": "execute_result",
          "data": {
            "text/plain": [
              "False"
            ]
          },
          "metadata": {},
          "execution_count": 136
        }
      ]
    },
    {
      "cell_type": "markdown",
      "source": [
        "## 정규성, 등분산검정으로 진행"
      ],
      "metadata": {
        "id": "J8h7NMhBPvkC"
      }
    },
    {
      "cell_type": "code",
      "source": [
        "# 가설 설정\n",
        "# Ho = 두 모평균 사이의 차이는 없다. (모평균1 = 모평균2)\n",
        "# H1 = 두 표본평균 사이의 차이는 있다. (표본평균1 ≠ 표본평균2)\n",
        "# 유의수준 설정\n",
        "# 기본적으로 0.05\n",
        "# 정규성, 등분산성 가설검정\n",
        "# 검정통계량 / 유의확률 계산\n",
        "# 귀무가설 기각 여부 판단 및 해석"
      ],
      "metadata": {
        "id": "qwW_q5FPRJJb"
      },
      "execution_count": null,
      "outputs": []
    },
    {
      "cell_type": "code",
      "source": [
        "import pandas as pd\n",
        "import numpy as np\n",
        "import scipy.stats as stats\n",
        "from scipy.stats import shapiro\n",
        "from scipy.stats import ttest_ind\n",
        "import matplotlib.pyplot as plt\n",
        "from scipy.stats import t"
      ],
      "metadata": {
        "id": "QFAtftEWNW1t"
      },
      "execution_count": null,
      "outputs": []
    },
    {
      "cell_type": "code",
      "source": [
        "x1 =[7, 5, 5, 3, 4, 7, 3, 6, 1, 2, 10, 9, 3, 10, 2, 8, 5, 5, 8, 1, 2, 5, 1, 12, 8, 4, 15, 5, 3, 4]\n",
        "x2 = [5, 3, 4, 4, 2, 3, 4, 5, 2, 5, 4, 7, 5, 4, 6, 7, 6, 2, 8, 7, 8, 8, 7, 9, 9, 5, 7, 8, 6, 6]"
      ],
      "metadata": {
        "id": "FBITLTejP0wB"
      },
      "execution_count": null,
      "outputs": []
    },
    {
      "cell_type": "code",
      "source": [
        "# 정규성 검정\n",
        "print(shapiro(x1))\n",
        "print(shapiro(x2))\n",
        "# 유의확률이 0.5 보다 작은지 큰지 확인\n",
        "# 0.5 보다 작으면 귀무가설 기각 = 정규성을 가지지 않음\n",
        "# 0.5 보다 크면 귀무가설 채택 = 정규성을 가짐"
      ],
      "metadata": {
        "colab": {
          "base_uri": "https://localhost:8080/"
        },
        "outputId": "ee42e9d2-91f4-4d15-d432-702f0a094569",
        "id": "4n4dzFqoNW1t"
      },
      "execution_count": null,
      "outputs": [
        {
          "output_type": "stream",
          "name": "stdout",
          "text": [
            "ShapiroResult(statistic=0.9292907629575096, pvalue=0.047020254400976895)\n",
            "ShapiroResult(statistic=0.9518999172467568, pvalue=0.1900303953744074)\n"
          ]
        }
      ]
    },
    {
      "cell_type": "markdown",
      "source": [
        "#### 정규성 가지는 경우\n",
        "- 등분산 검정"
      ],
      "metadata": {
        "id": "CGlFXBr9So7d"
      }
    },
    {
      "cell_type": "markdown",
      "source": [
        "#### 등분산검정"
      ],
      "metadata": {
        "id": "70z2uE5AG2XH"
      }
    },
    {
      "cell_type": "code",
      "source": [
        "# 레빈 - 정규성 만족 안함\n",
        "from scipy.stats import levene\n",
        "levene(x1, x2)"
      ],
      "metadata": {
        "colab": {
          "base_uri": "https://localhost:8080/"
        },
        "id": "2HEmVr0ioQGt",
        "outputId": "4b9ef476-8fc6-446b-ccf5-4cf831f1295e"
      },
      "execution_count": null,
      "outputs": [
        {
          "output_type": "execute_result",
          "data": {
            "text/plain": [
              "LeveneResult(statistic=3.342862412393952, pvalue=0.0726409738218915)"
            ]
          },
          "metadata": {},
          "execution_count": 148
        }
      ]
    },
    {
      "cell_type": "markdown",
      "source": [
        "### 기타 등분산 검정"
      ],
      "metadata": {
        "id": "3y5H1UYa9-ZC"
      }
    },
    {
      "cell_type": "code",
      "source": [
        "# 바틀렛 - 정규성 만족\n",
        "from scipy.stats import bartlett\n",
        "bartlett(x1, x2)"
      ],
      "metadata": {
        "colab": {
          "base_uri": "https://localhost:8080/"
        },
        "id": "rMkdTjeIn9s8",
        "outputId": "88dff22f-1240-4ed3-f2e9-a4ca0ca423b5"
      },
      "execution_count": null,
      "outputs": [
        {
          "output_type": "execute_result",
          "data": {
            "text/plain": [
              "BartlettResult(statistic=6.995618330032188, pvalue=0.008170947838026072)"
            ]
          },
          "metadata": {},
          "execution_count": 149
        }
      ]
    },
    {
      "cell_type": "code",
      "source": [
        "# 플리그너 - 정규성 만족 안함, 더 안정적 결과\n",
        "from scipy.stats import fligner\n",
        "fligner(x1, x2)"
      ],
      "metadata": {
        "colab": {
          "base_uri": "https://localhost:8080/"
        },
        "id": "FdYzoVYdoxqy",
        "outputId": "0a3694de-d936-485f-93eb-3f882da879e9"
      },
      "execution_count": null,
      "outputs": [
        {
          "output_type": "execute_result",
          "data": {
            "text/plain": [
              "FlignerResult(statistic=3.508273694910684, pvalue=0.061063051338622554)"
            ]
          },
          "metadata": {},
          "execution_count": 150
        }
      ]
    },
    {
      "cell_type": "markdown",
      "source": [
        "### 등분산 가정"
      ],
      "metadata": {
        "id": "hCPOGydYSFTG"
      }
    },
    {
      "cell_type": "code",
      "source": [
        "# 기본값 equal_var = True\n",
        "# ttest_ind(x1, x2)\n",
        "ttest_ind(x1, x2, equal_var = True)"
      ],
      "metadata": {
        "colab": {
          "base_uri": "https://localhost:8080/"
        },
        "id": "_XrEoz0h_CRp",
        "outputId": "ac4c22a6-27cf-4518-e9de-d40fbd679519"
      },
      "execution_count": null,
      "outputs": [
        {
          "output_type": "execute_result",
          "data": {
            "text/plain": [
              "TtestResult(statistic=-0.13710311168498437, pvalue=0.8914241208918983, df=58.0)"
            ]
          },
          "metadata": {},
          "execution_count": 151
        }
      ]
    },
    {
      "cell_type": "code",
      "source": [
        "from scipy.stats import ttest_ind\n",
        "# tv, pv = ttest_ind(x1, x2)\n",
        "tv, pv = ttest_ind(x1, x2, equal_var = True)\n",
        "print(\"검정통계량: \", abs(tv))\n",
        "print(\"유의확률: \", pv)"
      ],
      "metadata": {
        "colab": {
          "base_uri": "https://localhost:8080/"
        },
        "id": "QMM_9y-j8lTm",
        "outputId": "21f71fd9-362b-43ed-b422-fc1efc8f4572"
      },
      "execution_count": null,
      "outputs": [
        {
          "output_type": "stream",
          "name": "stdout",
          "text": [
            "검정통계량:  0.13710311168498437\n",
            "유의확률:  0.8914241208918983\n"
          ]
        }
      ]
    },
    {
      "cell_type": "code",
      "source": [
        "print(np.mean(x1))\n",
        "print(np.mean(x2))"
      ],
      "metadata": {
        "colab": {
          "base_uri": "https://localhost:8080/"
        },
        "id": "MC331B88Ui8w",
        "outputId": "964d0ef9-0c0d-4ddd-ed94-ea5305929d86"
      },
      "execution_count": null,
      "outputs": [
        {
          "output_type": "stream",
          "name": "stdout",
          "text": [
            "5.433333333333334\n",
            "5.533333333333333\n"
          ]
        }
      ]
    },
    {
      "cell_type": "markdown",
      "source": [
        "### 이분산 가정"
      ],
      "metadata": {
        "id": "P7yhSb0iSK4l"
      }
    },
    {
      "cell_type": "code",
      "source": [
        "from scipy.stats import ttest_ind\n",
        "# 기본값 equal_var = True\n",
        "ttest_ind(x1, x2, equal_var = False)"
      ],
      "metadata": {
        "colab": {
          "base_uri": "https://localhost:8080/"
        },
        "outputId": "250cd68d-6742-4153-b102-602555001d73",
        "id": "H_iklCcQSK4s"
      },
      "execution_count": null,
      "outputs": [
        {
          "output_type": "execute_result",
          "data": {
            "text/plain": [
              "TtestResult(statistic=-0.13710311168498437, pvalue=0.8915271547944409, df=47.63474735627105)"
            ]
          },
          "metadata": {},
          "execution_count": 156
        }
      ]
    },
    {
      "cell_type": "code",
      "source": [
        "from scipy.stats import ttest_ind\n",
        "tv, pv = ttest_ind(x1, x2, equal_var = False)\n",
        "print(\"검정통계량: \", abs(tv))\n",
        "print(\"유의확률: \", pv)"
      ],
      "metadata": {
        "colab": {
          "base_uri": "https://localhost:8080/"
        },
        "outputId": "77cdfb73-2169-4e73-8b52-2f34fa7e6ddb",
        "id": "sQrDS7akSK4s"
      },
      "execution_count": null,
      "outputs": [
        {
          "output_type": "stream",
          "name": "stdout",
          "text": [
            "검정통계량:  0.13710311168498437\n",
            "유의확률:  0.8915271547944409\n"
          ]
        }
      ]
    },
    {
      "cell_type": "markdown",
      "source": [
        "### 정규성 가지지 않는 경우"
      ],
      "metadata": {
        "id": "oOAd4HvJUgl4"
      }
    },
    {
      "cell_type": "code",
      "source": [
        "# 비모수 검정\n",
        "# Mann–Whitney U test\n",
        "stats.mannwhitneyu(x1, x2, alternative=\"two-sided\")\n",
        "# 0.05 보다 작으면 귀무가설 기각 = 차이가 있음\n",
        "# 0.05 보다 크면 귀무가설 채택 = 차이가 없음"
      ],
      "metadata": {
        "colab": {
          "base_uri": "https://localhost:8080/"
        },
        "id": "MCeF1si4sTOY",
        "outputId": "54004f98-3532-47e3-f454-85333a688366"
      },
      "execution_count": null,
      "outputs": [
        {
          "output_type": "execute_result",
          "data": {
            "text/plain": [
              "MannwhitneyuResult(statistic=405.0, pvalue=0.5075449838388612)"
            ]
          },
          "metadata": {},
          "execution_count": 158
        }
      ]
    },
    {
      "cell_type": "markdown",
      "source": [
        "## 문제1"
      ],
      "metadata": {
        "id": "Imb5iH90iNmL"
      }
    },
    {
      "cell_type": "code",
      "source": [
        "# 문제1\n",
        "import numpy as np\n",
        "from scipy.stats import t"
      ],
      "metadata": {
        "id": "E_v_UBJLAJ1b"
      },
      "execution_count": null,
      "outputs": []
    },
    {
      "cell_type": "code",
      "source": [
        "# x1 = 남학생, x2 = 여학생\n",
        "x1 = [9, 8, 4, 9, 3, 8, 10, 8, 9, 8, 10, 7, 6, 12]\n",
        "x2 = [3, 5, 1, 2, 6, 4, 3, 6, 7, 9, 7, 3, 7, 6, 8, 8]"
      ],
      "metadata": {
        "id": "OYH6AV4zaXJ7"
      },
      "execution_count": null,
      "outputs": []
    },
    {
      "cell_type": "code",
      "source": [
        "# 표본평균, 표본분산, 표본크기, 자유도\n",
        "x1_m = np.mean(x1);x2_m = np.mean(x2)\n",
        "x1_s2 = np.var(x1, ddof = 1);x2_s2 = np.var(x2, ddof = 1)\n",
        "n1 = len(x1);n2 = len(x2)\n",
        "df1 = n1 - 1;df2 = n2 -1\n",
        "print(x1_m,x2_m,x1_s2,x2_s2,n1,n2,df1,df2)"
      ],
      "metadata": {
        "colab": {
          "base_uri": "https://localhost:8080/"
        },
        "id": "GjdrmQ42aXJ7",
        "outputId": "ebf8f308-3d29-43c0-97f1-099f5ff7ff1c"
      },
      "execution_count": null,
      "outputs": [
        {
          "output_type": "stream",
          "name": "stdout",
          "text": [
            "7.928571428571429 5.3125 5.60989010989011 5.695833333333334 14 16 13 15\n"
          ]
        }
      ]
    },
    {
      "cell_type": "code",
      "source": [
        "# 등분산 가정\n",
        "# 통합분산추정치 = (1표본자유도*1표본분산+2표본자유도*2표본분산) / (전체자유도 = 1표본크기 - 1 + 2표본크기 - 1)\n",
        "# 분자 = (1표본자유도*1표본분산+2표본자유도*2표본분산)\n",
        "df1 * x1_s2 + df2 * x2_s2"
      ],
      "metadata": {
        "colab": {
          "base_uri": "https://localhost:8080/"
        },
        "id": "2HKYotpjaXJ7",
        "outputId": "ff843e92-1b60-4b9a-86de-2a190bd92daa"
      },
      "execution_count": null,
      "outputs": [
        {
          "output_type": "execute_result",
          "data": {
            "text/plain": [
              "158.36607142857144"
            ]
          },
          "metadata": {},
          "execution_count": 4
        }
      ]
    },
    {
      "cell_type": "code",
      "source": [
        "# 분모 = 전체자유도\n",
        "df1 + df2"
      ],
      "metadata": {
        "colab": {
          "base_uri": "https://localhost:8080/"
        },
        "id": "oo2fDd5waXJ7",
        "outputId": "db6508f1-aa15-46b5-acca-93b0af40140d"
      },
      "execution_count": null,
      "outputs": [
        {
          "output_type": "execute_result",
          "data": {
            "text/plain": [
              "28"
            ]
          },
          "metadata": {},
          "execution_count": 5
        }
      ]
    },
    {
      "cell_type": "code",
      "source": [
        "# 분자/분모\n",
        "sp2 = (df1 * x1_s2 + df2 * x2_s2)/(df1 + df2);sp2"
      ],
      "metadata": {
        "colab": {
          "base_uri": "https://localhost:8080/"
        },
        "id": "NpScn3PgaXJ7",
        "outputId": "af0174d6-d4fe-4086-8e8b-b1a35bdcdc3c"
      },
      "execution_count": null,
      "outputs": [
        {
          "output_type": "execute_result",
          "data": {
            "text/plain": [
              "5.6559311224489806"
            ]
          },
          "metadata": {},
          "execution_count": 6
        }
      ]
    },
    {
      "cell_type": "code",
      "source": [
        "# 검정통계량 = (1표본평균 - 2표본평균) / 제곱근(통합분산/1표본크기 + 통합분산/2표본크기)\n",
        "# 분자 = (1표본평균 - 2표본평균)\n",
        "x1_m - x2_m"
      ],
      "metadata": {
        "colab": {
          "base_uri": "https://localhost:8080/"
        },
        "id": "mb4A1-cbaXJ7",
        "outputId": "9ebf1c96-f926-46d5-94d2-2f75c8476500"
      },
      "execution_count": null,
      "outputs": [
        {
          "output_type": "execute_result",
          "data": {
            "text/plain": [
              "2.616071428571429"
            ]
          },
          "metadata": {},
          "execution_count": 7
        }
      ]
    },
    {
      "cell_type": "code",
      "source": [
        "# 분모 = 제곱근(통합분산/1표본크기 + 통합분산/2표본크기)\n",
        "np.sqrt((sp2/n1) + (sp2/n2))"
      ],
      "metadata": {
        "colab": {
          "base_uri": "https://localhost:8080/"
        },
        "id": "XoBiwWQaaXJ7",
        "outputId": "6b9884e4-9172-404c-f357-da39aee422db"
      },
      "execution_count": null,
      "outputs": [
        {
          "output_type": "execute_result",
          "data": {
            "text/plain": [
              "0.8703394598247217"
            ]
          },
          "metadata": {},
          "execution_count": 8
        }
      ]
    },
    {
      "cell_type": "code",
      "source": [
        "# 분자/분모\n",
        "tv = (x1_m - x2_m)/np.sqrt((sp2/n1) + (sp2/n2))\n",
        "tv = abs(tv);tv"
      ],
      "metadata": {
        "colab": {
          "base_uri": "https://localhost:8080/"
        },
        "id": "NM-mh5hCaXJ8",
        "outputId": "134fe178-605b-46d1-f06c-ca6e62118103"
      },
      "execution_count": null,
      "outputs": [
        {
          "output_type": "execute_result",
          "data": {
            "text/plain": [
              "3.005805837067621"
            ]
          },
          "metadata": {},
          "execution_count": 9
        }
      ]
    },
    {
      "cell_type": "code",
      "source": [
        "# 임계값, 유의수준 0.05, 단측검정, 자유도\n",
        "alpha = 0.05\n",
        "df = df1 + df2;df"
      ],
      "metadata": {
        "colab": {
          "base_uri": "https://localhost:8080/"
        },
        "outputId": "956cc800-9ee5-4798-d04b-2f6d1df161da",
        "id": "CFhc6grSaXJ8"
      },
      "execution_count": null,
      "outputs": [
        {
          "output_type": "execute_result",
          "data": {
            "text/plain": [
              "28"
            ]
          },
          "metadata": {},
          "execution_count": 10
        }
      ]
    },
    {
      "cell_type": "code",
      "source": [
        "# 1 - alpha = 0.95\n",
        "cv = t.ppf(1 - alpha, df);cv"
      ],
      "metadata": {
        "colab": {
          "base_uri": "https://localhost:8080/"
        },
        "outputId": "2aae3e41-c4fa-4f71-84c0-428eba8e3574",
        "id": "9NVLv_u5aXJ8"
      },
      "execution_count": null,
      "outputs": [
        {
          "output_type": "execute_result",
          "data": {
            "text/plain": [
              "1.701130934265931"
            ]
          },
          "metadata": {},
          "execution_count": 11
        }
      ]
    },
    {
      "cell_type": "code",
      "source": [
        "# 결론 => 우리가 원하는 결과 cv < tv => True\n",
        "cv < tv\n",
        "# 오른쪽 = 기각역 = 귀무가설 기각\n",
        "# = 대립가설 채택 = 차이가 있다\n",
        "# = 통계적으로 유의한 차이가 있다"
      ],
      "metadata": {
        "colab": {
          "base_uri": "https://localhost:8080/"
        },
        "outputId": "48952b40-6863-4eb8-cbb1-40fe823a1b29",
        "id": "jmS74IdRaXJ9"
      },
      "execution_count": null,
      "outputs": [
        {
          "output_type": "execute_result",
          "data": {
            "text/plain": [
              "True"
            ]
          },
          "metadata": {},
          "execution_count": 12
        }
      ]
    },
    {
      "cell_type": "code",
      "source": [
        "# 유의확률\n",
        "pv = (1 - t.cdf(tv, df));pv"
      ],
      "metadata": {
        "colab": {
          "base_uri": "https://localhost:8080/"
        },
        "outputId": "12526933-60cd-4658-a310-9419757a6000",
        "id": "Tg0RZn3eaXJ9"
      },
      "execution_count": null,
      "outputs": [
        {
          "output_type": "execute_result",
          "data": {
            "text/plain": [
              "0.00276863108877079"
            ]
          },
          "metadata": {},
          "execution_count": 13
        }
      ]
    },
    {
      "cell_type": "code",
      "source": [
        "# 결론 => 우리가 원하는 결과 alpha > pv => True\n",
        "alpha > pv\n",
        "# 오른쪽 = 기각역 = 귀무가설 기각\n",
        "# = 대립가설 채택 = 차이가 있다\n",
        "# = 통계적으로 유의한 차이가 있다\n",
        "# 남학생과 여학생의 손을 드는 횟수 평균 차이가 있다.\n",
        "# 남학생의 손을 드는 평균 횟수가 여학생보다 많다."
      ],
      "metadata": {
        "colab": {
          "base_uri": "https://localhost:8080/"
        },
        "outputId": "6f20b054-61b2-4532-97cd-7c3bbb6846c3",
        "id": "yXhd7wx6aXJ9"
      },
      "execution_count": null,
      "outputs": [
        {
          "output_type": "execute_result",
          "data": {
            "text/plain": [
              "True"
            ]
          },
          "metadata": {},
          "execution_count": 14
        }
      ]
    },
    {
      "cell_type": "markdown",
      "source": [
        "## 함수 이용"
      ],
      "metadata": {
        "id": "nOcP2WjABsBz"
      }
    },
    {
      "cell_type": "code",
      "source": [
        "from scipy.stats import shapiro\n",
        "# 정규성 검정\n",
        "print(shapiro(x1))\n",
        "print(shapiro(x2))\n",
        "# 유의확률이 0.5 보다 작은지 큰지 확인\n",
        "# 0.5 보다 작으면 귀무가설 기각 = 정규성을 가지지 않음\n",
        "# 0.5 보다 크면 귀무가설 채택 = 정규성을 가짐"
      ],
      "metadata": {
        "colab": {
          "base_uri": "https://localhost:8080/"
        },
        "outputId": "596b9eae-63c5-429e-e1b8-d271e86fc5ef",
        "id": "xRkceSmzB1iS"
      },
      "execution_count": null,
      "outputs": [
        {
          "output_type": "stream",
          "name": "stdout",
          "text": [
            "ShapiroResult(statistic=0.9348924727368566, pvalue=0.35680274749035434)\n",
            "ShapiroResult(statistic=0.9470001883759136, pvalue=0.44370520099354616)\n"
          ]
        }
      ]
    },
    {
      "cell_type": "code",
      "source": [
        "# 등분산 검정, 레빈\n",
        "from scipy.stats import levene\n",
        "levene(x1, x2)\n",
        "# p-value < 0.05 => 차이가 있다 = 분산이 다르다 = 이분산가정\n",
        "# p-value > 0.05 => 차이가 없다 = 분산이 같다 = 등분산가정"
      ],
      "metadata": {
        "colab": {
          "base_uri": "https://localhost:8080/"
        },
        "id": "2ex8MfpQc-yp",
        "outputId": "baa6aa7d-e3d0-4b53-8c75-d19cc958c628"
      },
      "execution_count": null,
      "outputs": [
        {
          "output_type": "execute_result",
          "data": {
            "text/plain": [
              "LeveneResult(statistic=0.2663173064325955, pvalue=0.6098644945678466)"
            ]
          },
          "metadata": {},
          "execution_count": 22
        }
      ]
    },
    {
      "cell_type": "code",
      "source": [
        "from scipy.stats import ttest_ind\n",
        "# 기본값 equal_var = True\n",
        "# 단측검정 alternative = 'greater'\n",
        "ttest_ind(x1, x2, alternative = 'greater')\n",
        "# ttest_ind(x1, x2, equal_var = True)"
      ],
      "metadata": {
        "colab": {
          "base_uri": "https://localhost:8080/"
        },
        "outputId": "9b3e5cc9-51f9-4a91-ee4c-837ce1229bed",
        "id": "I5gFoZ4KaXJ9"
      },
      "execution_count": null,
      "outputs": [
        {
          "output_type": "execute_result",
          "data": {
            "text/plain": [
              "TtestResult(statistic=3.005805837067621, pvalue=0.002768631088770782, df=28.0)"
            ]
          },
          "metadata": {},
          "execution_count": 23
        }
      ]
    },
    {
      "cell_type": "code",
      "source": [
        "from scipy.stats import ttest_ind\n",
        "tv, pv = ttest_ind(x1, x2, alternative = 'greater')\n",
        "print(\"검정통계량: \", abs(tv))\n",
        "print(\"유의확률: \", pv)"
      ],
      "metadata": {
        "colab": {
          "base_uri": "https://localhost:8080/"
        },
        "outputId": "f5b6997f-711d-4a3b-9e8f-d737be4d1eae",
        "id": "yLn4LRL2aXJ9"
      },
      "execution_count": null,
      "outputs": [
        {
          "output_type": "stream",
          "name": "stdout",
          "text": [
            "검정통계량:  3.005805837067621\n",
            "유의확률:  0.002768631088770782\n"
          ]
        }
      ]
    },
    {
      "cell_type": "code",
      "source": [
        "print(np.mean(x1))\n",
        "print(np.mean(x2))"
      ],
      "metadata": {
        "colab": {
          "base_uri": "https://localhost:8080/"
        },
        "outputId": "967a0cc1-02de-4efe-cb8a-06aa017ad79e",
        "id": "a6Yrs20cFh0l"
      },
      "execution_count": null,
      "outputs": [
        {
          "output_type": "stream",
          "name": "stdout",
          "text": [
            "7.928571428571429\n",
            "5.3125\n"
          ]
        }
      ]
    },
    {
      "cell_type": "markdown",
      "source": [
        "## 문제2"
      ],
      "metadata": {
        "id": "dlwRzSGtiRdf"
      }
    },
    {
      "cell_type": "code",
      "source": [
        "# 문제2\n",
        "# 임계값, 유의수준 0.01, 양측검정, 자유도\n",
        "alpha = 0.01\n",
        "df = df1 + df2;df"
      ],
      "metadata": {
        "colab": {
          "base_uri": "https://localhost:8080/"
        },
        "outputId": "a3510e38-2448-41d4-c5d6-386b4cd0dd84",
        "id": "LkL1qUBIhD2y"
      },
      "execution_count": null,
      "outputs": [
        {
          "output_type": "execute_result",
          "data": {
            "text/plain": [
              "28"
            ]
          },
          "metadata": {},
          "execution_count": 26
        }
      ]
    },
    {
      "cell_type": "code",
      "source": [
        "# 1 - alpha/2 = 1 - 0.01/2\n",
        "cv = t.ppf(1 - alpha/2, df);cv"
      ],
      "metadata": {
        "colab": {
          "base_uri": "https://localhost:8080/"
        },
        "outputId": "f265f420-970a-4a8f-d9f8-ddb835dd44e9",
        "id": "tY2FJfZfhD2z"
      },
      "execution_count": null,
      "outputs": [
        {
          "output_type": "execute_result",
          "data": {
            "text/plain": [
              "2.763262455461066"
            ]
          },
          "metadata": {},
          "execution_count": 27
        }
      ]
    },
    {
      "cell_type": "code",
      "source": [
        "# 결론 => 우리가 원하는 결과 cv < tv => True\n",
        "cv < tv\n",
        "# 오른쪽 = 기각역 = 귀무가설 기각\n",
        "# = 대립가설 채택 = 차이가 있다\n",
        "# = 통계적으로 유의한 차이가 있다"
      ],
      "metadata": {
        "colab": {
          "base_uri": "https://localhost:8080/"
        },
        "outputId": "87c96cd5-7460-4a33-ba55-5ffaa9c5ec9a",
        "id": "58TGtqvohD2z"
      },
      "execution_count": null,
      "outputs": [
        {
          "output_type": "execute_result",
          "data": {
            "text/plain": [
              "True"
            ]
          },
          "metadata": {},
          "execution_count": 28
        }
      ]
    },
    {
      "cell_type": "code",
      "source": [
        "# 유의확률\n",
        "pv = (1 - t.cdf(tv, df)) * 2;pv"
      ],
      "metadata": {
        "colab": {
          "base_uri": "https://localhost:8080/"
        },
        "outputId": "40ea1993-d426-4585-f834-996b44211a2e",
        "id": "y-eb5ADBhD2z"
      },
      "execution_count": null,
      "outputs": [
        {
          "output_type": "execute_result",
          "data": {
            "text/plain": [
              "0.00553726217754158"
            ]
          },
          "metadata": {},
          "execution_count": 29
        }
      ]
    },
    {
      "cell_type": "code",
      "source": [
        "# 결론 => 우리가 원하는 결과 alpha > pv => True\n",
        "alpha > pv\n",
        "# 오른쪽 = 기각역 = 귀무가설 기각\n",
        "# = 대립가설 채택 = 차이가 있다\n",
        "# = 통계적으로 유의한 차이가 있다\n",
        "# 남학생과 여학생의 손을 드는 평균 횟수에 차이가 있다."
      ],
      "metadata": {
        "colab": {
          "base_uri": "https://localhost:8080/"
        },
        "outputId": "b4cf66cc-26db-4334-ac4d-f47cfb660307",
        "id": "gXXp75FThD20"
      },
      "execution_count": null,
      "outputs": [
        {
          "output_type": "execute_result",
          "data": {
            "text/plain": [
              "True"
            ]
          },
          "metadata": {},
          "execution_count": 30
        }
      ]
    },
    {
      "cell_type": "markdown",
      "source": [
        "## 함수 이용"
      ],
      "metadata": {
        "id": "SAb4v_C4GvNz"
      }
    },
    {
      "cell_type": "code",
      "source": [
        "# 정규성 검정\n",
        "print(shapiro(x1))\n",
        "print(shapiro(x2))\n",
        "# 유의확률이 0.5 보다 작은지 큰지 확인\n",
        "# 0.5 보다 작으면 귀무가설 기각 = 정규성을 가지지 않음\n",
        "# 0.5 보다 크면 귀무가설 채택 = 정규성을 가짐"
      ],
      "metadata": {
        "colab": {
          "base_uri": "https://localhost:8080/"
        },
        "outputId": "a11451a4-3827-4bd6-abb2-5c6be6f01669",
        "id": "iVd-5r9jGxPe"
      },
      "execution_count": null,
      "outputs": [
        {
          "output_type": "stream",
          "name": "stdout",
          "text": [
            "ShapiroResult(statistic=0.9348924727368566, pvalue=0.35680274749035434)\n",
            "ShapiroResult(statistic=0.9470001883759136, pvalue=0.44370520099354616)\n"
          ]
        }
      ]
    },
    {
      "cell_type": "code",
      "source": [
        "# 등분산 검정, 레빈\n",
        "from scipy.stats import levene\n",
        "levene(x1, x2)\n",
        "# p-value < 0.05 => 차이가 있다 = 분산이 다르다 = 이분산가정\n",
        "# p-value > 0.05 => 차이가 없다 = 분산이 같다 = 등분산가정"
      ],
      "metadata": {
        "colab": {
          "base_uri": "https://localhost:8080/"
        },
        "outputId": "661ad200-7f31-40bd-ab92-3e0255c82524",
        "id": "jwN0xGnWJ9no"
      },
      "execution_count": null,
      "outputs": [
        {
          "output_type": "execute_result",
          "data": {
            "text/plain": [
              "LeveneResult(statistic=0.2663173064325955, pvalue=0.6098644945678466)"
            ]
          },
          "metadata": {},
          "execution_count": 32
        }
      ]
    },
    {
      "cell_type": "code",
      "source": [
        "from scipy.stats import ttest_ind\n",
        "# 기본값 equal_var = True\n",
        "ttest_ind(x1, x2)\n",
        "# ttest_ind(x1, x2, equal_var = True)"
      ],
      "metadata": {
        "colab": {
          "base_uri": "https://localhost:8080/"
        },
        "outputId": "bf091cef-8c93-4ce4-a23e-4bfd0ad476cb",
        "id": "Dqp5roWarNxG"
      },
      "execution_count": null,
      "outputs": [
        {
          "output_type": "execute_result",
          "data": {
            "text/plain": [
              "TtestResult(statistic=3.005805837067621, pvalue=0.005537262177541564, df=28.0)"
            ]
          },
          "metadata": {},
          "execution_count": 33
        }
      ]
    },
    {
      "cell_type": "code",
      "source": [
        "from scipy.stats import ttest_ind\n",
        "tv, pv = ttest_ind(x1, x2)\n",
        "print(\"검정통계량: \", abs(tv))\n",
        "print(\"유의확률: \", pv)"
      ],
      "metadata": {
        "colab": {
          "base_uri": "https://localhost:8080/"
        },
        "outputId": "a5ac1cb5-7875-4466-c345-67c82bd8209c",
        "id": "_e8wtb5rrNxG"
      },
      "execution_count": null,
      "outputs": [
        {
          "output_type": "stream",
          "name": "stdout",
          "text": [
            "검정통계량:  3.005805837067621\n",
            "유의확률:  0.005537262177541564\n"
          ]
        }
      ]
    },
    {
      "cell_type": "code",
      "source": [
        "print(np.mean(x1))\n",
        "print(np.mean(x2))"
      ],
      "metadata": {
        "colab": {
          "base_uri": "https://localhost:8080/"
        },
        "outputId": "6f23a332-56b1-4cb4-90e9-812709a63731",
        "id": "xTTYOFyKGzmP"
      },
      "execution_count": null,
      "outputs": [
        {
          "output_type": "stream",
          "name": "stdout",
          "text": [
            "7.928571428571429\n",
            "5.3125\n"
          ]
        }
      ]
    }
  ]
}